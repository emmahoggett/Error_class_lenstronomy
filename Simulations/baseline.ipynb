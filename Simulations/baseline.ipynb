{
 "cells": [
  {
   "cell_type": "code",
   "execution_count": 4,
   "id": "employed-smile",
   "metadata": {},
   "outputs": [],
   "source": [
    "import matplotlib.pyplot as plt\n",
    "import numpy as np\n",
    "import pandas as pd\n",
    "from sklearn.model_selection import train_test_split, KFold\n",
    "\n",
    "from torch.utils.data import DataLoader\n",
    "import torch\n",
    "\n",
    "from helpers.data_generation.file_management import read_hdf5\n",
    "from helpers.data_generation.error_generation_chi2 import Residual, CombineDataset\n",
    "from helpers.model.helpers_model import NeuralNet\n",
    "\n",
    "import warnings\n",
    "warnings.filterwarnings('ignore') "
   ]
  },
  {
   "cell_type": "code",
   "execution_count": 5,
   "id": "dominant-confidentiality",
   "metadata": {
    "tags": []
   },
   "outputs": [],
   "source": [
    "ratio = 0.75\n",
    "percent = np.array([0.005, 0.015, 0.005])\n",
    "size = 6000\n",
    "\n",
    "batch_size = 50\n",
    "max_epoch = 150\n",
    "\n",
    "opti_name = np.array(['SGD/momentum', 'Adam', 'SGD'])\n",
    "\n",
    "\n",
    "\n",
    "res = Residual()\n",
    "res.build(size, ratio = ratio, per_error = percent)\n",
    "\n",
    "str_ID =  \"S\"+str(size)+\"R\"+str(int(ratio*100))\n",
    "[final_array, metadata] = read_hdf5(str_ID)\n",
    "metadata ['ID'] = np.arange(0,final_array.shape[0])"
   ]
  },
  {
   "cell_type": "code",
   "execution_count": 3,
   "id": "fitting-alert",
   "metadata": {},
   "outputs": [
    {
     "name": "stdout",
     "output_type": "stream",
     "text": [
      "----------------------------------------------------------------------------------\n",
      "Finished Training- Normalized: SGD/momentum - epoch: 57.000 - auc: 0.945 \n",
      "\n",
      "----------------------------------------------------------------------------------\n",
      "Finished Training- Normalized: Adam - epoch: 22.000 - auc: 0.950 \n",
      "\n",
      "----------------------------------------------------------------------------------\n",
      "Finished Training- Normalized: SGD - epoch: 146.000 - auc: 0.935 \n",
      "\n",
      "----------------------------------------------------------------------------------\n",
      "Finished Training- Not normalized: SGD/momentum - epoch: 124.000 - auc: 0.946 \n",
      "\n",
      "----------------------------------------------------------------------------------\n",
      "Finished Training- Not normalized: Adam - epoch: 91.000 - auc: 0.939 \n",
      "\n",
      "----------------------------------------------------------------------------------\n",
      "Finished Training- Not normalized: SGD - epoch: 143.000 - auc: 0.934 \n",
      "\n"
     ]
    },
    {
     "data": {
      "image/png": "[encoded data removed]",
      "text/plain": [
       "<Figure size 432x288 with 1 Axes>"
      ]
     },
     "metadata": {
      "needs_background": "light"
     },
     "output_type": "display_data"
    }
   ],
   "source": [
    "plt.figure()\n",
    "for norm in np.array([True, False]):\n",
    "    data_set = CombineDataset(metadata,'ID','class',final_array,norm)\n",
    "\n",
    "    data_train, data_test = train_test_split(data_set,train_size=0.9,random_state=42)\n",
    "\n",
    "\n",
    "    loader_train = DataLoader(data_train, batch_size = batch_size, \n",
    "                            num_workers = 0, drop_last=True)\n",
    "\n",
    "    loader_test = DataLoader(data_test, batch_size = batch_size, \n",
    "                            num_workers = 0, drop_last=True)\n",
    "\n",
    "\n",
    "    for opti in opti_name:\n",
    "        print('----------------------------------------------------------------------------------')\n",
    "\n",
    "        test_SGDnorm = np.zeros(max_epoch)\n",
    "        netbasic = NeuralNet('BasicCNN', opti)\n",
    "        for epoch in range(max_epoch):\n",
    "            netbasic.train(loader_train)\n",
    "            res = netbasic.test(loader_test, verbose = False)\n",
    "            test_SGDnorm[epoch] = res\n",
    "        \n",
    "        if norm:\n",
    "            txt = \"Finished Training- Normalized: \"+ opti +\" - epoch: {:.3f} - auc: {:.3f} \\n\" \n",
    "            print(txt.format(np.argmax(netbasic.epoch_metric)+1, netbasic.max_met))\n",
    "            plt.plot(np.arange(1, max_epoch+1), test_SGDnorm, label='Norm '+opti)\n",
    "        else:\n",
    "            txt = \"Finished Training- Not normalized: \"+ opti +\" - epoch: {:.3f} - auc: {:.3f} \\n\" \n",
    "            print(txt.format(np.argmax(netbasic.epoch_metric)+1, netbasic.max_met))\n",
    "            plt.plot(np.arange(1, max_epoch+1), test_SGDnorm, label=opti)\n",
    "plt.legend()\n",
    "plt.grid()\n",
    "plt.savefig('figures/baseline/optimizers.jpeg')\n",
    "plt.show()"
   ]
  },
  {
   "cell_type": "code",
   "execution_count": 6,
   "id": "educational-crown",
   "metadata": {},
   "outputs": [
    {
     "name": "stdout",
     "output_type": "stream",
     "text": [
      "FOLD 0\n",
      "----------------------\n",
      "----------------------------------------------------------------------------------\n"
     ]
    },
    {
     "ename": "NameError",
     "evalue": "name 'mean' is not defined",
     "output_type": "error",
     "traceback": [
      "\u001b[0;31m---------------------------------------------------------------------------\u001b[0m",
      "\u001b[0;31mNameError\u001b[0m                                 Traceback (most recent call last)",
      "\u001b[0;32m<ipython-input-6-7675203478c0>\u001b[0m in \u001b[0;36m<module>\u001b[0;34m\u001b[0m\n\u001b[1;32m     31\u001b[0m             \u001b[0;32mif\u001b[0m \u001b[0mnorm\u001b[0m\u001b[0;34m:\u001b[0m\u001b[0;34m\u001b[0m\u001b[0;34m\u001b[0m\u001b[0m\n\u001b[1;32m     32\u001b[0m                 \u001b[0mtxt\u001b[0m \u001b[0;34m=\u001b[0m \u001b[0;34m\"Finished Training- Normalized: \"\u001b[0m\u001b[0;34m+\u001b[0m \u001b[0mopti\u001b[0m \u001b[0;34m+\u001b[0m\u001b[0;34m\" - auc: {:.3f} \\n\"\u001b[0m\u001b[0;34m\u001b[0m\u001b[0;34m\u001b[0m\u001b[0m\n\u001b[0;32m---> 33\u001b[0;31m                 \u001b[0mprint\u001b[0m\u001b[0;34m(\u001b[0m\u001b[0mtxt\u001b[0m\u001b[0;34m.\u001b[0m\u001b[0mformat\u001b[0m\u001b[0;34m(\u001b[0m\u001b[0mmean\u001b[0m\u001b[0;34m(\u001b[0m\u001b[0mmax_AUC\u001b[0m\u001b[0;34m)\u001b[0m\u001b[0;34m)\u001b[0m\u001b[0;34m)\u001b[0m\u001b[0;34m\u001b[0m\u001b[0;34m\u001b[0m\u001b[0m\n\u001b[0m\u001b[1;32m     34\u001b[0m             \u001b[0;32melse\u001b[0m\u001b[0;34m:\u001b[0m\u001b[0;34m\u001b[0m\u001b[0;34m\u001b[0m\u001b[0m\n\u001b[1;32m     35\u001b[0m                 \u001b[0mtxt\u001b[0m \u001b[0;34m=\u001b[0m \u001b[0;34m\"Finished Training- Not normalized: \"\u001b[0m\u001b[0;34m+\u001b[0m \u001b[0mopti\u001b[0m \u001b[0;34m+\u001b[0m\u001b[0;34m\" - auc: {:.3f} \\n\"\u001b[0m\u001b[0;34m\u001b[0m\u001b[0;34m\u001b[0m\u001b[0m\n",
      "\u001b[0;31mNameError\u001b[0m: name 'mean' is not defined"
     ]
    }
   ],
   "source": [
    "metadata ['ID'] = np.arange(0,final_array.shape[0])\n",
    "\n",
    "data_set = CombineDataset(metadata,'ID','class',final_array)\n",
    "\n",
    "k_folds = 5 \n",
    "kfold = KFold(n_splits = k_folds, shuffle = True)\n",
    "\n",
    "\n",
    "for norm in np.array([True, False]):\n",
    "    max_AUC = []\n",
    "    data_set = CombineDataset(metadata,'ID','class',final_array, norm)\n",
    "    for fold, (train_ids, test_ids) in enumerate(kfold.split(data_set)):\n",
    "        print(f'FOLD {fold}')\n",
    "        print('----------------------')\n",
    "\n",
    "        train_subsampler = torch.utils.data.SubsetRandomSampler(train_ids)\n",
    "        test_subsampler = torch.utils.data.SubsetRandomSampler(test_ids)\n",
    "\n",
    "        loader_train = DataLoader(data_set, batch_size = batch_size, sampler = train_subsampler)\n",
    "        loader_test = DataLoader(data_set, batch_size = batch_size, sampler = test_subsampler)\n",
    "    \n",
    "        for opti in opti_name:\n",
    "            print('----------------------------------------------------------------------------------')\n",
    "\n",
    "            netbasic = NeuralNet('BasicCNN', opti)\n",
    "            while netbasic.current_epoch < max_epoch:\n",
    "                netbasic.train(loader_train)\n",
    "                res = netbasic.test(loader_test, verbose = False)\n",
    "            max_AUC.append(netbasic.max_met)\n",
    "\n",
    "            if norm:\n",
    "                txt = \"Finished Training- Normalized: \"+ opti +\" - auc: {:.3f} \\n\" \n",
    "                print(txt.format(mean(max_AUC)))\n",
    "            else:\n",
    "                txt = \"Finished Training- Not normalized: \"+ opti +\" - auc: {:.3f} \\n\" \n",
    "                print(txt.format(mean(max_AUC)))"
   ]
  }
 ],
 "metadata": {
  "kernelspec": {
   "display_name": "Python 3",
   "language": "python",
   "name": "python3"
  },
  "language_info": {
   "codemirror_mode": {
    "name": "ipython",
    "version": 3
   },
   "file_extension": ".py",
   "mimetype": "text/x-python",
   "name": "python",
   "nbconvert_exporter": "python",
   "pygments_lexer": "ipython3",
   "version": "3.7.9"
  }
 },
 "nbformat": 4,
 "nbformat_minor": 5
}
