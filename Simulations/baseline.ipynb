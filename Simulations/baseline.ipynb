{
 "cells": [
  {
   "cell_type": "code",
   "execution_count": 1,
   "id": "indonesian-scanner",
   "metadata": {},
   "outputs": [],
   "source": [
    "import matplotlib.pyplot as plt\n",
    "import numpy as np\n",
    "import pandas as pd\n",
    "from sklearn.model_selection import train_test_split\n",
    "\n",
    "from torch.utils.data import DataLoader\n",
    "\n",
    "from helpers.data_generation.file_management import read_hdf5\n",
    "from helpers.data_generation.error_generation import Residual, CombineDataset\n",
    "from helpers.model.helpers_model import NeuralNet\n",
    "\n",
    "import warnings\n",
    "warnings.filterwarnings('ignore') "
   ]
  },
  {
   "cell_type": "code",
   "execution_count": 2,
   "id": "stuffed-mobility",
   "metadata": {
    "tags": []
   },
   "outputs": [],
   "source": [
    "ratio = 0.75\n",
    "percent = np.array([0.005, 0.015, 0.005])\n",
    "size = 6000\n",
    "\n",
    "batch_size = 50\n",
    "max_epoch = 150\n",
    "\n",
    "opti_name = np.array(['SGD', 'SGD/momentum', 'Adam'])\n",
    "\n",
    "\n",
    "\n",
    "res = Residual()\n",
    "res.build(size, ratio = ratio, per_error = percent)\n",
    "\n",
    "str_ID =  \"S\"+str(size)+\"R\"+str(int(ratio*100))\n",
    "[final_array, metadata] = read_hdf5(str_ID)\n",
    "metadata ['ID'] = np.arange(0,final_array.shape[0])"
   ]
  },
  {
   "cell_type": "code",
   "execution_count": null,
   "id": "automatic-flashing",
   "metadata": {},
   "outputs": [
    {
     "name": "stdout",
     "output_type": "stream",
     "text": [
      "----------------------------------------------------------------------------------\n",
      "Finished Training- Normalized: SGD - epoch: 150.000 - auc: 0.892 \n",
      "\n",
      "----------------------------------------------------------------------------------\n",
      "Finished Training- Normalized: SGD/momentum - epoch: 36.000 - auc: 0.917 \n",
      "\n",
      "----------------------------------------------------------------------------------\n",
      "Finished Training- Normalized: Adam - epoch: 49.000 - auc: 0.905 \n",
      "\n",
      "----------------------------------------------------------------------------------\n",
      "Finished Training- Not normalized: SGD - epoch: 136.000 - auc: 0.898 \n",
      "\n",
      "----------------------------------------------------------------------------------\n",
      "Finished Training- Not normalized: SGD/momentum - epoch: 129.000 - auc: 0.916 \n",
      "\n",
      "----------------------------------------------------------------------------------\n"
     ]
    }
   ],
   "source": [
    "plt.figure()\n",
    "for norm in np.array([True, False]):\n",
    "    data_set = CombineDataset(metadata,'ID','class',final_array,norm)\n",
    "\n",
    "    data_train, data_test = train_test_split(data_set,train_size=0.9,random_state=42)\n",
    "\n",
    "\n",
    "    loader_train = DataLoader(data_train, batch_size = batch_size, \n",
    "                            num_workers = 0, drop_last=True)\n",
    "\n",
    "    loader_test = DataLoader(data_test, batch_size = batch_size, \n",
    "                            num_workers = 0, drop_last=True)\n",
    "\n",
    "\n",
    "    for opti in opti_name:\n",
    "        print('----------------------------------------------------------------------------------')\n",
    "\n",
    "        test_SGDnorm = np.zeros(max_epoch)\n",
    "        netbasic = NeuralNet('BasicCNN', opti)\n",
    "        for epoch in range(max_epoch):\n",
    "            netbasic.train(loader_train)\n",
    "            res = netbasic.test(loader_test, verbose = False)\n",
    "            test_SGDnorm[epoch] = res\n",
    "        \n",
    "        if norm:\n",
    "            txt = \"Finished Training- Normalized: \"+ opti +\" - epoch: {:.3f} - auc: {:.3f} \\n\" \n",
    "            print(txt.format(netbasic.opti_epoch, netbasic.max_met))\n",
    "            plt.plot(np.arange(1, max_epoch+1), test_SGDnorm, label='Norm '+opti)\n",
    "        else:\n",
    "            txt = \"Finished Training- Not normalized: \"+ opti +\" - epoch: {:.3f} - auc: {:.3f} \\n\" \n",
    "            print(txt.format(netbasic.opti_epoch, netbasic.max_met))\n",
    "            plt.plot(np.arange(1, max_epoch+1), test_SGDnorm, label=opti)\n",
    "plt.legend()\n",
    "plt.grid()\n",
    "plt.savefig('figures/optimizers.jpeg')\n",
    "plt.show()"
   ]
  }
 ],
 "metadata": {
  "kernelspec": {
   "display_name": "Python 3",
   "language": "python",
   "name": "python3"
  },
  "language_info": {
   "codemirror_mode": {
    "name": "ipython",
    "version": 3
   },
   "file_extension": ".py",
   "mimetype": "text/x-python",
   "name": "python",
   "nbconvert_exporter": "python",
   "pygments_lexer": "ipython3",
   "version": "3.7.9"
  }
 },
 "nbformat": 4,
 "nbformat_minor": 5
}
