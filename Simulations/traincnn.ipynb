{
 "cells": [
  {
   "cell_type": "markdown",
   "metadata": {
    "id": "nA4XNce9gGmI"
   },
   "source": [
    "# Final training of convolutionnal neural networks (CNNs)\n",
    "\n",
    "In this notebook, we train the CNNs such as AlexNet, VGG11, ... Our baseline is also trained in this notebook. The trained data is under amplitude and chi-square limitations. The CNNs are trained over a balanced dataset of 10 000 samples with a fraction of 85\\% for the training. Different training time were set as some models had room for improvement while beeing not too computationnal costly. The Adam optimizer Adam is used in some cases to speed up the learning process.\n",
    "The setting for the training are :\n",
    " * batch size : 64 \n",
    " * train size : 85\\%\n",
    " * number of samples : 10 000\n",
    "\n",
    "Final best results :\n",
    "\n",
    "    * Baseline model\n",
    "        Epoch : 20 - AUCROC : 0.981 \n",
    "        AUROC Mass : 0.998 - AUROC Source : 0.965\n",
    "\n",
    "\n",
    "## 0. Import"
   ]
  },
  {
   "cell_type": "code",
   "execution_count": 4,
   "metadata": {
    "executionInfo": {
     "elapsed": 1489,
     "status": "ok",
     "timestamp": 1623006826263,
     "user": {
      "displayName": "Emma Hoggett",
      "photoUrl": "https://lh3.googleusercontent.com/a-/AOh14GgPUKVC2O_DRFGM99OSkYdh6iVTYJzQEqnz8pVc7A=s64",
      "userId": "15046273628982635449"
     },
     "user_tz": -120
    },
    "id": "Hz8iF8w4vNG4"
   },
   "outputs": [],
   "source": [
    "import matplotlib.pyplot as plt\n",
    "import numpy as np\n",
    "import pandas as pd\n",
    "from sklearn.model_selection import train_test_split\n",
    "from sklearn.metrics import roc_auc_score, roc_curve\n",
    "\n",
    "import torch\n",
    "from torch.utils.data import DataLoader\n",
    "import torch.nn as nn\n",
    "\n",
    "\n",
    "from helpers.data_generation.file_management import read_hdf5\n",
    "from helpers.data_generation.error_generation_chi2 import Residual, CombineDataset\n",
    "from helpers.model.helpers_model import NeuralNet\n",
    "from sklearn.metrics import roc_auc_score, roc_curve\n",
    "\n",
    "import warnings\n",
    "warnings.filterwarnings('ignore') "
   ]
  },
  {
   "cell_type": "markdown",
   "metadata": {
    "id": "hP6t7DkcgGmM"
   },
   "source": [
    "## 1. Preparating the dataset"
   ]
  },
  {
   "cell_type": "code",
   "execution_count": 5,
   "metadata": {
    "colab": {
     "base_uri": "https://localhost:8080/"
    },
    "executionInfo": {
     "elapsed": 513641,
     "status": "ok",
     "timestamp": 1623007339900,
     "user": {
      "displayName": "Emma Hoggett",
      "photoUrl": "https://lh3.googleusercontent.com/a-/AOh14GgPUKVC2O_DRFGM99OSkYdh6iVTYJzQEqnz8pVc7A=s64",
      "userId": "15046273628982635449"
     },
     "user_tz": -120
    },
    "id": "BuSs0s1NvTUi",
    "outputId": "e271e987-f469-4d37-d93d-6fc7ea449446"
   },
   "outputs": [
    {
     "name": "stdout",
     "output_type": "stream",
     "text": [
      "Data Generation Finished\n"
     ]
    }
   ],
   "source": [
    "size = 10000\n",
    "ratio = 0.75; percent = np.array([0.005, 0.015, 0.005])\n",
    "\n",
    "res = Residual()\n",
    "res.build(size, ratio = ratio, per_error = percent)\n",
    "\n",
    "print('Data Generation Finished')"
   ]
  },
  {
   "cell_type": "code",
   "execution_count": 6,
   "metadata": {
    "colab": {
     "base_uri": "https://localhost:8080/"
    },
    "executionInfo": {
     "elapsed": 13420,
     "status": "ok",
     "timestamp": 1623007353293,
     "user": {
      "displayName": "Emma Hoggett",
      "photoUrl": "https://lh3.googleusercontent.com/a-/AOh14GgPUKVC2O_DRFGM99OSkYdh6iVTYJzQEqnz8pVc7A=s64",
      "userId": "15046273628982635449"
     },
     "user_tz": -120
    },
    "id": "B_pkXJaHve-e",
    "outputId": "4d99a736-4ad7-42a3-b487-46670f553a2d"
   },
   "outputs": [
    {
     "name": "stdout",
     "output_type": "stream",
     "text": [
      "Reading Data Finished\n"
     ]
    }
   ],
   "source": [
    "metadata = pd.DataFrame()\n",
    "size = 10000\n",
    "ratio = 0.75; percent = np.array([0.005, 0.015, 0.005])\n",
    "\n",
    "str_ID =  \"S\"+str(size)+\"R\"+str(int(ratio*100))\n",
    "[final_array, metadata] = read_hdf5(str_ID)\n",
    "metadata ['ID'] = np.arange(0,final_array.shape[0])\n",
    "\n",
    "data_set = CombineDataset(metadata,'ID','class',final_array, True)\n",
    "\n",
    "data_train, data_test = train_test_split(data_set,train_size=0.85,random_state=42)\n",
    "\n",
    "batch_size = 64; max_epoch = 30\n",
    "\n",
    "\n",
    "loader_train = DataLoader(data_train, batch_size = batch_size, \n",
    "                          num_workers = 8, drop_last=True, pin_memory = True)\n",
    "loader_test = DataLoader(data_test, batch_size = batch_size, \n",
    "                         num_workers = 8, drop_last=True, pin_memory = True)\n",
    "print('Reading Data Finished')"
   ]
  },
  {
   "cell_type": "markdown",
   "metadata": {
    "id": "3KLZvZ6LgGmP"
   },
   "source": [
    "## 2. Convolutionnal neural network (CNN)\n",
    "### 2.0 Baseline\n",
    "\n",
    "Results :\n",
    "* Baseline : \n",
    "    * Maximum number of epoch : 50\n",
    "    * Epoch : 20 - AUCROC : 0.981 \n",
    "    * AUROC Mass : 0.998 - AUROC Source : 0.965\n"
   ]
  },
  {
   "cell_type": "code",
   "execution_count": 7,
   "metadata": {
    "colab": {
     "base_uri": "https://localhost:8080/",
     "height": 346
    },
    "executionInfo": {
     "elapsed": 7822,
     "status": "ok",
     "timestamp": 1623007361087,
     "user": {
      "displayName": "Emma Hoggett",
      "photoUrl": "https://lh3.googleusercontent.com/a-/AOh14GgPUKVC2O_DRFGM99OSkYdh6iVTYJzQEqnz8pVc7A=s64",
      "userId": "15046273628982635449"
     },
     "user_tz": -120
    },
    "id": "FTji0e5avgRK",
    "outputId": "efa12a15-3222-433b-c316-d378e046cd96"
   },
   "outputs": [
    {
     "name": "stdout",
     "output_type": "stream",
     "text": [
      "Finished Training - Baseline\n"
     ]
    },
    {
     "data": {
      "image/png": "[encoded data removed]",
      "text/plain": [
       "<Figure size 432x288 with 1 Axes>"
      ]
     },
     "metadata": {
      "needs_background": "light",
      "tags": []
     },
     "output_type": "display_data"
    },
    {
     "name": "stdout",
     "output_type": "stream",
     "text": [
      "Epoch : 20\n",
      "ROC mass : 0.998 - ROC source : 0.965\n"
     ]
    }
   ],
   "source": [
    "netbasic = NeuralNet('BasicCNN', 'SGD/momentum')\n",
    "netbasic.load_checkpoint('_current')\n",
    "while len(netbasic.epoch_metric) < max_epoch:  \n",
    "    netbasic.train(loader_train)\n",
    "    res = netbasic.test(loader_test)\n",
    "    print(\"Epoch : \"+str(netbasic.current_epoch))\n",
    "\n",
    "print('Finished Training - Baseline')\n",
    "\n",
    "\n",
    "netbasic.load_checkpoint('_optimal')\n",
    "with torch.no_grad():\n",
    "    predictions = []\n",
    "    targets = []\n",
    "    for data in loader_test:\n",
    "        images, _, labels = data\n",
    "        outputs = netbasic.net(images)\n",
    "\n",
    "        predictions.extend(outputs.cpu().numpy())\n",
    "        targets.extend(labels.cpu().numpy())\n",
    "        result = netbasic.calculate_metrics(np.round(np.array(predictions)), np.array(targets))\n",
    "    predictions = np.array(predictions); targets = np.array(targets)\n",
    "        \n",
    "# calculate roc curves\n",
    "ns_fpr, ns_tpr, _ = roc_curve(targets[:,0], predictions[:,0])\n",
    "lr_fpr, lr_tpr, _ = roc_curve(targets[:,1], predictions[:,1])\n",
    "# plot the roc curve for the model\n",
    "plt.plot(ns_fpr, ns_tpr, label='Mass error')\n",
    "plt.plot(lr_fpr, lr_tpr, label='Source error')\n",
    "# axis labels\n",
    "plt.xlabel('False Positive Rate[-]')\n",
    "plt.ylabel('True Positive Rate[-]')\n",
    "# show the legend\n",
    "plt.legend()\n",
    "plt.grid()\n",
    "plt.title('Baseline ROC curve')\n",
    "plt.savefig(\"figures/cnn/Baseline_roc.png\")\n",
    "# show the plot\n",
    "plt.show()\n",
    "\n",
    "print('Epoch :', len(netbasic.epoch_metric))\n",
    "print('ROC mass : {:.3f} - ROC source : {:.3f}'.format(roc_auc_score(targets[:,0], predictions[:,0],average='samples'), \n",
    "                                                       roc_auc_score(targets[:,1], predictions[:,1],average='samples')))"
   ]
  },
  {
   "cell_type": "markdown",
   "metadata": {
    "id": "k3i6GZyEgGmQ"
   },
   "source": [
    "### 2.1. Spatial exploitation CNN\n",
    "\n",
    "Results :\n",
    "* AlexNet :  \n",
    "    * Maximum number of epoch : 50\n",
    "    * Epoch : 50 - AUCROC : 0.968 \n",
    "    * AUROC Mass : 0.998 - AUROC Source : 0.938\n",
    "* VGG11 :  \n",
    "    * Maximum number of epoch : 30\n",
    "    * Epoch : 16 - AUCROC : 0.982 \n",
    "    * AUROC Mass : 0.999 - AUROC Source : 0.964\n",
    "* GoogleNet :  \n",
    "    * Maximum number of epoch : 30\n",
    "    * Epoch : 30 - AUCROC : 0.973 \n",
    "    * AUROC Mass : 0.999 - AUROC Source : 0.946\n",
    "\n",
    "#### AlexNet"
   ]
  },
  {
   "cell_type": "code",
   "execution_count": 8,
   "metadata": {
    "colab": {
     "base_uri": "https://localhost:8080/",
     "height": 346
    },
    "executionInfo": {
     "elapsed": 15872,
     "status": "ok",
     "timestamp": 1623007376952,
     "user": {
      "displayName": "Emma Hoggett",
      "photoUrl": "https://lh3.googleusercontent.com/a-/AOh14GgPUKVC2O_DRFGM99OSkYdh6iVTYJzQEqnz8pVc7A=s64",
      "userId": "15046273628982635449"
     },
     "user_tz": -120
    },
    "id": "LPHeiM_Cvqq3",
    "outputId": "f6779f03-f435-4831-e4f4-3e0126fbbedc"
   },
   "outputs": [
    {
     "name": "stdout",
     "output_type": "stream",
     "text": [
      "Finished Training - AlexNet\n"
     ]
    },
    {
     "data": {
      "image/png": "[encoded data removed]",
      "text/plain": [
       "<Figure size 432x288 with 1 Axes>"
      ]
     },
     "metadata": {
      "needs_background": "light",
      "tags": []
     },
     "output_type": "display_data"
    },
    {
     "name": "stdout",
     "output_type": "stream",
     "text": [
      "Epoch : 50\n",
      "ROC mass : 0.998 - ROC source : 0.938\n"
     ]
    }
   ],
   "source": [
    "netbasic = NeuralNet('AlexNet', 'SGD/momentum')\n",
    "netbasic.load_checkpoint('_current')\n",
    "while len(netbasic.epoch_metric) < max_epoch:\n",
    "    netbasic.train(loader_train)\n",
    "    res = netbasic.test(loader_test)\n",
    "    print(\"Epoch : \", len(netbasic.epoch_metric))\n",
    "    \n",
    "print('Finished Training - AlexNet')\n",
    "\n",
    "netbasic.load_checkpoint('_optimal')\n",
    "with torch.no_grad():\n",
    "    predictions = []\n",
    "    targets = []\n",
    "    for data in loader_test:\n",
    "        images, _, labels = data\n",
    "        m = nn.ZeroPad2d(80)\n",
    "        outputs = netbasic.net(m(images))\n",
    "\n",
    "        predictions.extend(outputs.cpu().numpy())\n",
    "        targets.extend(labels.cpu().numpy())\n",
    "        result = netbasic.calculate_metrics(np.round(np.array(predictions)), np.array(targets))\n",
    "    predictions = np.array(predictions); targets = np.array(targets)\n",
    "        \n",
    "# calculate roc curves\n",
    "ns_fpr, ns_tpr, _ = roc_curve(targets[:,0], predictions[:,0])\n",
    "lr_fpr, lr_tpr, _ = roc_curve(targets[:,1], predictions[:,1])\n",
    "# plot the roc curve for the model\n",
    "plt.plot(ns_fpr, ns_tpr, label='Mass error')\n",
    "plt.plot(lr_fpr, lr_tpr, label='Source error')\n",
    "# axis labels\n",
    "plt.xlabel('False Positive Rate[-]')\n",
    "plt.ylabel('True Positive Rate[-]')\n",
    "# show the legend\n",
    "plt.legend()\n",
    "plt.grid()\n",
    "plt.title('AlexNet ROC curve')\n",
    "plt.savefig(\"figures/cnn/AlexNet_roc.png\")\n",
    "# show the plot\n",
    "plt.show()\n",
    "\n",
    "print('Epoch :', len(netbasic.epoch_metric))\n",
    "print('ROC mass : {:.3f} - ROC source : {:.3f}'.format(roc_auc_score(targets[:,0], predictions[:,0],average='samples'), \n",
    "                                                       roc_auc_score(targets[:,1], predictions[:,1],average='samples')))"
   ]
  },
  {
   "cell_type": "markdown",
   "metadata": {
    "id": "GaDWclyFgGmS"
   },
   "source": [
    "#### VGG11"
   ]
  },
  {
   "cell_type": "code",
   "execution_count": 9,
   "metadata": {
    "colab": {
     "base_uri": "https://localhost:8080/",
     "height": 346
    },
    "executionInfo": {
     "elapsed": 137388,
     "status": "ok",
     "timestamp": 1623007514336,
     "user": {
      "displayName": "Emma Hoggett",
      "photoUrl": "https://lh3.googleusercontent.com/a-/AOh14GgPUKVC2O_DRFGM99OSkYdh6iVTYJzQEqnz8pVc7A=s64",
      "userId": "15046273628982635449"
     },
     "user_tz": -120
    },
    "id": "9sesmjK4wUol",
    "outputId": "ceaf3595-7f69-4b6a-a2b2-0630ab579541"
   },
   "outputs": [
    {
     "name": "stdout",
     "output_type": "stream",
     "text": [
      "Finished Training - VGG11\n"
     ]
    },
    {
     "data": {
      "image/png": "[encoded data removed]",
      "text/plain": [
       "<Figure size 432x288 with 1 Axes>"
      ]
     },
     "metadata": {
      "needs_background": "light",
      "tags": []
     },
     "output_type": "display_data"
    },
    {
     "name": "stdout",
     "output_type": "stream",
     "text": [
      "Epoch : 16\n",
      "ROC mass : 0.999 - ROC source : 0.964\n"
     ]
    }
   ],
   "source": [
    "test_acc = np.zeros(max_epoch); \n",
    "netbasic = NeuralNet('VGG11', 'Adam')\n",
    "netbasic.load_checkpoint('_current')\n",
    "\n",
    "while len(netbasic.epoch_metric) < max_epoch:\n",
    "    netbasic.train(loader_train, resize_tp = 'Padding')\n",
    "    res = netbasic.test(loader_test)\n",
    "    print(\"Epoch : \", len(netbasic.epoch_metric))\n",
    "    \n",
    "print('Finished Training - VGG11')\n",
    "\n",
    "netbasic.load_checkpoint('_optimal')\n",
    "with torch.no_grad():\n",
    "    predictions = []\n",
    "    targets = []\n",
    "    for data in loader_test:\n",
    "        images, _, labels = data\n",
    "        m = nn.ZeroPad2d(80)\n",
    "        outputs = netbasic.net(m(images))\n",
    "\n",
    "        predictions.extend(outputs.cpu().numpy())\n",
    "        targets.extend(labels.cpu().numpy())\n",
    "        result = netbasic.calculate_metrics(np.round(np.array(predictions)), np.array(targets))\n",
    "    predictions = np.array(predictions); targets = np.array(targets)\n",
    "        \n",
    "# calculate roc curves\n",
    "ns_fpr, ns_tpr, _ = roc_curve(targets[:,0], predictions[:,0])\n",
    "lr_fpr, lr_tpr, _ = roc_curve(targets[:,1], predictions[:,1])\n",
    "# plot the roc curve for the model\n",
    "plt.plot(ns_fpr, ns_tpr, label='Mass error')\n",
    "plt.plot(lr_fpr, lr_tpr, label='Source error')\n",
    "# axis labels\n",
    "plt.xlabel('False Positive Rate[-]')\n",
    "plt.ylabel('True Positive Rate[-]')\n",
    "# show the legend\n",
    "plt.legend()\n",
    "plt.grid()\n",
    "plt.title('VGG11 ROC curve')\n",
    "plt.savefig(\"figures/cnn/VGG11_roc.png\")\n",
    "# show the plot\n",
    "plt.show()\n",
    "\n",
    "print('Epoch :', len(netbasic.epoch_metric))\n",
    "print('ROC mass : {:.3f} - ROC source : {:.3f}'.format(roc_auc_score(targets[:,0], predictions[:,0],average='samples'), \n",
    "                                                       roc_auc_score(targets[:,1], predictions[:,1],average='samples')))"
   ]
  },
  {
   "cell_type": "markdown",
   "metadata": {
    "id": "ckJ3XK-tgGmT"
   },
   "source": [
    "#### GoogleNet"
   ]
  },
  {
   "cell_type": "code",
   "execution_count": 10,
   "metadata": {
    "colab": {
     "base_uri": "https://localhost:8080/",
     "height": 346
    },
    "executionInfo": {
     "elapsed": 62340,
     "status": "ok",
     "timestamp": 1623007576666,
     "user": {
      "displayName": "Emma Hoggett",
      "photoUrl": "https://lh3.googleusercontent.com/a-/AOh14GgPUKVC2O_DRFGM99OSkYdh6iVTYJzQEqnz8pVc7A=s64",
      "userId": "15046273628982635449"
     },
     "user_tz": -120
    },
    "id": "AiNaf6HVy9k0",
    "outputId": "4d94229a-228a-493f-8a5d-288732bd6408"
   },
   "outputs": [
    {
     "name": "stdout",
     "output_type": "stream",
     "text": [
      "Finished Training - GoogleNet\n"
     ]
    },
    {
     "data": {
      "image/png": "[encoded data removed]",
      "text/plain": [
       "<Figure size 432x288 with 1 Axes>"
      ]
     },
     "metadata": {
      "needs_background": "light",
      "tags": []
     },
     "output_type": "display_data"
    },
    {
     "name": "stdout",
     "output_type": "stream",
     "text": [
      "Epoch : 30\n",
      "ROC mass : 0.999 - ROC source : 0.946\n"
     ]
    }
   ],
   "source": [
    "netbasic = NeuralNet('GoogleNet', 'SGD/momentum')\n",
    "netbasic.load_checkpoint('_current')\n",
    "while len(netbasic.epoch_metric) < max_epoch:\n",
    "    netbasic.train(loader_train, resize_tp = 'Padding')\n",
    "    res = netbasic.test(loader_test)\n",
    "\n",
    "print('Finished Training - GoogleNet')\n",
    "    \n",
    "netbasic.load_checkpoint('_optimal')\n",
    "with torch.no_grad():\n",
    "    predictions = []\n",
    "    targets = []\n",
    "    for data in loader_test:\n",
    "        images, _, labels = data\n",
    "        m = nn.ZeroPad2d(80)\n",
    "        outputs, _, _ = netbasic.net(m(images))\n",
    "\n",
    "        predictions.extend(outputs.cpu().numpy())\n",
    "        targets.extend(labels.cpu().numpy())\n",
    "        result = netbasic.calculate_metrics(np.round(np.array(predictions)), np.array(targets))\n",
    "    predictions = np.array(predictions); targets = np.array(targets)\n",
    "        \n",
    "# calculate roc curves\n",
    "ns_fpr, ns_tpr, _ = roc_curve(targets[:,0], predictions[:,0])\n",
    "lr_fpr, lr_tpr, _ = roc_curve(targets[:,1], predictions[:,1])\n",
    "# plot the roc curve for the model\n",
    "plt.plot(ns_fpr, ns_tpr, label='Mass error')\n",
    "plt.plot(lr_fpr, lr_tpr, label='Source error')\n",
    "# axis labels\n",
    "plt.xlabel('False Positive Rate[-]')\n",
    "plt.ylabel('True Positive Rate[-]')\n",
    "# show the legend\n",
    "plt.legend()\n",
    "plt.grid()\n",
    "plt.title('GoogleNet ROC curve')\n",
    "plt.savefig(\"figures/cnn/GoogleNet_roc.png\")\n",
    "# show the plot\n",
    "plt.show()\n",
    "\n",
    "print('Epoch :', len(netbasic.epoch_metric))\n",
    "print('ROC mass : {:.3f} - ROC source : {:.3f}'.format(roc_auc_score(targets[:,0], predictions[:,0],average='samples'), \n",
    "                                                       roc_auc_score(targets[:,1], predictions[:,1],average='samples')))"
   ]
  },
  {
   "cell_type": "markdown",
   "metadata": {
    "id": "_nAnlsjrgGmU"
   },
   "source": [
    "### 2.2. Multi-path exploitation CNN\n",
    "\n",
    "Results :\n",
    "* ResNet18 :  \n",
    "    * Maximum number of epoch : 50\n",
    "    * Epoch : 39 - AUCROC : 0.988 \n",
    "    * AUROC Mass : 0.999 - AUROC Source : 0.961\n",
    "* DenseNet121 :  \n",
    "    * Maximum number of epoch : 30\n",
    "    * Epoch : 21 - AUCROC : 0.979 \n",
    "    * AUROC Mass : 0.998 - AUROC Source : 0.959\n",
    "\n",
    "#### ResNet18"
   ]
  },
  {
   "cell_type": "code",
   "execution_count": 11,
   "metadata": {
    "colab": {
     "base_uri": "https://localhost:8080/",
     "height": 346
    },
    "executionInfo": {
     "elapsed": 38772,
     "status": "ok",
     "timestamp": 1623007615430,
     "user": {
      "displayName": "Emma Hoggett",
      "photoUrl": "https://lh3.googleusercontent.com/a-/AOh14GgPUKVC2O_DRFGM99OSkYdh6iVTYJzQEqnz8pVc7A=s64",
      "userId": "15046273628982635449"
     },
     "user_tz": -120
    },
    "id": "injpfEDev7tS",
    "outputId": "a7de0132-2f76-4832-d922-5636472b47c0",
    "tags": []
   },
   "outputs": [
    {
     "name": "stdout",
     "output_type": "stream",
     "text": [
      "Finished Training - ResNet18\n"
     ]
    },
    {
     "data": {
      "image/png": "[encoded data removed]",
      "text/plain": [
       "<Figure size 432x288 with 1 Axes>"
      ]
     },
     "metadata": {
      "needs_background": "light",
      "tags": []
     },
     "output_type": "display_data"
    },
    {
     "name": "stdout",
     "output_type": "stream",
     "text": [
      "Epoch : 39\n",
      "ROC mass : 0.999 - ROC source : 0.961\n"
     ]
    }
   ],
   "source": [
    "netbasic = NeuralNet('ResNet18', 'SGD/momentum')\n",
    "netbasic.load_checkpoint('_current')\n",
    "while len(netbasic.epoch_metric) < max_epoch:\n",
    "    netbasic.train(loader_train)\n",
    "    res = netbasic.test(loader_test)\n",
    "    print(\"Epoch: \", len(netbasic.epoch_metric))\n",
    "\n",
    "print('Finished Training - ResNet18')\n",
    "\n",
    "netbasic.load_checkpoint('_optimal')\n",
    "with torch.no_grad():\n",
    "    predictions = []\n",
    "    targets = []\n",
    "    for data in loader_test:\n",
    "        images, _, labels = data\n",
    "        m = nn.ZeroPad2d(80)\n",
    "        outputs = netbasic.net(m(images))\n",
    "\n",
    "        predictions.extend(outputs.cpu().numpy())\n",
    "        targets.extend(labels.cpu().numpy())\n",
    "        result = netbasic.calculate_metrics(np.round(np.array(predictions)), np.array(targets))\n",
    "    predictions = np.array(predictions); targets = np.array(targets)\n",
    "        \n",
    "# calculate roc curves\n",
    "ns_fpr, ns_tpr, _ = roc_curve(targets[:,0], predictions[:,0])\n",
    "lr_fpr, lr_tpr, _ = roc_curve(targets[:,1], predictions[:,1])\n",
    "# plot the roc curve for the model\n",
    "plt.plot(ns_fpr, ns_tpr, label='Mass error')\n",
    "plt.plot(lr_fpr, lr_tpr, label='Source error')\n",
    "# axis labels\n",
    "plt.xlabel('False Positive Rate[-]')\n",
    "plt.ylabel('True Positive Rate[-]')\n",
    "# show the legend\n",
    "plt.legend()\n",
    "plt.grid()\n",
    "plt.title('ResNet18 ROC curve')\n",
    "plt.savefig(\"figures/cnn/ResNet18_roc.png\")\n",
    "# show the plot\n",
    "plt.show()\n",
    "\n",
    "print('Epoch :', len(netbasic.epoch_metric))\n",
    "print('ROC mass : {:.3f} - ROC source : {:.3f}'.format(roc_auc_score(targets[:,0], predictions[:,0],average='samples'), \n",
    "                                                       roc_auc_score(targets[:,1], predictions[:,1],average='samples')))"
   ]
  },
  {
   "cell_type": "markdown",
   "metadata": {
    "id": "4Q0BTcQfwmMG"
   },
   "source": [
    "#### DenseNet121"
   ]
  },
  {
   "cell_type": "code",
   "execution_count": 12,
   "metadata": {
    "colab": {
     "base_uri": "https://localhost:8080/",
     "height": 346
    },
    "executionInfo": {
     "elapsed": 117831,
     "status": "ok",
     "timestamp": 1623007733253,
     "user": {
      "displayName": "Emma Hoggett",
      "photoUrl": "https://lh3.googleusercontent.com/a-/AOh14GgPUKVC2O_DRFGM99OSkYdh6iVTYJzQEqnz8pVc7A=s64",
      "userId": "15046273628982635449"
     },
     "user_tz": -120
    },
    "id": "WPwtnDGKwUPR",
    "outputId": "fde90ec0-0946-407c-ae33-4f0214bb89d0"
   },
   "outputs": [
    {
     "name": "stdout",
     "output_type": "stream",
     "text": [
      "Finished Training - DenseNet121\n"
     ]
    },
    {
     "data": {
      "image/png": "[encoded data removed]",
      "text/plain": [
       "<Figure size 432x288 with 1 Axes>"
      ]
     },
     "metadata": {
      "needs_background": "light",
      "tags": []
     },
     "output_type": "display_data"
    },
    {
     "name": "stdout",
     "output_type": "stream",
     "text": [
      "Epoch : 21\n",
      "ROC mass : 0.998 - ROC source : 0.959\n"
     ]
    }
   ],
   "source": [
    "netbasic = NeuralNet('DenseNet121', 'Adam')\n",
    "netbasic.load_checkpoint('_current')\n",
    "while len(netbasic.epoch_metric) < max_epoch:\n",
    "    netbasic.train(loader_train, resize_tp = 'Padding')\n",
    "    res = netbasic.test(loader_test)\n",
    "    print(\"Epoch: \", len(netbasic.epoch_metric))\n",
    "\n",
    "print('Finished Training - DenseNet121')\n",
    "\n",
    "netbasic.load_checkpoint('_optimal')\n",
    "with torch.no_grad():\n",
    "    predictions = []\n",
    "    targets = []\n",
    "    for data in loader_test:\n",
    "        images, _, labels = data\n",
    "        m = nn.ZeroPad2d(80)\n",
    "        outputs = netbasic.net(m(images))\n",
    "\n",
    "        predictions.extend(outputs.cpu().numpy())\n",
    "        targets.extend(labels.cpu().numpy())\n",
    "        result = netbasic.calculate_metrics(np.round(np.array(predictions)), np.array(targets))\n",
    "    predictions = np.array(predictions); targets = np.array(targets)\n",
    "        \n",
    "# calculate roc curves\n",
    "ns_fpr, ns_tpr, _ = roc_curve(targets[:,0], predictions[:,0])\n",
    "lr_fpr, lr_tpr, _ = roc_curve(targets[:,1], predictions[:,1])\n",
    "# plot the roc curve for the model\n",
    "plt.plot(ns_fpr, ns_tpr, label='Mass error')\n",
    "plt.plot(lr_fpr, lr_tpr, label='Source error')\n",
    "# axis labels\n",
    "plt.xlabel('False Positive Rate[-]')\n",
    "plt.ylabel('True Positive Rate[-]')\n",
    "# show the legend\n",
    "plt.legend()\n",
    "plt.grid()\n",
    "plt.title('DenseNet121 ROC curve')\n",
    "plt.savefig(\"figures/cnn/DenseNet121_roc.png\")\n",
    "# show the plot\n",
    "plt.show()\n",
    "\n",
    "print('Epoch :', len(netbasic.epoch_metric))\n",
    "print('ROC mass : {:.3f} - ROC source : {:.3f}'.format(roc_auc_score(targets[:,0], predictions[:,0],average='samples'), \n",
    "                                                       roc_auc_score(targets[:,1], predictions[:,1],average='samples')))"
   ]
  },
  {
   "cell_type": "markdown",
   "metadata": {
    "id": "OMLYLXrTwris"
   },
   "source": [
    "### 2.3. Ressource limited CNNs\n",
    "Result :\n",
    "* SqueezeNet :  \n",
    "    * Maximum number of epoch : 50\n",
    "    * Epoch : 50 - AUCROC : 0.917 \n",
    "    * AUROC Mass : 0.954 - AUROC Source : 0.879\n",
    "\n",
    "#### SqueezeNet"
   ]
  },
  {
   "cell_type": "code",
   "execution_count": 13,
   "metadata": {
    "colab": {
     "base_uri": "https://localhost:8080/",
     "height": 346
    },
    "executionInfo": {
     "elapsed": 21844,
     "status": "ok",
     "timestamp": 1623007755093,
     "user": {
      "displayName": "Emma Hoggett",
      "photoUrl": "https://lh3.googleusercontent.com/a-/AOh14GgPUKVC2O_DRFGM99OSkYdh6iVTYJzQEqnz8pVc7A=s64",
      "userId": "15046273628982635449"
     },
     "user_tz": -120
    },
    "id": "l_XblORS78n9",
    "outputId": "faca2983-dcac-4756-a83c-6a5c73573783"
   },
   "outputs": [
    {
     "name": "stdout",
     "output_type": "stream",
     "text": [
      "Finished Training - SqueezeNet\n"
     ]
    },
    {
     "data": {
      "image/png": "[encoded data removed]",
      "text/plain": [
       "<Figure size 432x288 with 1 Axes>"
      ]
     },
     "metadata": {
      "needs_background": "light",
      "tags": []
     },
     "output_type": "display_data"
    },
    {
     "name": "stdout",
     "output_type": "stream",
     "text": [
      "Epoch : 50\n",
      "ROC mass : 0.954 - ROC source : 0.879\n"
     ]
    }
   ],
   "source": [
    "netbasic = NeuralNet('SqueezeNet', 'Adam')\n",
    "netbasic.load_checkpoint('_current')\n",
    "while len(netbasic.epoch_metric) < max_epoch:\n",
    "    netbasic.train(loader_train, resize_tp = 'Padding')\n",
    "    res = netbasic.test(loader_test)\n",
    "    print(\"Epoch: \", len(netbasic.epoch_metric))\n",
    "\n",
    "print('Finished Training - SqueezeNet')\n",
    "    \n",
    "with torch.no_grad():\n",
    "    predictions = []\n",
    "    targets = []\n",
    "    for data in loader_test:\n",
    "        images, _, labels = data\n",
    "        m = nn.ZeroPad2d(80)\n",
    "        outputs = netbasic.net(m(images))\n",
    "\n",
    "        predictions.extend(outputs.cpu().numpy())\n",
    "        targets.extend(labels.cpu().numpy())\n",
    "        result = netbasic.calculate_metrics(np.round(np.array(predictions)), np.array(targets))\n",
    "    predictions =np.array(predictions); targets = np.array(targets)\n",
    "        \n",
    "from sklearn.metrics import roc_curve, roc_auc_score\n",
    "# calculate roc curves\n",
    "ns_fpr, ns_tpr, _ = roc_curve(targets[:,0], predictions[:,0])\n",
    "lr_fpr, lr_tpr, _ = roc_curve(targets[:,1], predictions[:,1])\n",
    "# plot the roc curve for the model\n",
    "plt.plot(ns_fpr, ns_tpr, label='Mass error')\n",
    "plt.plot(lr_fpr, lr_tpr, label='Source error')\n",
    "# axis labels\n",
    "plt.xlabel('False Positive Rate[-]')\n",
    "plt.ylabel('True Positive Rate[-]')\n",
    "# show the legend\n",
    "plt.legend()\n",
    "plt.grid()\n",
    "plt.title('SqueezeNet ROC curve')\n",
    "plt.savefig(\"figures/cnn/SqueezeNet_roc.png\")\n",
    "# show the plot\n",
    "plt.show()\n",
    "\n",
    "print('Epoch :', len(netbasic.epoch_metric))\n",
    "print('ROC mass : {:.3f} - ROC source : {:.3f}'.format(roc_auc_score(targets[:,0], predictions[:,0],average='samples'), \n",
    "                                                       roc_auc_score(targets[:,1], predictions[:,1],average='samples')))"
   ]
  },
  {
   "cell_type": "markdown",
   "metadata": {
    "id": "0wleua_iv_Zf"
   },
   "source": [
    "## 3. Training plot"
   ]
  },
  {
   "cell_type": "code",
   "execution_count": 14,
   "metadata": {
    "colab": {
     "base_uri": "https://localhost:8080/",
     "height": 295
    },
    "executionInfo": {
     "elapsed": 18630,
     "status": "ok",
     "timestamp": 1623007776282,
     "user": {
      "displayName": "Emma Hoggett",
      "photoUrl": "https://lh3.googleusercontent.com/a-/AOh14GgPUKVC2O_DRFGM99OSkYdh6iVTYJzQEqnz8pVc7A=s64",
      "userId": "15046273628982635449"
     },
     "user_tz": -120
    },
    "id": "zb3NuCjKv_Ju",
    "outputId": "4e6252f5-c58c-41d5-f828-0ee88fc8ab97"
   },
   "outputs": [
    {
     "data": {
      "image/png": "[encoded data removed]",
      "text/plain": [
       "<Figure size 432x288 with 1 Axes>"
      ]
     },
     "metadata": {
      "needs_background": "light",
      "tags": []
     },
     "output_type": "display_data"
    }
   ],
   "source": [
    "model_list = ['VGG11', 'BasicCNN', 'ResNet18', 'SqueezeNet', 'AlexNet', 'DenseNet121', 'GoogleNet']\n",
    "\n",
    "plt.figure()\n",
    "for model_name in model_list:\n",
    "    netbasic = NeuralNet(model_name, 'SGD/momentum')\n",
    "    netbasic.load_checkpoint('_current')\n",
    "    plt.plot(netbasic.epoch_metric, label = model_name)\n",
    "\n",
    "plt.xlabel('Epoch[-]')\n",
    "plt.ylabel('AUC[-]')\n",
    "# show the legend\n",
    "plt.legend()\n",
    "plt.grid()\n",
    "plt.title('Learning rate')\n",
    "plt.savefig(\"figures/cnn/Learning_rate.png\")\n",
    "plt.show()"
   ]
  }
 ],
 "metadata": {
  "accelerator": "GPU",
  "colab": {
   "collapsed_sections": [],
   "machine_shape": "hm",
   "name": "traincnn.ipynb",
   "provenance": [],
   "toc_visible": true
  },
  "kernelspec": {
   "display_name": "Python 3",
   "language": "python",
   "name": "python3"
  },
  "language_info": {
   "codemirror_mode": {
    "name": "ipython",
    "version": 3
   },
   "file_extension": ".py",
   "mimetype": "text/x-python",
   "name": "python",
   "nbconvert_exporter": "python",
   "pygments_lexer": "ipython3",
   "version": "3.7.9"
  }
 },
 "nbformat": 4,
 "nbformat_minor": 4
}
