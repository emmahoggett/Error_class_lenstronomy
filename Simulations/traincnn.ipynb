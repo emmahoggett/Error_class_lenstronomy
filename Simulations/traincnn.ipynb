{
 "cells": [
  {
   "cell_type": "code",
   "execution_count": null,
   "id": "homeless-harmony",
   "metadata": {},
   "outputs": [],
   "source": [
    "import matplotlib.pyplot as plt\n",
    "import numpy as np\n",
    "import pandas as pd\n",
    "from sklearn.model_selection import train_test_split\n",
    "\n",
    "from torch.utils.data import DataLoader\n",
    "\n",
    "from helpers.data_generation.file_management import read_hdf5\n",
    "from helpers.data_generation.error_generation import Residual, CombineDataset\n",
    "from helpers.model.helpers_model import NeuralNet\n",
    "\n",
    "import warnings\n",
    "warnings.filterwarnings('ignore')"
   ]
  },
  {
   "cell_type": "code",
   "execution_count": null,
   "id": "hollow-melbourne",
   "metadata": {},
   "outputs": [],
   "source": [
    "ratio = 0.75\n",
    "percent = np.array([0.005, 0.015, 0.005])\n",
    "size = 60000\n",
    "\n",
    "batch_size = 50\n",
    "\n",
    "res = Residual()\n",
    "res.build(size, ratio = ratio, per_error = percent)\n",
    "print('Data building finished')"
   ]
  },
  {
   "cell_type": "code",
   "execution_count": null,
   "id": "forty-livestock",
   "metadata": {},
   "outputs": [],
   "source": [
    "str_ID =  \"S\"+str(size)+\"R\"+str(int(ratio*100))\n",
    "[final_array, metadata] = read_hdf5(str_ID)\n",
    "metadata ['ID'] = np.arange(0,final_array.shape[0])\n",
    "\n",
    "data_set = CombineDataset(metadata,'ID','class',final_array)\n",
    "\n",
    "data_train, data_test = train_test_split(data_set,train_size=0.85,random_state=42)\n",
    "\n",
    "batch_size = 50; max_epoch = 50\n",
    "\n",
    "\n",
    "loader_train = DataLoader(data_train, batch_size = batch_size, \n",
    "                          num_workers = 2, drop_last=True)\n",
    "loader_test = DataLoader(data_test, batch_size = batch_size, \n",
    "                         num_workers = 2, drop_last=True)\n",
    "print('Reading Data Finished')"
   ]
  },
  {
   "cell_type": "markdown",
   "id": "robust-extraction",
   "metadata": {},
   "source": [
    "## 2. Convolutionnal neural network (CNN)\n",
    "### 2.1. Spatial exploitation CNN\n",
    "\n",
    "\n",
    "Results :\n",
    "* AlexNet : Epoch : - AUCROC : \n",
    "* VGG16 : Epoch : - AUCROC : \n",
    "* GoogleNet : Epoch : - AUCROC : "
   ]
  },
  {
   "cell_type": "code",
   "execution_count": null,
   "id": "varied-apparatus",
   "metadata": {},
   "outputs": [],
   "source": [
    "netbasic = NeuralNet('AlexNet', 'SGD/momentum')\n",
    "#epoch: 2.000, auc: 0.845\n",
    "netbasic.load_checkpoint('_current')\n",
    "while netbasic.current_epoch < max_epoch:\n",
    "    netbasic.train(loader_train)\n",
    "    res = netbasic.test(loader_test)\n",
    "    print(\"epoch \"+str(epoch))\n",
    "\n",
    "print('Finished Training : AlexNet')"
   ]
  },
  {
   "cell_type": "code",
   "execution_count": null,
   "id": "amber-graph",
   "metadata": {},
   "outputs": [],
   "source": [
    "netbasic = NeuralNet('VGG16', 'SGD/momentum')\n",
    "#epoch: 2.000, auc: 0.845\n",
    "netbasic.load_checkpoint('_current')\n",
    "while netbasic.current_epoch < max_epoch:\n",
    "    netbasic.train(loader_train)\n",
    "    res = netbasic.test(loader_test)\n",
    "    print(\"epoch \"+str(epoch))\n",
    "\n",
    "print('Finished Training : VGG16')"
   ]
  },
  {
   "cell_type": "code",
   "execution_count": null,
   "id": "waiting-plenty",
   "metadata": {},
   "outputs": [],
   "source": [
    "netbasic = NeuralNet('GoogleNet', 'SGD/momentum')\n",
    "#epoch: 2.000, auc: 0.845\n",
    "netbasic.load_checkpoint('_current')\n",
    "while netbasic.current_epoch < max_epoch:\n",
    "    netbasic.train(loader_train)\n",
    "    res = netbasic.test(loader_test)\n",
    "    print(\"epoch \"+str(epoch))\n",
    "\n",
    "print('Finished Training : GoogleNet')"
   ]
  },
  {
   "cell_type": "markdown",
   "id": "stylish-clark",
   "metadata": {},
   "source": [
    "### 2.2. Multi-path exploitation CNN\n",
    "\n",
    "Results :\n",
    "* ResNet18 : Epoch : - AUCROC : \n",
    "* DenseNet161 : Epoch : - AUCROC : "
   ]
  },
  {
   "cell_type": "code",
   "execution_count": null,
   "id": "active-finland",
   "metadata": {},
   "outputs": [],
   "source": [
    "netbasic = NeuralNet('ResNet18', 'SGD/momentum')\n",
    "#epoch: 2.000, auc: 0.845\n",
    "netbasic.load_checkpoint('_current')\n",
    "while netbasic.current_epoch < max_epoch:\n",
    "    netbasic.train(loader_train)\n",
    "    res = netbasic.test(loader_test)\n",
    "    print(\"epoch \"+str(epoch))\n",
    "\n",
    "print('Finished Training : ResNet18')"
   ]
  },
  {
   "cell_type": "code",
   "execution_count": null,
   "id": "sought-liabilities",
   "metadata": {},
   "outputs": [],
   "source": [
    "netbasic = NeuralNet('DenseNet161', 'SGD/momentum')\n",
    "#epoch: 2.000, auc: 0.845\n",
    "netbasic.load_checkpoint('_current')\n",
    "while netbasic.current_epoch < max_epoch:\n",
    "    netbasic.train(loader_train)\n",
    "    res = netbasic.test(loader_test)\n",
    "    print(\"epoch \"+str(epoch))\n",
    "\n",
    "print('Finished Training : DenseNet161')"
   ]
  },
  {
   "cell_type": "markdown",
   "id": "broken-spiritual",
   "metadata": {},
   "source": [
    "### 2.3. "
   ]
  },
  {
   "cell_type": "code",
   "execution_count": null,
   "id": "primary-frost",
   "metadata": {},
   "outputs": [],
   "source": [
    "netbasic = NeuralNet('SqueezeNet', 'SGD/momentum')\n",
    "#epoch: 2.000, auc: 0.845\n",
    "netbasic.load_checkpoint('_current')\n",
    "while netbasic.current_epoch < max_epoch:\n",
    "    netbasic.train(loader_train)\n",
    "    res = netbasic.test(loader_test)\n",
    "    print(\"epoch \"+str(epoch))\n",
    "\n",
    "print('Finished Training : SqueezeNet')"
   ]
  }
 ],
 "metadata": {
  "kernelspec": {
   "display_name": "Python 3",
   "language": "python",
   "name": "python3"
  },
  "language_info": {
   "codemirror_mode": {
    "name": "ipython",
    "version": 3
   },
   "file_extension": ".py",
   "mimetype": "text/x-python",
   "name": "python",
   "nbconvert_exporter": "python",
   "pygments_lexer": "ipython3",
   "version": "3.7.9"
  }
 },
 "nbformat": 4,
 "nbformat_minor": 5
}
