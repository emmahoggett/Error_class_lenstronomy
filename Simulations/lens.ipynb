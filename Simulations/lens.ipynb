{
 "cells": [
  {
   "cell_type": "code",
   "execution_count": 1,
   "metadata": {
    "colab": {
     "base_uri": "https://localhost:8080/"
    },
    "executionInfo": {
     "elapsed": 1260,
     "status": "ok",
     "timestamp": 1616692920033,
     "user": {
      "displayName": "Emma Hoggett",
      "photoUrl": "https://lh3.googleusercontent.com/a-/AOh14GgPUKVC2O_DRFGM99OSkYdh6iVTYJzQEqnz8pVc7A=s64",
      "userId": "15046273628982635449"
     },
     "user_tz": -60
    },
    "id": "Tb2CL6XpFXpY",
    "outputId": "7dfdefca-421c-46b2-906e-7c7ec1df6c26"
   },
   "outputs": [
    {
     "name": "stdout",
     "output_type": "stream",
     "text": [
      "Drive already mounted at /content/drive; to attempt to forcibly remount, call drive.mount(\"/content/drive\", force_remount=True).\n"
     ]
    }
   ],
   "source": [
    "from google.colab import drive\n",
    "drive.mount(\"/content/drive\")\n",
    "\n",
    "import sys\n",
    "sys.path.insert(0,'/content/drive/My Drive/Colab Notebooks/deeplens/')"
   ]
  },
  {
   "cell_type": "code",
   "execution_count": 2,
   "metadata": {
    "colab": {
     "base_uri": "https://localhost:8080/"
    },
    "executionInfo": {
     "elapsed": 18478,
     "status": "ok",
     "timestamp": 1616692937262,
     "user": {
      "displayName": "Emma Hoggett",
      "photoUrl": "https://lh3.googleusercontent.com/a-/AOh14GgPUKVC2O_DRFGM99OSkYdh6iVTYJzQEqnz8pVc7A=s64",
      "userId": "15046273628982635449"
     },
     "user_tz": -60
    },
    "id": "xs-dC5JyFmJu",
    "outputId": "fbc0679c-3798-4269-fd80-8c28e4ded0f7"
   },
   "outputs": [
    {
     "name": "stdout",
     "output_type": "stream",
     "text": [
      "Requirement already satisfied: lenstronomy in /usr/local/lib/python3.7/dist-packages (1.8.0)\n",
      "Requirement already satisfied: numpy>=1.13 in /usr/local/lib/python3.7/dist-packages (from lenstronomy) (1.19.5)\n",
      "Requirement already satisfied: configparser in /usr/local/lib/python3.7/dist-packages (from lenstronomy) (5.0.2)\n",
      "Requirement already satisfied: scipy>=0.14.0 in /usr/local/lib/python3.7/dist-packages (from lenstronomy) (1.4.1)\n",
      "Requirement already satisfied: h5py in /usr/local/lib/python3.7/dist-packages (2.10.0)\n",
      "Requirement already satisfied: numpy>=1.7 in /usr/local/lib/python3.7/dist-packages (from h5py) (1.19.5)\n",
      "Requirement already satisfied: six in /usr/local/lib/python3.7/dist-packages (from h5py) (1.15.0)\n",
      "Requirement already satisfied: corner in /usr/local/lib/python3.7/dist-packages (2.2.1)\n",
      "Requirement already satisfied: matplotlib>=2.1 in /usr/local/lib/python3.7/dist-packages (from corner) (3.2.2)\n",
      "Requirement already satisfied: python-dateutil>=2.1 in /usr/local/lib/python3.7/dist-packages (from matplotlib>=2.1->corner) (2.8.1)\n",
      "Requirement already satisfied: pyparsing!=2.0.4,!=2.1.2,!=2.1.6,>=2.0.1 in /usr/local/lib/python3.7/dist-packages (from matplotlib>=2.1->corner) (2.4.7)\n",
      "Requirement already satisfied: numpy>=1.11 in /usr/local/lib/python3.7/dist-packages (from matplotlib>=2.1->corner) (1.19.5)\n",
      "Requirement already satisfied: cycler>=0.10 in /usr/local/lib/python3.7/dist-packages (from matplotlib>=2.1->corner) (0.10.0)\n",
      "Requirement already satisfied: kiwisolver>=1.0.1 in /usr/local/lib/python3.7/dist-packages (from matplotlib>=2.1->corner) (1.3.1)\n",
      "Requirement already satisfied: six>=1.5 in /usr/local/lib/python3.7/dist-packages (from python-dateutil>=2.1->matplotlib>=2.1->corner) (1.15.0)\n",
      "Requirement already satisfied: Pillow in /usr/local/lib/python3.7/dist-packages (7.0.0)\n",
      "/content/drive/MyDrive/Colab Notebooks/deeplens/fastell4py\n",
      "\u001b[39mrunning install\u001b[0m\n",
      "\u001b[39mrunning bdist_egg\u001b[0m\n",
      "\u001b[39mrunning egg_info\u001b[0m\n",
      "\u001b[39mrunning build_src\u001b[0m\n",
      "\u001b[39mbuild_src\u001b[0m\n",
      "\u001b[39mbuilding extension \"fastell4py._fastell\" sources\u001b[0m\n",
      "\u001b[39mf2py options: []\u001b[0m\n",
      "\u001b[39m  adding 'build/src.linux-x86_64-3.7/build/src.linux-x86_64-3.7/fortranobject.c' to sources.\u001b[0m\n",
      "\u001b[39m  adding 'build/src.linux-x86_64-3.7/build/src.linux-x86_64-3.7' to include_dirs.\u001b[0m\n",
      "\u001b[39m  adding 'build/src.linux-x86_64-3.7/_fastell-f2pywrappers.f' to sources.\u001b[0m\n",
      "\u001b[39mbuild_src: building npy-pkg config files\u001b[0m\n",
      "\u001b[39mwriting fastell4py.egg-info/PKG-INFO\u001b[0m\n",
      "\u001b[39mwriting dependency_links to fastell4py.egg-info/dependency_links.txt\u001b[0m\n",
      "\u001b[39mwriting namespace_packages to fastell4py.egg-info/namespace_packages.txt\u001b[0m\n",
      "\u001b[39mwriting requirements to fastell4py.egg-info/requires.txt\u001b[0m\n",
      "\u001b[39mwriting top-level names to fastell4py.egg-info/top_level.txt\u001b[0m\n",
      "\u001b[39mreading manifest template 'MANIFEST.in'\u001b[0m\n",
      "\u001b[39mwriting manifest file 'fastell4py.egg-info/SOURCES.txt'\u001b[0m\n",
      "\u001b[39minstalling library code to build/bdist.linux-x86_64/egg\u001b[0m\n",
      "\u001b[39mrunning install_lib\u001b[0m\n",
      "\u001b[39mrunning build_py\u001b[0m\n",
      "\u001b[39mrunning build_ext\u001b[0m\n",
      "\u001b[39mcustomize UnixCCompiler\u001b[0m\n",
      "\u001b[39mcustomize UnixCCompiler using build_ext\u001b[0m\n",
      "\u001b[39mget_default_fcompiler: matching types: '['gnu95', 'intel', 'lahey', 'pg', 'nv', 'absoft', 'nag', 'vast', 'compaq', 'intele', 'intelem', 'gnu', 'g95', 'pathf95', 'nagfor']'\u001b[0m\n",
      "\u001b[39mcustomize Gnu95FCompiler\u001b[0m\n",
      "\u001b[39mFound executable /usr/bin/gfortran\u001b[0m\n",
      "\u001b[39mcustomize Gnu95FCompiler\u001b[0m\n",
      "\u001b[39mcustomize Gnu95FCompiler using build_ext\u001b[0m\n",
      "\u001b[39mcreating build/bdist.linux-x86_64/egg\u001b[0m\n",
      "\u001b[39mcreating build/bdist.linux-x86_64/egg/fastell4py\u001b[0m\n",
      "\u001b[39mcopying build/lib.linux-x86_64-3.7/fastell4py/fastell4py.py -> build/bdist.linux-x86_64/egg/fastell4py\u001b[0m\n",
      "\u001b[39mcopying build/lib.linux-x86_64-3.7/fastell4py/__init__.py -> build/bdist.linux-x86_64/egg/fastell4py\u001b[0m\n",
      "\u001b[39mcopying build/lib.linux-x86_64-3.7/fastell4py/_fastell.cpython-37m-x86_64-linux-gnu.so -> build/bdist.linux-x86_64/egg/fastell4py\u001b[0m\n",
      "\u001b[39mcreating build/bdist.linux-x86_64/egg/test\u001b[0m\n",
      "\u001b[39mcopying build/lib.linux-x86_64-3.7/test/test_fastell4py.py -> build/bdist.linux-x86_64/egg/test\u001b[0m\n",
      "\u001b[39mcopying build/lib.linux-x86_64-3.7/test/__init__.py -> build/bdist.linux-x86_64/egg/test\u001b[0m\n",
      "\u001b[39mbyte-compiling build/bdist.linux-x86_64/egg/fastell4py/fastell4py.py to fastell4py.cpython-37.pyc\u001b[0m\n",
      "\u001b[39mbyte-compiling build/bdist.linux-x86_64/egg/fastell4py/__init__.py to __init__.cpython-37.pyc\u001b[0m\n",
      "\u001b[39mbyte-compiling build/bdist.linux-x86_64/egg/test/test_fastell4py.py to test_fastell4py.cpython-37.pyc\u001b[0m\n",
      "\u001b[39mbyte-compiling build/bdist.linux-x86_64/egg/test/__init__.py to __init__.cpython-37.pyc\u001b[0m\n",
      "\u001b[39mcreating stub loader for fastell4py/_fastell.cpython-37m-x86_64-linux-gnu.so\u001b[0m\n",
      "\u001b[39mbyte-compiling build/bdist.linux-x86_64/egg/fastell4py/_fastell.py to _fastell.cpython-37.pyc\u001b[0m\n",
      "\u001b[39mcreating build/bdist.linux-x86_64/egg/EGG-INFO\u001b[0m\n",
      "\u001b[39mcopying fastell4py.egg-info/PKG-INFO -> build/bdist.linux-x86_64/egg/EGG-INFO\u001b[0m\n",
      "\u001b[39mcopying fastell4py.egg-info/SOURCES.txt -> build/bdist.linux-x86_64/egg/EGG-INFO\u001b[0m\n",
      "\u001b[39mcopying fastell4py.egg-info/dependency_links.txt -> build/bdist.linux-x86_64/egg/EGG-INFO\u001b[0m\n",
      "\u001b[39mcopying fastell4py.egg-info/namespace_packages.txt -> build/bdist.linux-x86_64/egg/EGG-INFO\u001b[0m\n",
      "\u001b[39mcopying fastell4py.egg-info/not-zip-safe -> build/bdist.linux-x86_64/egg/EGG-INFO\u001b[0m\n",
      "\u001b[39mcopying fastell4py.egg-info/requires.txt -> build/bdist.linux-x86_64/egg/EGG-INFO\u001b[0m\n",
      "\u001b[39mcopying fastell4py.egg-info/top_level.txt -> build/bdist.linux-x86_64/egg/EGG-INFO\u001b[0m\n",
      "\u001b[39mwriting build/bdist.linux-x86_64/egg/EGG-INFO/native_libs.txt\u001b[0m\n",
      "\u001b[39mcreating 'dist/fastell4py-0.1.0-py3.7-linux-x86_64.egg' and adding 'build/bdist.linux-x86_64/egg' to it\u001b[0m\n",
      "\u001b[39mremoving 'build/bdist.linux-x86_64/egg' (and everything under it)\u001b[0m\n",
      "\u001b[39mProcessing fastell4py-0.1.0-py3.7-linux-x86_64.egg\u001b[0m\n",
      "\u001b[39mremoving '/usr/local/lib/python3.7/dist-packages/fastell4py-0.1.0-py3.7-linux-x86_64.egg' (and everything under it)\u001b[0m\n",
      "\u001b[39mcreating /usr/local/lib/python3.7/dist-packages/fastell4py-0.1.0-py3.7-linux-x86_64.egg\u001b[0m\n",
      "\u001b[39mExtracting fastell4py-0.1.0-py3.7-linux-x86_64.egg to /usr/local/lib/python3.7/dist-packages\u001b[0m\n",
      "\u001b[39mfastell4py 0.1.0 is already the active version in easy-install.pth\u001b[0m\n",
      "\u001b[39m\n",
      "Installed /usr/local/lib/python3.7/dist-packages/fastell4py-0.1.0-py3.7-linux-x86_64.egg\u001b[0m\n",
      "\u001b[39mProcessing dependencies for fastell4py==0.1.0\u001b[0m\n",
      "\u001b[39mSearching for numpy==1.19.5\u001b[0m\n",
      "\u001b[39mBest match: numpy 1.19.5\u001b[0m\n",
      "\u001b[39mAdding numpy 1.19.5 to easy-install.pth file\u001b[0m\n",
      "\u001b[39mInstalling f2py script to /usr/local/bin\u001b[0m\n",
      "\u001b[39mInstalling f2py3 script to /usr/local/bin\u001b[0m\n",
      "\u001b[39mInstalling f2py3.7 script to /usr/local/bin\u001b[0m\n",
      "\u001b[39m\n",
      "Using /usr/local/lib/python3.7/dist-packages\u001b[0m\n",
      "\u001b[39mFinished processing dependencies for fastell4py==0.1.0\u001b[0m\n",
      "/content/drive/MyDrive/Colab Notebooks/deeplens\n",
      "Requirement already up-to-date: PyYAML in /usr/local/lib/python3.7/dist-packages (5.4.1)\n"
     ]
    }
   ],
   "source": [
    "!pip install lenstronomy\n",
    "!pip install h5py\n",
    "!pip install corner\n",
    "!pip install Pillow\n",
    "\n",
    "%cd  drive/MyDrive/'Colab Notebooks'/deeplens/fastell4py/\n",
    "! python setup.py install\n",
    "%cd ..\n",
    "\n",
    "!pip install -U PyYAML"
   ]
  },
  {
   "cell_type": "code",
   "execution_count": 1,
   "metadata": {
    "executionInfo": {
     "elapsed": 19510,
     "status": "ok",
     "timestamp": 1616692938305,
     "user": {
      "displayName": "Emma Hoggett",
      "photoUrl": "https://lh3.googleusercontent.com/a-/AOh14GgPUKVC2O_DRFGM99OSkYdh6iVTYJzQEqnz8pVc7A=s64",
      "userId": "15046273628982635449"
     },
     "user_tz": -60
    },
    "id": "QN06mWZlFu5E"
   },
   "outputs": [],
   "source": [
    "import copy\n",
    "import numpy as np\n",
    "from PIL import Image\n",
    "import matplotlib.pyplot as plt\n",
    "%matplotlib inline\n",
    "\n",
    "# lenstronomy module import\n",
    "from lenstronomy.SimulationAPI.sim_api import SimAPI"
   ]
  },
  {
   "cell_type": "code",
   "execution_count": 3,
   "metadata": {
    "executionInfo": {
     "elapsed": 20546,
     "status": "ok",
     "timestamp": 1616692939348,
     "user": {
      "displayName": "Emma Hoggett",
      "photoUrl": "https://lh3.googleusercontent.com/a-/AOh14GgPUKVC2O_DRFGM99OSkYdh6iVTYJzQEqnz8pVc7A=s64",
      "userId": "15046273628982635449"
     },
     "user_tz": -60
    },
    "id": "rmZGVLtjHMg-"
   },
   "outputs": [],
   "source": [
    "from lenshelpers import*"
   ]
  },
  {
   "cell_type": "markdown",
   "metadata": {
    "id": "l8SiZ19IHwno"
   },
   "source": [
    "#### 1. Lens with mass profile"
   ]
  },
  {
   "cell_type": "markdown",
   "metadata": {
    "id": "ltLxGNj1Hpig"
   },
   "source": [
    "#### 2. Source light"
   ]
  },
  {
   "cell_type": "code",
   "execution_count": 5,
   "metadata": {
    "colab": {
     "base_uri": "https://localhost:8080/"
    },
    "executionInfo": {
     "elapsed": 1083,
     "status": "ok",
     "timestamp": 1616693947928,
     "user": {
      "displayName": "Emma Hoggett",
      "photoUrl": "https://lh3.googleusercontent.com/a-/AOh14GgPUKVC2O_DRFGM99OSkYdh6iVTYJzQEqnz8pVc7A=s64",
      "userId": "15046273628982635449"
     },
     "user_tz": -60
    },
    "id": "o5F6CT4alL2W",
    "outputId": "9ff79126-d269-4921-85e3-07c4c00a2404"
   },
   "outputs": [
    {
     "data": {
      "text/plain": [
       "<lenstronomy.ImSim.image_model.ImageModel at 0x7ff168c70fd0>"
      ]
     },
     "execution_count": 5,
     "metadata": {},
     "output_type": "execute_result"
    }
   ],
   "source": [
    "LensDataset(10,1).imSim_hst"
   ]
  },
  {
   "cell_type": "code",
   "execution_count": 6,
   "metadata": {
    "executionInfo": {
     "elapsed": 26131,
     "status": "ok",
     "timestamp": 1616692944961,
     "user": {
      "displayName": "Emma Hoggett",
      "photoUrl": "https://lh3.googleusercontent.com/a-/AOh14GgPUKVC2O_DRFGM99OSkYdh6iVTYJzQEqnz8pVc7A=s64",
      "userId": "15046273628982635449"
     },
     "user_tz": -60
    },
    "id": "3j_hzgB9M_NM"
   },
   "outputs": [],
   "source": [
    "psf_hdu = fits.open('data/psf.fits')\n",
    "kwargs_hst = HST().kwargs_single_band()\n",
    "kwargs_hst['kernel_point_source'] = np.array(psf_hdu[0].data)\n",
    "numPix = 64 \n",
    "\n",
    "kwargs_model = {'lens_model_list': ['PEMD'],  # list of lens models to be used\n",
    "                'source_light_model_list': ['SERSIC_ELLIPSE'],  # list of extended source models to be used\n",
    "    }\n",
    "\n",
    "kwargs_numerics = {'point_source_supersampling_factor': 1}\n",
    "\n",
    "sim_hst = SimAPI(numpix=numPix, kwargs_single_band=kwargs_hst, kwargs_model=kwargs_model)\n",
    "imSim_hst = sim_hst.image_model_class(kwargs_numerics)"
   ]
  },
  {
   "cell_type": "code",
   "execution_count": 9,
   "metadata": {
    "colab": {
     "base_uri": "https://localhost:8080/"
    },
    "executionInfo": {
     "elapsed": 801,
     "status": "ok",
     "timestamp": 1616693860180,
     "user": {
      "displayName": "Emma Hoggett",
      "photoUrl": "https://lh3.googleusercontent.com/a-/AOh14GgPUKVC2O_DRFGM99OSkYdh6iVTYJzQEqnz8pVc7A=s64",
      "userId": "15046273628982635449"
     },
     "user_tz": -60
    },
    "id": "-dshTlWyc3Hf",
    "outputId": "8df82518-4a61-49b2-ecb5-8d41720917b0"
   },
   "outputs": [
    {
     "data": {
      "text/plain": [
       "array([[ 1.64762869e-01,  2.47314469e+00, -2.21166662e-01, ...,\n",
       "         2.60064179e-02,  1.33362388e+00, -1.12511651e+00],\n",
       "       [ 2.93347134e-01,  2.12232965e+00, -6.26079946e-01, ...,\n",
       "         4.45840619e-01, -4.45072473e-01,  1.23434497e+00],\n",
       "       [ 1.07156378e+00,  1.46339840e+00, -1.00504017e-03, ...,\n",
       "         7.46907493e-01, -3.09597860e-01,  1.21599680e+00],\n",
       "       ...,\n",
       "       [ 1.11247089e+00,  7.38745590e-01,  1.34225498e-01, ...,\n",
       "        -1.32180776e+00,  2.20886656e+00, -5.97946822e-01],\n",
       "       [ 1.65264548e-01, -7.90853691e-01,  6.38991826e-01, ...,\n",
       "         2.32005953e+00, -1.29216746e-01,  2.17857763e-01],\n",
       "       [-9.05615309e-01,  8.40641924e-01, -1.65580825e+00, ...,\n",
       "         1.05318474e-01, -1.98122866e-01,  5.83616436e-01]])"
      ]
     },
     "execution_count": 9,
     "metadata": {},
     "output_type": "execute_result"
    }
   ],
   "source": [
    "(image_model - image_real) / np.sqrt(imSim_hst.Data.C_D_model(model=image_model))"
   ]
  },
  {
   "cell_type": "code",
   "execution_count": 8,
   "metadata": {
    "colab": {
     "base_uri": "https://localhost:8080/",
     "height": 309
    },
    "executionInfo": {
     "elapsed": 839,
     "status": "ok",
     "timestamp": 1616693867483,
     "user": {
      "displayName": "Emma Hoggett",
      "photoUrl": "https://lh3.googleusercontent.com/a-/AOh14GgPUKVC2O_DRFGM99OSkYdh6iVTYJzQEqnz8pVc7A=s64",
      "userId": "15046273628982635449"
     },
     "user_tz": -60
    },
    "id": "X_hrubRiMBmU",
    "outputId": "3540c93f-363d-4a44-a468-803ef381945a"
   },
   "outputs": [
    {
     "name": "stderr",
     "output_type": "stream",
     "text": [
      "/home/emma-hoggett/anaconda3/lib/python3.7/site-packages/ipykernel_launcher.py:16: RuntimeWarning: invalid value encountered in log10\n",
      "  app.launch_new_instance()\n"
     ]
    },
    {
     "data": {
      "image/png": "[encoded data removed]",
      "text/plain": [
       "<Figure size 288x288 with 1 Axes>"
      ]
     },
     "metadata": {
      "needs_background": "light"
     },
     "output_type": "display_data"
    }
   ],
   "source": [
    "# lensing quantities\n",
    "kwargs_spemd = {'theta_E': .66, 'gamma' : 2,'center_x': 0, 'center_y': 0, 'e1': .07, 'e2': -0.03}  # parameters of the deflector lens model\n",
    "kwargs_lens = [kwargs_spemd]\n",
    "\n",
    "# Sersic parameters in the initial simulation for the source\n",
    "kwargs_sersic = {'amp': 16, 'R_sersic': 0.1, 'n_sersic': 1, 'e1': -0.1, 'e2': 0.1, 'center_x': 0, 'center_y': 0}\n",
    "kwargs_source = [kwargs_sersic]\n",
    "\n",
    "# generate image\n",
    "image_model = imSim_hst.image(kwargs_lens, kwargs_source, kwargs_ps=None)\n",
    "# turn 2d data in a 1d data vector\n",
    "\n",
    "image_real = image_model + sim_hst.noise_for_model(model=image_model)\n",
    "\n",
    "\n",
    "plt.matshow(np.log10((image_model - image_real) / np.sqrt(imSim_hst.Data.C_D_model(model=image_model))), origin='lower')\n",
    "plt.show()"
   ]
  },
  {
   "cell_type": "code",
   "execution_count": 10,
   "metadata": {
    "colab": {
     "base_uri": "https://localhost:8080/"
    },
    "executionInfo": {
     "elapsed": 26468,
     "status": "ok",
     "timestamp": 1616692945311,
     "user": {
      "displayName": "Emma Hoggett",
      "photoUrl": "https://lh3.googleusercontent.com/a-/AOh14GgPUKVC2O_DRFGM99OSkYdh6iVTYJzQEqnz8pVc7A=s64",
      "userId": "15046273628982635449"
     },
     "user_tz": -60
    },
    "id": "4de2UGu6Z2OQ",
    "outputId": "26d9427f-cafa-4f42-b39d-4a02094f2f9e"
   },
   "outputs": [
    {
     "data": {
      "text/plain": [
       "array([[8.76083425e-05, 9.35230613e-05, 1.00833441e-04, ...,\n",
       "        8.53964718e-05, 8.07852551e-05, 7.48340099e-05],\n",
       "       [9.53508468e-05, 1.00251961e-04, 1.07324396e-04, ...,\n",
       "        9.37083316e-05, 8.87323842e-05, 8.32768646e-05],\n",
       "       [1.04742056e-04, 1.09392724e-04, 1.15655943e-04, ...,\n",
       "        1.02974873e-04, 9.87050283e-05, 9.31446420e-05],\n",
       "       ...,\n",
       "       [9.60969255e-05, 9.96010650e-05, 1.02187987e-04, ...,\n",
       "        1.09960495e-04, 1.03379530e-04, 9.75576571e-05],\n",
       "       [8.54324141e-05, 8.83414487e-05, 9.17022965e-05, ...,\n",
       "        1.02330034e-04, 9.47308416e-05, 8.83722644e-05],\n",
       "       [7.62101636e-05, 7.97838406e-05, 8.32925335e-05, ...,\n",
       "        9.62177336e-05, 8.84930748e-05, 8.13190802e-05]])"
      ]
     },
     "execution_count": 10,
     "metadata": {
      "tags": []
     },
     "output_type": "execute_result"
    }
   ],
   "source": [
    "image_model"
   ]
  },
  {
   "cell_type": "code",
   "execution_count": 11,
   "metadata": {
    "executionInfo": {
     "elapsed": 26462,
     "status": "ok",
     "timestamp": 1616692945312,
     "user": {
      "displayName": "Emma Hoggett",
      "photoUrl": "https://lh3.googleusercontent.com/a-/AOh14GgPUKVC2O_DRFGM99OSkYdh6iVTYJzQEqnz8pVc7A=s64",
      "userId": "15046273628982635449"
     },
     "user_tz": -60
    },
    "id": "DTahvIutZUPY"
   },
   "outputs": [],
   "source": [
    "import pandas as pd\n",
    "import numpy as np\n",
    "\n",
    "\n",
    "size_final = 10\n",
    "seed = 42\n",
    "image_model = np.zeros((size_final, 1,64,64))"
   ]
  },
  {
   "cell_type": "code",
   "execution_count": 12,
   "metadata": {
    "executionInfo": {
     "elapsed": 26456,
     "status": "ok",
     "timestamp": 1616692945312,
     "user": {
      "displayName": "Emma Hoggett",
      "photoUrl": "https://lh3.googleusercontent.com/a-/AOh14GgPUKVC2O_DRFGM99OSkYdh6iVTYJzQEqnz8pVc7A=s64",
      "userId": "15046273628982635449"
     },
     "user_tz": -60
    },
    "id": "ns0LH4xgh0um"
   },
   "outputs": [],
   "source": [
    "import lenstronomy.Util.param_util as param_util\n",
    "center_x = 0\n",
    "center_y = 0\n",
    "amp = 20\n",
    "d = np.zeros((size_final,11))\n",
    "\n",
    "for i in np.array([2, 7]):\n",
    "    q =  np.random.default_rng(i).uniform(.7,1,size_final)\n",
    "    phi = np.random.default_rng(i).uniform(0,math.pi,size_final)\n",
    "    d[:,i] = (1-q[:])/(1+q[:])*np.cos(phi[:])\n",
    "    d[:,i+1] = (1-q[:])/(1+q[:])*np.sin(phi[:])\n",
    "\n",
    "\n",
    "\n",
    "seed = 42\n",
    "d[:,0] = np.random.default_rng(seed).uniform(1,2,size_final)\n",
    "d[:,1] = np.random.default_rng(seed).uniform(1.8,2.2,size_final)\n",
    "d[:,4] = np.random.default_rng(seed).uniform(20,24,size_final)\n",
    "d[:,5] = np.random.default_rng(seed).uniform(0.1,0.4,size_final)\n",
    "d[:,6] = np.random.default_rng(seed).uniform(0.8,5,size_final)\n",
    "d[:,9] = np.random.default_rng(seed+1).uniform(-0.5,0.5,size_final)\n",
    "d[:,10] = np.random.default_rng(seed).uniform(-0.5,0.5,size_final)\n",
    "\n",
    "metadata = pd.DataFrame(data=d)\n",
    "\n",
    "metadata.columns = ['MASS_PROFILE_theta_E', 'MASS_PROFILE_gamma', 'MASS_PROFILE_e1', 'MASS_PROFILE_e2',\n",
    "                    'SOURCE_PROFILE_amp', 'SOURCE_PROFILE_R_sersic', 'SOURCE_PROFILE_n_sersic', 'SOURCE_PROFILE_e1', 'SOURCE_PROFILE_e2','SOURCE_PROFILE_center_x', 'SOURCE_PROFILE_center_y']"
   ]
  },
  {
   "cell_type": "code",
   "execution_count": 13,
   "metadata": {
    "colab": {
     "base_uri": "https://localhost:8080/"
    },
    "executionInfo": {
     "elapsed": 26451,
     "status": "ok",
     "timestamp": 1616692945313,
     "user": {
      "displayName": "Emma Hoggett",
      "photoUrl": "https://lh3.googleusercontent.com/a-/AOh14GgPUKVC2O_DRFGM99OSkYdh6iVTYJzQEqnz8pVc7A=s64",
      "userId": "15046273628982635449"
     },
     "user_tz": -60
    },
    "id": "y0kXWj-eZ0uB",
    "outputId": "599f6033-ae5b-474a-cc5e-d26c82363c24"
   },
   "outputs": [
    {
     "data": {
      "text/plain": [
       "-0.049614062104432866"
      ]
     },
     "execution_count": 13,
     "metadata": {
      "tags": []
     },
     "output_type": "execute_result"
    }
   ],
   "source": [
    "d[9,10]"
   ]
  },
  {
   "cell_type": "code",
   "execution_count": 14,
   "metadata": {
    "colab": {
     "base_uri": "https://localhost:8080/"
    },
    "executionInfo": {
     "elapsed": 26445,
     "status": "ok",
     "timestamp": 1616692945313,
     "user": {
      "displayName": "Emma Hoggett",
      "photoUrl": "https://lh3.googleusercontent.com/a-/AOh14GgPUKVC2O_DRFGM99OSkYdh6iVTYJzQEqnz8pVc7A=s64",
      "userId": "15046273628982635449"
     },
     "user_tz": -60
    },
    "id": "n2gyYHaIep1c",
    "outputId": "8123657b-a343-45c6-ffa2-65a849b19e13"
   },
   "outputs": [
    {
     "data": {
      "text/plain": [
       "array([ 0.15229926, -0.45622468, -0.47997041,  0.33921258,  0.08714305,\n",
       "       -0.27529477,  0.25179227, -0.2363078 , -0.08002209, -0.04896861])"
      ]
     },
     "execution_count": 14,
     "metadata": {
      "tags": []
     },
     "output_type": "execute_result"
    }
   ],
   "source": [
    "d[:,9]"
   ]
  },
  {
   "cell_type": "code",
   "execution_count": 15,
   "metadata": {
    "executionInfo": {
     "elapsed": 26441,
     "status": "ok",
     "timestamp": 1616692945315,
     "user": {
      "displayName": "Emma Hoggett",
      "photoUrl": "https://lh3.googleusercontent.com/a-/AOh14GgPUKVC2O_DRFGM99OSkYdh6iVTYJzQEqnz8pVc7A=s64",
      "userId": "15046273628982635449"
     },
     "user_tz": -60
    },
    "id": "32Va8UO3o5X8"
   },
   "outputs": [],
   "source": [
    "for i in np.arange(0,size_final):\n",
    "\n",
    "\n",
    "    kwargs_spemd = {'theta_E': metadata['MASS_PROFILE_theta_E'][i], 'gamma': metadata['MASS_PROFILE_gamma'][i], 'center_x': center_x, 'center_y': center_y, 'e1':metadata['MASS_PROFILE_e1'][i], 'e2': metadata['MASS_PROFILE_e2'][i]}  # parameters of the deflector lens model\n",
    "    kwargs_lens = [kwargs_spemd]\n",
    "\n",
    "    # Sersic parameters in the initial simulation for the source\n",
    "    kwargs_sersic = {'amp':  metadata['SOURCE_PROFILE_amp'][i], 'R_sersic': metadata['SOURCE_PROFILE_R_sersic'][i], 'n_sersic':  metadata['SOURCE_PROFILE_n_sersic'][i], 'e1':  metadata['SOURCE_PROFILE_e1'][i], 'e2':  metadata['SOURCE_PROFILE_e2'][i], 'center_x': metadata['SOURCE_PROFILE_center_x'][i], 'center_y':  metadata['SOURCE_PROFILE_center_y'][i]}\n",
    "    kwargs_source = [kwargs_sersic]\n",
    "\n",
    "    # generate image\n",
    "    image_model[i,0,:,:] = imSim_hst.image(kwargs_lens, kwargs_source, kwargs_ps=None)\n"
   ]
  },
  {
   "cell_type": "code",
   "execution_count": 18,
   "metadata": {
    "colab": {
     "base_uri": "https://localhost:8080/",
     "height": 163
    },
    "executionInfo": {
     "elapsed": 823,
     "status": "error",
     "timestamp": 1616692980036,
     "user": {
      "displayName": "Emma Hoggett",
      "photoUrl": "https://lh3.googleusercontent.com/a-/AOh14GgPUKVC2O_DRFGM99OSkYdh6iVTYJzQEqnz8pVc7A=s64",
      "userId": "15046273628982635449"
     },
     "user_tz": -60
    },
    "id": "PDiuVD1qM1K6",
    "outputId": "ea2aea81-3c62-45a6-f4cb-f67f5dd44338"
   },
   "outputs": [
    {
     "ename": "AttributeError",
     "evalue": "ignored",
     "output_type": "error",
     "traceback": [
      "\u001b[0;31m---------------------------------------------------------------------------\u001b[0m",
      "\u001b[0;31mAttributeError\u001b[0m                            Traceback (most recent call last)",
      "\u001b[0;32m<ipython-input-18-394aab47cd58>\u001b[0m in \u001b[0;36m<module>\u001b[0;34m()\u001b[0m\n\u001b[0;32m----> 1\u001b[0;31m \u001b[0msim_hst\u001b[0m\u001b[0;34m.\u001b[0m\u001b[0mC_D\u001b[0m\u001b[0;34m\u001b[0m\u001b[0;34m\u001b[0m\u001b[0m\n\u001b[0m",
      "\u001b[0;31mAttributeError\u001b[0m: 'SimAPI' object has no attribute 'C_D'"
     ]
    }
   ],
   "source": [
    "sim_hst.C_D"
   ]
  },
  {
   "cell_type": "code",
   "execution_count": null,
   "metadata": {
    "executionInfo": {
     "elapsed": 26428,
     "status": "aborted",
     "timestamp": 1616692945316,
     "user": {
      "displayName": "Emma Hoggett",
      "photoUrl": "https://lh3.googleusercontent.com/a-/AOh14GgPUKVC2O_DRFGM99OSkYdh6iVTYJzQEqnz8pVc7A=s64",
      "userId": "15046273628982635449"
     },
     "user_tz": -60
    },
    "id": "cFp1G0Ksr0x5"
   },
   "outputs": [],
   "source": [
    "plt.matshow(np.log10(image_model[1,0,:,:]), origin='lower')\n",
    "plt.show()"
   ]
  },
  {
   "cell_type": "code",
   "execution_count": null,
   "metadata": {
    "executionInfo": {
     "elapsed": 26422,
     "status": "aborted",
     "timestamp": 1616692945316,
     "user": {
      "displayName": "Emma Hoggett",
      "photoUrl": "https://lh3.googleusercontent.com/a-/AOh14GgPUKVC2O_DRFGM99OSkYdh6iVTYJzQEqnz8pVc7A=s64",
      "userId": "15046273628982635449"
     },
     "user_tz": -60
    },
    "id": "jw0iL3U1tSQr"
   },
   "outputs": [],
   "source": [
    "class LensDataset():\n",
    "    def __init__(self, size, seed = 42, center_x = 0, center_y = 0, amp = 17, thetaE_range = [0.5, 1.25], gamma_range = [1.5, 2.5], ei_range = [-1, 1], Rsersic_range = [0, 30], nsersic_range = [1,10]):\n",
    "        self.size = size\n",
    "        self.param_range = np.stack((thetaE_range,gamma_range,ei_range,ei_range,Rsersic_range, nsersic_range,ei_range,ei_range))\n",
    "        self.data = np.zeros((size_final,self.param_range.shape[0]))\n",
    "        self.seed = seed\n",
    "        self.center_x = center_x\n",
    "        self.center_y = center_y\n",
    "        self.amp = amp\n",
    "        self.image = np.zeros((size_final, 1,64,64))\n",
    "        psf_hdu = fits.open('oversampled_PSF.fits')\n",
    "        kwargs_hst = HST().kwargs_single_band()\n",
    "        kwargs_hst['kernel_point_source'] = np.array([tple[0:251] for tple in psf_hdu[0].data[0:251]])\n",
    "        numPix = 64 \n",
    "\n",
    "        kwargs_model = {'lens_model_list': ['PEMD'],  # list of lens models to be used\n",
    "                        'source_light_model_list': ['SERSIC_ELLIPSE'],  # list of extended source models to be used\n",
    "            }\n",
    "\n",
    "        kwargs_numerics = {'point_source_supersampling_factor': 1}\n",
    "\n",
    "        sim_hst = SimAPI(numpix=numPix, kwargs_single_band=kwargs_hst, kwargs_model=kwargs_model)\n",
    "        self.imSim_hst = sim_hst.image_model_class(kwargs_numerics)\n",
    "\n",
    "        for i in np.arange(0,self.param_range.shape[0]):\n",
    "            self.data[:,i] = np.random.default_rng(self.seed).uniform(self.param_range[i,0],self.param_range[i,1],self.size)\n",
    "        self.params = pd.DataFrame(data=self.data)\n",
    "        self.params.columns = ['MASS_PROFILE_theta_E', 'MASS_PROFILE_gamma', 'MASS_PROFILE_e1', 'MASS_PROFILE_e2',\n",
    "                                 'SOURCE_PROFILE_R_sersic', 'SOURCE_PROFILE_n_sersic', 'SOURCE_PROFILE_e1', 'SOURCE_PROFILE_e2']\n",
    "        \n",
    "        \n",
    "        for i in np.arange(0,self.size):\n",
    "\n",
    "\n",
    "            kwargs_spemd = {'theta_E': self.params['MASS_PROFILE_theta_E'][i], 'gamma': self.params['MASS_PROFILE_gamma'][i], 'center_x': self.center_x, 'center_y': self.center_y, 'e1':self.params['MASS_PROFILE_e1'][i], 'e2': self.params['MASS_PROFILE_e2'][i]}  # parameters of the deflector lens model\n",
    "            kwargs_lens = [kwargs_spemd]\n",
    "\n",
    "            # Sersic parameters in the initial simulation for the source\n",
    "            kwargs_sersic = {'amp': self.amp, 'R_sersic': self.params['SOURCE_PROFILE_R_sersic'][i], 'n_sersic':  self.params['SOURCE_PROFILE_n_sersic'][i], 'e1':  self.params['SOURCE_PROFILE_e1'][i], 'e2':  self.params['SOURCE_PROFILE_e2'][i], 'center_x': self.center_x, 'center_y': self.center_y}\n",
    "            kwargs_source = [kwargs_sersic]\n",
    "\n",
    "            # generate image\n",
    "            self.image[i,:,:] = self.imSim_hst.image(kwargs_lens, kwargs_source, kwargs_ps=None)\n",
    "            \n",
    "    def metadata(self):\n",
    "        return self.params\n",
    "    def images(self):\n",
    "        return self.image"
   ]
  },
  {
   "cell_type": "code",
   "execution_count": null,
   "metadata": {
    "executionInfo": {
     "elapsed": 26417,
     "status": "aborted",
     "timestamp": 1616692945317,
     "user": {
      "displayName": "Emma Hoggett",
      "photoUrl": "https://lh3.googleusercontent.com/a-/AOh14GgPUKVC2O_DRFGM99OSkYdh6iVTYJzQEqnz8pVc7A=s64",
      "userId": "15046273628982635449"
     },
     "user_tz": -60
    },
    "id": "KCJOj5IVZI3X"
   },
   "outputs": [],
   "source": [
    "dataset = LensDataset(10)\n",
    "\n",
    "dataset.images()[0].shape"
   ]
  }
 ],
 "metadata": {
  "colab": {
   "authorship_tag": "ABX9TyMRApB5eGOK+FGTVXNzvvze",
   "collapsed_sections": [],
   "name": "lens.ipynb",
   "provenance": []
  },
  "kernelspec": {
   "display_name": "Python 3",
   "language": "python",
   "name": "python3"
  },
  "language_info": {
   "codemirror_mode": {
    "name": "ipython",
    "version": 3
   },
   "file_extension": ".py",
   "mimetype": "text/x-python",
   "name": "python",
   "nbconvert_exporter": "python",
   "pygments_lexer": "ipython3",
   "version": "3.7.6"
  }
 },
 "nbformat": 4,
 "nbformat_minor": 4
}
