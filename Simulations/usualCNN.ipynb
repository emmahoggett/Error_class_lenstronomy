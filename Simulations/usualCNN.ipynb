{
 "cells": [
  {
   "cell_type": "markdown",
   "id": "original-christmas",
   "metadata": {
    "id": "written-sample"
   },
   "source": [
    "# 0. Import"
   ]
  },
  {
   "cell_type": "code",
   "execution_count": 1,
   "id": "amino-feature",
   "metadata": {
    "executionInfo": {
     "elapsed": 3972,
     "status": "ok",
     "timestamp": 1616692453475,
     "user": {
      "displayName": "Emma Hoggett",
      "photoUrl": "https://lh3.googleusercontent.com/a-/AOh14GgPUKVC2O_DRFGM99OSkYdh6iVTYJzQEqnz8pVc7A=s64",
      "userId": "15046273628982635449"
     },
     "user_tz": -60
    },
    "id": "comfortable-tucson"
   },
   "outputs": [],
   "source": [
    "import matplotlib.pyplot as plt\n",
    "import numpy as np\n",
    "import pandas as pd\n",
    "from sklearn.model_selection import train_test_split\n",
    "\n",
    "import torch\n",
    "from torch.utils.data import DataLoader\n",
    "import torch.nn as nn\n",
    "\n",
    "\n",
    "from helpers import read_hdf5, CombineDataset\n",
    "from lenshelpers import Residual\n",
    "\n",
    "from model.helpers_model import NeuralNet\n",
    "\n",
    "import warnings\n",
    "warnings.filterwarnings('ignore') "
   ]
  },
  {
   "cell_type": "markdown",
   "id": "patent-narrative",
   "metadata": {
    "id": "enhanced-enterprise"
   },
   "source": [
    "# 1. Building the data set"
   ]
  },
  {
   "cell_type": "code",
   "execution_count": 2,
   "id": "relative-prize",
   "metadata": {
    "colab": {
     "base_uri": "https://localhost:8080/",
     "height": 374
    },
    "executionInfo": {
     "elapsed": 5231,
     "status": "error",
     "timestamp": 1616692454742,
     "user": {
      "displayName": "Emma Hoggett",
      "photoUrl": "https://lh3.googleusercontent.com/a-/AOh14GgPUKVC2O_DRFGM99OSkYdh6iVTYJzQEqnz8pVc7A=s64",
      "userId": "15046273628982635449"
     },
     "user_tz": -60
    },
    "id": "intermediate-blood",
    "outputId": "c1d905f2-e341-4469-ac08-4f56582db157"
   },
   "outputs": [
    {
     "name": "stdout",
     "output_type": "stream",
     "text": [
      "Data Generation Finished\n"
     ]
    }
   ],
   "source": [
    "# Build the four classes \n",
    "config_repo_model = 'data/configFile/config_model'\n",
    "ratio = 0.75\n",
    "percent = 0.01\n",
    "\n",
    "size = 30\n",
    "for i in np.arange(1,4):\n",
    "    #model_name = config_repo_model + str(i) + '.yaml'\n",
    "    res = Residual()\n",
    "    res.build(size, i, ratio = ratio, per_error = percent)\n",
    "\n",
    "print('Data Generation Finished')"
   ]
  },
  {
   "cell_type": "code",
   "execution_count": 3,
   "id": "czech-repeat",
   "metadata": {
    "executionInfo": {
     "elapsed": 5206,
     "status": "aborted",
     "timestamp": 1616692454724,
     "user": {
      "displayName": "Emma Hoggett",
      "photoUrl": "https://lh3.googleusercontent.com/a-/AOh14GgPUKVC2O_DRFGM99OSkYdh6iVTYJzQEqnz8pVc7A=s64",
      "userId": "15046273628982635449"
     },
     "user_tz": -60
    },
    "id": "j4ngxjJlpBa7"
   },
   "outputs": [
    {
     "name": "stdout",
     "output_type": "stream",
     "text": [
      "Reading Data Finished\n"
     ]
    }
   ],
   "source": [
    "metadata = pd.DataFrame()\n",
    "\n",
    "for i in np.arange(1,4):\n",
    "    str_ID = \"E\"+str(i)+\"P\"+str(int(percent*100))+\"R\"+str(int(ratio*100))\n",
    "    [img, meta] = read_hdf5(str_ID, path = \"data/dataSet/\")\n",
    "    metadata = pd.concat([metadata,meta], ignore_index=True)\n",
    "    if i == 1:\n",
    "        final_array = img\n",
    "    else:\n",
    "         final_array = np.concatenate((final_array, img))\n",
    "metadata ['ID'] = np.arange(0,final_array.shape[0])\n",
    "data_set = CombineDataset(metadata,'ID','class',final_array)\n",
    "\n",
    "print('Reading Data Finished')\n",
    "data_train, data_test = train_test_split(data_set,train_size=0.9,random_state=42)"
   ]
  },
  {
   "cell_type": "code",
   "execution_count": 4,
   "id": "facial-optics",
   "metadata": {
    "executionInfo": {
     "elapsed": 5201,
     "status": "aborted",
     "timestamp": 1616692454725,
     "user": {
      "displayName": "Emma Hoggett",
      "photoUrl": "https://lh3.googleusercontent.com/a-/AOh14GgPUKVC2O_DRFGM99OSkYdh6iVTYJzQEqnz8pVc7A=s64",
      "userId": "15046273628982635449"
     },
     "user_tz": -60
    },
    "id": "UkL0TbTeB092"
   },
   "outputs": [],
   "source": [
    "batch_size_train = 1\n",
    "batch_size_test = 1\n",
    "max_epoch = 50\n",
    "\n",
    "\n",
    "loader_train = DataLoader(data_train, batch_size = batch_size_train, shuffle = True, \n",
    "                          num_workers = 0, drop_last=True)\n",
    "\n",
    "loader_test = DataLoader(data_test, batch_size = batch_size_test, shuffle = True, \n",
    "                         num_workers = 0, drop_last=True)"
   ]
  },
  {
   "cell_type": "markdown",
   "id": "sophisticated-victory",
   "metadata": {
    "id": "behind-benchmark"
   },
   "source": [
    "# 2. Baseline"
   ]
  },
  {
   "cell_type": "markdown",
   "id": "supreme-distance",
   "metadata": {
    "id": "jRnYdliz-86r"
   },
   "source": [
    "## 2.1. Residual network\n",
    "\n",
    "**Results** : 6 epochs - 0.993 accuracy"
   ]
  },
  {
   "cell_type": "code",
   "execution_count": 5,
   "id": "commercial-kansas",
   "metadata": {
    "executionInfo": {
     "elapsed": 5190,
     "status": "aborted",
     "timestamp": 1616692454726,
     "user": {
      "displayName": "Emma Hoggett",
      "photoUrl": "https://lh3.googleusercontent.com/a-/AOh14GgPUKVC2O_DRFGM99OSkYdh6iVTYJzQEqnz8pVc7A=s64",
      "userId": "15046273628982635449"
     },
     "user_tz": -60
    },
    "id": "6jdGxSbwAkOV"
   },
   "outputs": [
    {
     "name": "stdout",
     "output_type": "stream",
     "text": [
      "Finished Training\n"
     ]
    }
   ],
   "source": [
    "test_acc = np.zeros(max_epoch)\n",
    "netbasic = NeuralNet('BasicCNN', 'Adam')\n",
    "for epoch in range(max_epoch):\n",
    "    netbasic.train(loader_train)\n",
    "    res = netbasic.test(loader_test,epoch)\n",
    "    test_acc[epoch] = res\n",
    "    \n",
    "print('Finished Training')"
   ]
  },
  {
   "cell_type": "markdown",
   "id": "experienced-barrier",
   "metadata": {},
   "source": [
    "## 2.2. Metadata network\n",
    "**Results** : 4 epochs - 0.865 accuracy "
   ]
  },
  {
   "cell_type": "code",
   "execution_count": 6,
   "id": "framed-reference",
   "metadata": {},
   "outputs": [
    {
     "name": "stdout",
     "output_type": "stream",
     "text": [
      "Finished Training\n"
     ]
    }
   ],
   "source": [
    "test_acc_meta = np.zeros(max_epoch)\n",
    "netbasic = NeuralNet('BasicTabular', 'Adam')\n",
    "for epoch in range(max_epoch):\n",
    "    netbasic.train(loader_train)\n",
    "    res = netbasic.test(loader_test,epoch)\n",
    "    test_acc_meta[epoch] = res\n",
    "    \n",
    "print('Finished Training')"
   ]
  },
  {
   "cell_type": "markdown",
   "id": "loaded-deadline",
   "metadata": {},
   "source": [
    "## 2.3. Tabular & Residual network\n",
    "**Results** : 8 epochs -  0.995 accuracy"
   ]
  },
  {
   "cell_type": "code",
   "execution_count": 7,
   "id": "brutal-logan",
   "metadata": {},
   "outputs": [
    {
     "name": "stdout",
     "output_type": "stream",
     "text": [
      "epoch: 1.000, accuracy: 0.333 \n",
      "Finished Training\n"
     ]
    }
   ],
   "source": [
    "test_acc_metaxres = np.zeros(max_epoch)\n",
    "netbasic = NeuralNet('BasicCNNTabular', 'Adam')\n",
    "for epoch in range(max_epoch):\n",
    "    netbasic.train(loader_train)\n",
    "    res = netbasic.test(loader_test,epoch)\n",
    "    test_acc_metaxres[epoch] = res\n",
    "    \n",
    "print('Finished Training')"
   ]
  },
  {
   "cell_type": "code",
   "execution_count": 8,
   "id": "awful-karma",
   "metadata": {},
   "outputs": [
    {
     "data": {
      "image/png": "[encoded data removed]",
      "text/plain": [
       "<Figure size 432x288 with 1 Axes>"
      ]
     },
     "metadata": {},
     "output_type": "display_data"
    }
   ],
   "source": [
    "import seaborn as sns\n",
    "sns.set_theme(style=\"whitegrid\")\n",
    "\n",
    "sns.lineplot(x=np.arange(0,max_epoch), y=test_acc, label = 'Residual')\n",
    "sns.lineplot(x=np.arange(0,max_epoch), y=test_acc_meta, label = 'Metadata')\n",
    "sns.lineplot(x=np.arange(0,max_epoch), y=test_acc_metaxres, label = 'Metadata & Residual')\n",
    "\n",
    "plt.xlabel('Epochs [-]')\n",
    "plt.ylabel('Accuracy [-]')\n",
    "plt.title('Test accuracy with basic neural network', size = 'large')\n",
    "plt.savefig('figures/basicS3000P1.jpeg')"
   ]
  },
  {
   "cell_type": "markdown",
   "id": "engaging-profession",
   "metadata": {
    "id": "fFggBB71DUYd"
   },
   "source": [
    "# 3. Building different model"
   ]
  },
  {
   "cell_type": "markdown",
   "id": "french-deadline",
   "metadata": {
    "id": "oKMUD771DhqL"
   },
   "source": [
    "## 3.1. AlexNet - Residual maps\n",
    "### 3.1.2 Padding\n",
    "**Results** :  epochs -  accuracy "
   ]
  },
  {
   "cell_type": "code",
   "execution_count": 9,
   "id": "intensive-italic",
   "metadata": {
    "executionInfo": {
     "elapsed": 5179,
     "status": "aborted",
     "timestamp": 1616692454727,
     "user": {
      "displayName": "Emma Hoggett",
      "photoUrl": "https://lh3.googleusercontent.com/a-/AOh14GgPUKVC2O_DRFGM99OSkYdh6iVTYJzQEqnz8pVc7A=s64",
      "userId": "15046273628982635449"
     },
     "user_tz": -60
    },
    "id": "D5s3kMmVv_1U"
   },
   "outputs": [
    {
     "name": "stdout",
     "output_type": "stream",
     "text": [
      "Finished Training\n"
     ]
    }
   ],
   "source": [
    "test_acc_pad = np.zeros(max_epoch)\n",
    "netbasic = NeuralNet('AlexNet', 'Adam')\n",
    "for epoch in range(max_epoch):\n",
    "    netbasic.train(loader_train, resize_tp = 'Padding')\n",
    "    res = netbasic.test(loader_test,epoch)\n",
    "    test_acc_pad[epoch] = res\n",
    "    \n",
    "print('Finished Training')"
   ]
  },
  {
   "cell_type": "markdown",
   "id": "resistant-genome",
   "metadata": {},
   "source": [
    "### 3.1.2. Interpolation\n",
    "\n",
    "**Results** :  epochs -  accuracy "
   ]
  },
  {
   "cell_type": "code",
   "execution_count": 10,
   "id": "fifteen-designation",
   "metadata": {
    "executionInfo": {
     "elapsed": 5168,
     "status": "aborted",
     "timestamp": 1616692454728,
     "user": {
      "displayName": "Emma Hoggett",
      "photoUrl": "https://lh3.googleusercontent.com/a-/AOh14GgPUKVC2O_DRFGM99OSkYdh6iVTYJzQEqnz8pVc7A=s64",
      "userId": "15046273628982635449"
     },
     "user_tz": -60
    },
    "id": "uz9vNVCD9tWA"
   },
   "outputs": [
    {
     "ename": "KeyboardInterrupt",
     "evalue": "",
     "output_type": "error",
     "traceback": [
      "\u001b[0;31m---------------------------------------------------------------------------\u001b[0m",
      "\u001b[0;31mKeyboardInterrupt\u001b[0m                         Traceback (most recent call last)",
      "\u001b[0;32m<ipython-input-10-d73e7169cb9f>\u001b[0m in \u001b[0;36m<module>\u001b[0;34m\u001b[0m\n\u001b[1;32m      2\u001b[0m \u001b[0mnetbasic\u001b[0m \u001b[0;34m=\u001b[0m \u001b[0mNeuralNet\u001b[0m\u001b[0;34m(\u001b[0m\u001b[0;34m'AlexNet'\u001b[0m\u001b[0;34m,\u001b[0m \u001b[0;34m'Adam'\u001b[0m\u001b[0;34m)\u001b[0m\u001b[0;34m\u001b[0m\u001b[0;34m\u001b[0m\u001b[0m\n\u001b[1;32m      3\u001b[0m \u001b[0;32mfor\u001b[0m \u001b[0mepoch\u001b[0m \u001b[0;32min\u001b[0m \u001b[0mrange\u001b[0m\u001b[0;34m(\u001b[0m\u001b[0mmax_epoch\u001b[0m\u001b[0;34m)\u001b[0m\u001b[0;34m:\u001b[0m\u001b[0;34m\u001b[0m\u001b[0;34m\u001b[0m\u001b[0m\n\u001b[0;32m----> 4\u001b[0;31m     \u001b[0mnetbasic\u001b[0m\u001b[0;34m.\u001b[0m\u001b[0mtrain\u001b[0m\u001b[0;34m(\u001b[0m\u001b[0mloader_train\u001b[0m\u001b[0;34m,\u001b[0m \u001b[0mresize_tp\u001b[0m \u001b[0;34m=\u001b[0m \u001b[0;34m'Interpolate'\u001b[0m\u001b[0;34m)\u001b[0m\u001b[0;34m\u001b[0m\u001b[0;34m\u001b[0m\u001b[0m\n\u001b[0m\u001b[1;32m      5\u001b[0m     \u001b[0mres\u001b[0m \u001b[0;34m=\u001b[0m \u001b[0mnetbasic\u001b[0m\u001b[0;34m.\u001b[0m\u001b[0mtest\u001b[0m\u001b[0;34m(\u001b[0m\u001b[0mloader_test\u001b[0m\u001b[0;34m,\u001b[0m\u001b[0mepoch\u001b[0m\u001b[0;34m)\u001b[0m\u001b[0;34m\u001b[0m\u001b[0;34m\u001b[0m\u001b[0m\n\u001b[1;32m      6\u001b[0m     \u001b[0mtest_acc_int\u001b[0m\u001b[0;34m[\u001b[0m\u001b[0mepoch\u001b[0m\u001b[0;34m]\u001b[0m \u001b[0;34m=\u001b[0m \u001b[0mres\u001b[0m\u001b[0;34m\u001b[0m\u001b[0;34m\u001b[0m\u001b[0m\n",
      "\u001b[0;32m~/Documents/Error_class_lenstronomy/Simulations/model/helpers_model.py\u001b[0m in \u001b[0;36mtrain\u001b[0;34m(self, loader_train, resize_tp)\u001b[0m\n\u001b[1;32m     55\u001b[0m                 \u001b[0mloss\u001b[0m \u001b[0;34m=\u001b[0m \u001b[0mself\u001b[0m\u001b[0;34m.\u001b[0m\u001b[0mcriterion\u001b[0m\u001b[0;34m(\u001b[0m\u001b[0moutputs\u001b[0m\u001b[0;34m,\u001b[0m\u001b[0mlabels\u001b[0m\u001b[0;34m)\u001b[0m\u001b[0;34m\u001b[0m\u001b[0;34m\u001b[0m\u001b[0m\n\u001b[1;32m     56\u001b[0m             \u001b[0mloss\u001b[0m\u001b[0;34m.\u001b[0m\u001b[0mbackward\u001b[0m\u001b[0;34m(\u001b[0m\u001b[0;34m)\u001b[0m\u001b[0;34m\u001b[0m\u001b[0;34m\u001b[0m\u001b[0m\n\u001b[0;32m---> 57\u001b[0;31m             \u001b[0mself\u001b[0m\u001b[0;34m.\u001b[0m\u001b[0moptimizer\u001b[0m\u001b[0;34m.\u001b[0m\u001b[0mstep\u001b[0m\u001b[0;34m(\u001b[0m\u001b[0;34m)\u001b[0m\u001b[0;34m\u001b[0m\u001b[0;34m\u001b[0m\u001b[0m\n\u001b[0m\u001b[1;32m     58\u001b[0m \u001b[0;34m\u001b[0m\u001b[0m\n\u001b[1;32m     59\u001b[0m \u001b[0;34m\u001b[0m\u001b[0m\n",
      "\u001b[0;32m~/anaconda3/envs/deeplens/lib/python3.7/site-packages/torch/autograd/grad_mode.py\u001b[0m in \u001b[0;36mdecorate_context\u001b[0;34m(*args, **kwargs)\u001b[0m\n\u001b[1;32m     24\u001b[0m         \u001b[0;32mdef\u001b[0m \u001b[0mdecorate_context\u001b[0m\u001b[0;34m(\u001b[0m\u001b[0;34m*\u001b[0m\u001b[0margs\u001b[0m\u001b[0;34m,\u001b[0m \u001b[0;34m**\u001b[0m\u001b[0mkwargs\u001b[0m\u001b[0;34m)\u001b[0m\u001b[0;34m:\u001b[0m\u001b[0;34m\u001b[0m\u001b[0;34m\u001b[0m\u001b[0m\n\u001b[1;32m     25\u001b[0m             \u001b[0;32mwith\u001b[0m \u001b[0mself\u001b[0m\u001b[0;34m.\u001b[0m\u001b[0m__class__\u001b[0m\u001b[0;34m(\u001b[0m\u001b[0;34m)\u001b[0m\u001b[0;34m:\u001b[0m\u001b[0;34m\u001b[0m\u001b[0;34m\u001b[0m\u001b[0m\n\u001b[0;32m---> 26\u001b[0;31m                 \u001b[0;32mreturn\u001b[0m \u001b[0mfunc\u001b[0m\u001b[0;34m(\u001b[0m\u001b[0;34m*\u001b[0m\u001b[0margs\u001b[0m\u001b[0;34m,\u001b[0m \u001b[0;34m**\u001b[0m\u001b[0mkwargs\u001b[0m\u001b[0;34m)\u001b[0m\u001b[0;34m\u001b[0m\u001b[0;34m\u001b[0m\u001b[0m\n\u001b[0m\u001b[1;32m     27\u001b[0m         \u001b[0;32mreturn\u001b[0m \u001b[0mcast\u001b[0m\u001b[0;34m(\u001b[0m\u001b[0mF\u001b[0m\u001b[0;34m,\u001b[0m \u001b[0mdecorate_context\u001b[0m\u001b[0;34m)\u001b[0m\u001b[0;34m\u001b[0m\u001b[0;34m\u001b[0m\u001b[0m\n\u001b[1;32m     28\u001b[0m \u001b[0;34m\u001b[0m\u001b[0m\n",
      "\u001b[0;32m~/anaconda3/envs/deeplens/lib/python3.7/site-packages/torch/optim/adam.py\u001b[0m in \u001b[0;36mstep\u001b[0;34m(self, closure)\u001b[0m\n\u001b[1;32m    117\u001b[0m                    \u001b[0mgroup\u001b[0m\u001b[0;34m[\u001b[0m\u001b[0;34m'lr'\u001b[0m\u001b[0;34m]\u001b[0m\u001b[0;34m,\u001b[0m\u001b[0;34m\u001b[0m\u001b[0;34m\u001b[0m\u001b[0m\n\u001b[1;32m    118\u001b[0m                    \u001b[0mgroup\u001b[0m\u001b[0;34m[\u001b[0m\u001b[0;34m'weight_decay'\u001b[0m\u001b[0;34m]\u001b[0m\u001b[0;34m,\u001b[0m\u001b[0;34m\u001b[0m\u001b[0;34m\u001b[0m\u001b[0m\n\u001b[0;32m--> 119\u001b[0;31m                    \u001b[0mgroup\u001b[0m\u001b[0;34m[\u001b[0m\u001b[0;34m'eps'\u001b[0m\u001b[0;34m]\u001b[0m\u001b[0;34m\u001b[0m\u001b[0;34m\u001b[0m\u001b[0m\n\u001b[0m\u001b[1;32m    120\u001b[0m                    )\n\u001b[1;32m    121\u001b[0m         \u001b[0;32mreturn\u001b[0m \u001b[0mloss\u001b[0m\u001b[0;34m\u001b[0m\u001b[0;34m\u001b[0m\u001b[0m\n",
      "\u001b[0;32m~/anaconda3/envs/deeplens/lib/python3.7/site-packages/torch/optim/functional.py\u001b[0m in \u001b[0;36madam\u001b[0;34m(params, grads, exp_avgs, exp_avg_sqs, max_exp_avg_sqs, state_steps, amsgrad, beta1, beta2, lr, weight_decay, eps)\u001b[0m\n\u001b[1;32m     92\u001b[0m             \u001b[0mdenom\u001b[0m \u001b[0;34m=\u001b[0m \u001b[0;34m(\u001b[0m\u001b[0mmax_exp_avg_sq\u001b[0m\u001b[0;34m.\u001b[0m\u001b[0msqrt\u001b[0m\u001b[0;34m(\u001b[0m\u001b[0;34m)\u001b[0m \u001b[0;34m/\u001b[0m \u001b[0mmath\u001b[0m\u001b[0;34m.\u001b[0m\u001b[0msqrt\u001b[0m\u001b[0;34m(\u001b[0m\u001b[0mbias_correction2\u001b[0m\u001b[0;34m)\u001b[0m\u001b[0;34m)\u001b[0m\u001b[0;34m.\u001b[0m\u001b[0madd_\u001b[0m\u001b[0;34m(\u001b[0m\u001b[0meps\u001b[0m\u001b[0;34m)\u001b[0m\u001b[0;34m\u001b[0m\u001b[0;34m\u001b[0m\u001b[0m\n\u001b[1;32m     93\u001b[0m         \u001b[0;32melse\u001b[0m\u001b[0;34m:\u001b[0m\u001b[0;34m\u001b[0m\u001b[0;34m\u001b[0m\u001b[0m\n\u001b[0;32m---> 94\u001b[0;31m             \u001b[0mdenom\u001b[0m \u001b[0;34m=\u001b[0m \u001b[0;34m(\u001b[0m\u001b[0mexp_avg_sq\u001b[0m\u001b[0;34m.\u001b[0m\u001b[0msqrt\u001b[0m\u001b[0;34m(\u001b[0m\u001b[0;34m)\u001b[0m \u001b[0;34m/\u001b[0m \u001b[0mmath\u001b[0m\u001b[0;34m.\u001b[0m\u001b[0msqrt\u001b[0m\u001b[0;34m(\u001b[0m\u001b[0mbias_correction2\u001b[0m\u001b[0;34m)\u001b[0m\u001b[0;34m)\u001b[0m\u001b[0;34m.\u001b[0m\u001b[0madd_\u001b[0m\u001b[0;34m(\u001b[0m\u001b[0meps\u001b[0m\u001b[0;34m)\u001b[0m\u001b[0;34m\u001b[0m\u001b[0;34m\u001b[0m\u001b[0m\n\u001b[0m\u001b[1;32m     95\u001b[0m \u001b[0;34m\u001b[0m\u001b[0m\n\u001b[1;32m     96\u001b[0m         \u001b[0mstep_size\u001b[0m \u001b[0;34m=\u001b[0m \u001b[0mlr\u001b[0m \u001b[0;34m/\u001b[0m \u001b[0mbias_correction1\u001b[0m\u001b[0;34m\u001b[0m\u001b[0;34m\u001b[0m\u001b[0m\n",
      "\u001b[0;31mKeyboardInterrupt\u001b[0m: "
     ]
    }
   ],
   "source": [
    "test_acc_int = np.zeros(max_epoch)\n",
    "netbasic = NeuralNet('AlexNet', 'Adam')\n",
    "for epoch in range(max_epoch):\n",
    "    netbasic.train(loader_train, resize_tp = 'Interpolate')\n",
    "    res = netbasic.test(loader_test,epoch)\n",
    "    test_acc_int[epoch] = res\n",
    "    \n",
    "print('Finished Training')"
   ]
  },
  {
   "cell_type": "code",
   "execution_count": null,
   "id": "polish-medicine",
   "metadata": {},
   "outputs": [],
   "source": [
    "sns.set_theme(style=\"whitegrid\")\n",
    "\n",
    "sns.lineplot(x=np.arange(0,max_epoch), y=test_acc_pad, label = 'Padding')\n",
    "sns.lineplot(x=np.arange(0,max_epoch), y=test_acc_int, label = 'Interpolation')\n",
    "# change legend texts\n",
    "plt.xlabel('Epochs [-]')\n",
    "plt.ylabel('Accuracy [-]')"
   ]
  },
  {
   "cell_type": "markdown",
   "id": "crucial-process",
   "metadata": {
    "id": "r5xXe9fZUvcV"
   },
   "source": [
    "## 3.2. Resnet18 - Residual maps\n",
    "### 3.2.1. Padding\n",
    "**Results** :  epochs -  accuracy "
   ]
  },
  {
   "cell_type": "code",
   "execution_count": null,
   "id": "civilian-smooth",
   "metadata": {
    "executionInfo": {
     "elapsed": 5147,
     "status": "aborted",
     "timestamp": 1616692454731,
     "user": {
      "displayName": "Emma Hoggett",
      "photoUrl": "https://lh3.googleusercontent.com/a-/AOh14GgPUKVC2O_DRFGM99OSkYdh6iVTYJzQEqnz8pVc7A=s64",
      "userId": "15046273628982635449"
     },
     "user_tz": -60
    },
    "id": "1Hr1w_7s0Now"
   },
   "outputs": [],
   "source": [
    "test_acc_pad = np.zeros(max_epoch)\n",
    "netbasic = ConvNN('AlexNet', 'Adam')\n",
    "for epoch in range(max_epoch):\n",
    "    netbasic.train(loader_train, resize_tp = 'Padding')\n",
    "    res = netbasic.test(loader_test,epoch)\n",
    "    test_acc_pad[epoch] = res\n",
    "print('Finished Training')\n"
   ]
  },
  {
   "cell_type": "markdown",
   "id": "nutritional-cruise",
   "metadata": {},
   "source": [
    "### 3.2.2. Interpolation\n",
    "**Results** :  epochs -  accuracy "
   ]
  },
  {
   "cell_type": "code",
   "execution_count": null,
   "id": "ambient-donna",
   "metadata": {
    "executionInfo": {
     "elapsed": 5136,
     "status": "aborted",
     "timestamp": 1616692454732,
     "user": {
      "displayName": "Emma Hoggett",
      "photoUrl": "https://lh3.googleusercontent.com/a-/AOh14GgPUKVC2O_DRFGM99OSkYdh6iVTYJzQEqnz8pVc7A=s64",
      "userId": "15046273628982635449"
     },
     "user_tz": -60
    },
    "id": "6axEfVW00Kj_",
    "tags": []
   },
   "outputs": [],
   "source": [
    "test_acc_int  = np.zeros(max_epoch)\n",
    "netbasic = ConvNN('AlexNet', 'Adam')\n",
    "for epoch in range(max_epoch):\n",
    "    netbasic.train(loader_train, resize_tp = 'Interpolate')\n",
    "    res = netbasic.test(loader_test,epoch)\n",
    "    test_acc_int[epoch] = res\n",
    "    \n",
    "print('Finished Training')"
   ]
  },
  {
   "cell_type": "code",
   "execution_count": null,
   "id": "hollywood-basement",
   "metadata": {},
   "outputs": [],
   "source": [
    "sns.set_theme(style=\"whitegrid\")\n",
    "\n",
    "sns.lineplot(x=np.arange(0,max_epoch), y=test_acc_pad, label = 'Padding')\n",
    "sns.lineplot(x=np.arange(0,max_epoch), y=test_acc_int, label = 'Interpolation')\n",
    "# change legend texts\n",
    "plt.xlabel('Epochs [-]')\n",
    "plt.ylabel('Accuracy [-]')"
   ]
  },
  {
   "cell_type": "markdown",
   "id": "rolled-smith",
   "metadata": {
    "id": "0PpS3OPlWL1i"
   },
   "source": [
    "## 3.3. VGG16 - Residual maps\n",
    "### 3.3.1. Padding\n",
    "**Results** :  epochs -  accuracy "
   ]
  },
  {
   "cell_type": "code",
   "execution_count": null,
   "id": "atmospheric-england",
   "metadata": {
    "executionInfo": {
     "elapsed": 5107,
     "status": "aborted",
     "timestamp": 1616692454734,
     "user": {
      "displayName": "Emma Hoggett",
      "photoUrl": "https://lh3.googleusercontent.com/a-/AOh14GgPUKVC2O_DRFGM99OSkYdh6iVTYJzQEqnz8pVc7A=s64",
      "userId": "15046273628982635449"
     },
     "user_tz": -60
    },
    "id": "gBZBvZ6a1Wvv"
   },
   "outputs": [],
   "source": [
    "test_acc_pad = np.zeros(max_epoch)\n",
    "netbasic = ConvNN('VGG16', 'Adam')\n",
    "for epoch in range(max_epoch):  # loop over the dataset multiple times\n",
    "    netbasic.train(loader_train, resize_tp = 'Padding')\n",
    "    res = netbasic.test(loader_test,epoch)\n",
    "    test_acc_pad[epoch] =  res\n",
    "    \n",
    "print('Finished Training')"
   ]
  },
  {
   "cell_type": "markdown",
   "id": "realistic-economics",
   "metadata": {},
   "source": [
    "### 3.3.2 Interpolation\n",
    "**Results** :  epochs -  accuracy "
   ]
  },
  {
   "cell_type": "code",
   "execution_count": null,
   "id": "looking-baghdad",
   "metadata": {},
   "outputs": [],
   "source": [
    "test_acc_int = np.zeros(max_epoch)\n",
    "netbasic = ConvNN('VGG16', 'Adam')\n",
    "for epoch in range(max_epoch):  # loop over the dataset multiple times\n",
    "    netbasic.train(loader_train, resize_tp = 'Interpolation')\n",
    "    res = netbasic.test(loader_test,epoch)\n",
    "    test_acc_int[epoch] =  res\n",
    "    \n",
    "print('Finished Training')"
   ]
  },
  {
   "cell_type": "code",
   "execution_count": null,
   "id": "detailed-bibliography",
   "metadata": {},
   "outputs": [],
   "source": [
    "sns.set_theme(style=\"whitegrid\")\n",
    "\n",
    "sns.lineplot(x=np.arange(0,max_epoch), y=test_acc_pad, label = 'Padding')\n",
    "sns.lineplot(x=np.arange(0,max_epoch), y=test_acc_int, label = 'Interpolation')\n",
    "# change legend texts\n",
    "plt.xlabel('Epochs [-]')\n",
    "plt.ylabel('Accuracy [-]')"
   ]
  },
  {
   "cell_type": "markdown",
   "id": "experimental-skirt",
   "metadata": {
    "id": "66C5ftu6cfFP"
   },
   "source": [
    "## 3.4. Dense Net 161 - Residual maps\n",
    "### 3.4.1 Padding\n",
    "**Results** :  epochs -  accuracy "
   ]
  },
  {
   "cell_type": "code",
   "execution_count": null,
   "id": "electronic-cameroon",
   "metadata": {
    "executionInfo": {
     "elapsed": 5074,
     "status": "aborted",
     "timestamp": 1616692454738,
     "user": {
      "displayName": "Emma Hoggett",
      "photoUrl": "https://lh3.googleusercontent.com/a-/AOh14GgPUKVC2O_DRFGM99OSkYdh6iVTYJzQEqnz8pVc7A=s64",
      "userId": "15046273628982635449"
     },
     "user_tz": -60
    },
    "id": "gV19-p4jau9u"
   },
   "outputs": [],
   "source": [
    "test_acc_pad = np.zeros(max_epoch)\n",
    "netbasic = ConvNN('DenseNet161', 'Adam')\n",
    "for epoch in range(max_epoch):  # loop over the dataset multiple times\n",
    "    netbasic.train(loader_train, resize_tp = 'Padding')\n",
    "    res = netbasic.test(loader_test,epoch)\n",
    "    test_acc_pad[epoch] =  res\n",
    "    \n",
    "print('Finished Training')"
   ]
  },
  {
   "cell_type": "markdown",
   "id": "neutral-control",
   "metadata": {},
   "source": [
    "### 3.4.2 Interpolation\n",
    "**Results** :  epochs -  accuracy "
   ]
  },
  {
   "cell_type": "code",
   "execution_count": null,
   "id": "valuable-commissioner",
   "metadata": {
    "executionInfo": {
     "elapsed": 5068,
     "status": "aborted",
     "timestamp": 1616692454738,
     "user": {
      "displayName": "Emma Hoggett",
      "photoUrl": "https://lh3.googleusercontent.com/a-/AOh14GgPUKVC2O_DRFGM99OSkYdh6iVTYJzQEqnz8pVc7A=s64",
      "userId": "15046273628982635449"
     },
     "user_tz": -60
    },
    "id": "qOcti75Qlfd1"
   },
   "outputs": [],
   "source": [
    "test_acc_int = np.zeros(max_epoch)\n",
    "netbasic = ConvNN('DenseNet161', 'Adam')\n",
    "for epoch in range(max_epoch):  # loop over the dataset multiple times\n",
    "    netbasic.train(loader_train, resize_tp = 'Interpolation')\n",
    "    res = netbasic.test(loader_test,epoch)\n",
    "    test_acc_int[epoch] =  res\n",
    "    \n",
    "print('Finished Training')"
   ]
  },
  {
   "cell_type": "code",
   "execution_count": null,
   "id": "confirmed-dryer",
   "metadata": {},
   "outputs": [],
   "source": [
    "sns.set_theme(style=\"whitegrid\")\n",
    "\n",
    "sns.lineplot(x=np.arange(0,max_epoch), y=test_acc_pad, label = 'Padding')\n",
    "sns.lineplot(x=np.arange(0,max_epoch), y=test_acc_int, label = 'Interpolation')\n",
    "# change legend texts\n",
    "plt.xlabel('Epochs [-]')\n",
    "plt.ylabel('Accuracy [-]')"
   ]
  },
  {
   "cell_type": "markdown",
   "id": "technical-preliminary",
   "metadata": {
    "id": "RFEJTNK8cug8"
   },
   "source": [
    "## 3.5. Google Net - Residual maps\n",
    "### 3.5.1 Padding\n",
    "**Results** :  epochs -  accuracy "
   ]
  },
  {
   "cell_type": "code",
   "execution_count": null,
   "id": "enabling-salon",
   "metadata": {
    "executionInfo": {
     "elapsed": 5058,
     "status": "aborted",
     "timestamp": 1616692454740,
     "user": {
      "displayName": "Emma Hoggett",
      "photoUrl": "https://lh3.googleusercontent.com/a-/AOh14GgPUKVC2O_DRFGM99OSkYdh6iVTYJzQEqnz8pVc7A=s64",
      "userId": "15046273628982635449"
     },
     "user_tz": -60
    },
    "id": "dLURFuUAfG3a"
   },
   "outputs": [],
   "source": [
    "test_acc_pad = np.zeros(max_epoch)\n",
    "netbasic = ConvNN('GoogleNet', 'Adam')\n",
    "for epoch in range(max_epoch):  # loop over the dataset multiple times\n",
    "    netbasic.train(loader_train, resize_tp = 'Padding')\n",
    "    res = netbasic.test(loader_test,epoch)\n",
    "    test_acc_pad[epoch] =  res\n",
    "    \n",
    "print('Finished Training')"
   ]
  },
  {
   "cell_type": "markdown",
   "id": "executive-simulation",
   "metadata": {},
   "source": [
    "### 3.5.2 Interpolation\n",
    "**Results** :  epochs -  accuracy "
   ]
  },
  {
   "cell_type": "code",
   "execution_count": null,
   "id": "vulnerable-client",
   "metadata": {},
   "outputs": [],
   "source": [
    "test_acc_int = np.zeros(max_epoch)\n",
    "netbasic = ConvNN('GoogleNet', 'Adam')\n",
    "for epoch in range(max_epoch):  # loop over the dataset multiple times\n",
    "    netbasic.train(loader_train, resize_tp = 'Interpolation')\n",
    "    res = netbasic.test(loader_test,epoch)\n",
    "    test_acc_int[epoch] =  res\n",
    "    \n",
    "print('Finished Training')"
   ]
  },
  {
   "cell_type": "code",
   "execution_count": null,
   "id": "incorporated-market",
   "metadata": {},
   "outputs": [],
   "source": [
    "sns.set_theme(style=\"whitegrid\")\n",
    "\n",
    "sns.lineplot(x=np.arange(0,max_epoch), y=test_acc_pad, label = 'Padding')\n",
    "sns.lineplot(x=np.arange(0,max_epoch), y=test_acc_int, label = 'Interpolation')\n",
    "# change legend texts\n",
    "plt.xlabel('Epochs [-]')\n",
    "plt.ylabel('Accuracy [-]')"
   ]
  },
  {
   "cell_type": "markdown",
   "id": "mental-judge",
   "metadata": {
    "id": "FL0p7kKwc0CU"
   },
   "source": [
    "## 3.6. Squeeze Net 1_1  - Residual maps\n",
    "### 3.6.1 Padding\n",
    "**Results** :  epochs -  accuracy "
   ]
  },
  {
   "cell_type": "code",
   "execution_count": null,
   "id": "vietnamese-husband",
   "metadata": {},
   "outputs": [],
   "source": [
    "test_acc_pad = np.zeros(max_epoch)\n",
    "netbasic = ConvNN('SqueezeNet', 'Adam')\n",
    "for epoch in range(max_epoch):  # loop over the dataset multiple times\n",
    "    netbasic.train(loader_train, resize_tp = 'Padding')\n",
    "    res = netbasic.test(loader_test,epoch)\n",
    "    test_acc_pad[epoch] =  res\n",
    "    \n",
    "print('Finished Training')"
   ]
  },
  {
   "cell_type": "markdown",
   "id": "tamil-chess",
   "metadata": {},
   "source": [
    "### 3.6.2 Interpolation\n",
    "**Results** :  epochs -  accuracy "
   ]
  },
  {
   "cell_type": "code",
   "execution_count": null,
   "id": "related-category",
   "metadata": {},
   "outputs": [],
   "source": [
    "test_acc_int = np.zeros(max_epoch)\n",
    "netbasic = ConvNN('SqueezeNet', 'Adam')\n",
    "for epoch in range(max_epoch):  # loop over the dataset multiple times\n",
    "    netbasic.train(loader_train, resize_tp = 'Interpolation')\n",
    "    res = netbasic.test(loader_test,epoch)\n",
    "    test_acc_int[epoch] =  res\n",
    "    \n",
    "print('Finished Training')"
   ]
  },
  {
   "cell_type": "code",
   "execution_count": null,
   "id": "present-inspector",
   "metadata": {},
   "outputs": [],
   "source": [
    "sns.set_theme(style=\"whitegrid\")\n",
    "\n",
    "sns.lineplot(x=np.arange(0,max_epoch), y=test_acc_pad, label = 'Padding')\n",
    "sns.lineplot(x=np.arange(0,max_epoch), y=test_acc_int, label = 'Interpolation')\n",
    "# change legend texts\n",
    "plt.xlabel('Epochs [-]')\n",
    "plt.ylabel('Accuracy [-]')"
   ]
  }
 ],
 "metadata": {
  "colab": {
   "collapsed_sections": [],
   "name": "NeuralNet.ipynb",
   "provenance": [],
   "toc_visible": true
  },
  "kernelspec": {
   "display_name": "Python 3",
   "language": "python",
   "name": "python3"
  },
  "language_info": {
   "codemirror_mode": {
    "name": "ipython",
    "version": 3
   },
   "file_extension": ".py",
   "mimetype": "text/x-python",
   "name": "python",
   "nbconvert_exporter": "python",
   "pygments_lexer": "ipython3",
   "version": "3.7.9"
  }
 },
 "nbformat": 4,
 "nbformat_minor": 5
}
