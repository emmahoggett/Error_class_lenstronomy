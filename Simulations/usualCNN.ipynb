{
 "cells": [
  {
   "cell_type": "markdown",
   "id": "younger-commerce",
   "metadata": {
    "id": "written-sample"
   },
   "source": [
    "# 0. Import"
   ]
  },
  {
   "cell_type": "code",
   "execution_count": 1,
   "id": "laden-croatia",
   "metadata": {
    "executionInfo": {
     "elapsed": 3972,
     "status": "ok",
     "timestamp": 1616692453475,
     "user": {
      "displayName": "Emma Hoggett",
      "photoUrl": "https://lh3.googleusercontent.com/a-/AOh14GgPUKVC2O_DRFGM99OSkYdh6iVTYJzQEqnz8pVc7A=s64",
      "userId": "15046273628982635449"
     },
     "user_tz": -60
    },
    "id": "comfortable-tucson"
   },
   "outputs": [],
   "source": [
    "import matplotlib.pyplot as plt\n",
    "import numpy as np\n",
    "import pandas as pd\n",
    "from sklearn.model_selection import train_test_split\n",
    "\n",
    "import torch\n",
    "from torch.utils.data import DataLoader\n",
    "import torch.nn as nn\n",
    "import torch.nn.functional as F\n",
    "import torch.optim as optim\n",
    "\n",
    "\n",
    "from helpers import read_hdf5, CombineDataset, calculate_metrics, train_net, test_net\n",
    "from lenshelpers import Residual\n",
    "\n",
    "from model.baseline import CNNNetBasic, TabularNetBasic, TabularCNNNetBasic\n",
    "from model.densenet import densenet161\n",
    "from model.alexnet import AlexNetResidual\n",
    "from model.resnet18 import resnet18maps\n",
    "from model.vgg16 import VGG16Residual\n",
    "from model.googLeNet import googlenet, GoogLeNet\n",
    "from model.squeezeNet import squeezenet1_1\n",
    "\n",
    "import warnings\n",
    "warnings.filterwarnings('ignore') "
   ]
  },
  {
   "cell_type": "markdown",
   "id": "flying-nickname",
   "metadata": {
    "id": "enhanced-enterprise"
   },
   "source": [
    "# 1. Building the data set"
   ]
  },
  {
   "cell_type": "code",
   "execution_count": 2,
   "id": "nearby-indication",
   "metadata": {
    "colab": {
     "base_uri": "https://localhost:8080/",
     "height": 374
    },
    "executionInfo": {
     "elapsed": 5231,
     "status": "error",
     "timestamp": 1616692454742,
     "user": {
      "displayName": "Emma Hoggett",
      "photoUrl": "https://lh3.googleusercontent.com/a-/AOh14GgPUKVC2O_DRFGM99OSkYdh6iVTYJzQEqnz8pVc7A=s64",
      "userId": "15046273628982635449"
     },
     "user_tz": -60
    },
    "id": "intermediate-blood",
    "outputId": "c1d905f2-e341-4469-ac08-4f56582db157"
   },
   "outputs": [
    {
     "name": "stdout",
     "output_type": "stream",
     "text": [
      "Data Generation Finished\n"
     ]
    }
   ],
   "source": [
    "# Build the four classes \n",
    "config_repo_model = 'data/configFile/config_model'\n",
    "ratio = 0.75\n",
    "percent = 0.01\n",
    "\n",
    "size = 900\n",
    "for i in np.arange(1,4):\n",
    "    #model_name = config_repo_model + str(i) + '.yaml'\n",
    "    res = Residual()\n",
    "    res.build(size, i, ratio = ratio, per_error = percent)\n",
    "\n",
    "print('Data Generation Finished')"
   ]
  },
  {
   "cell_type": "code",
   "execution_count": 3,
   "id": "educated-delicious",
   "metadata": {
    "executionInfo": {
     "elapsed": 5206,
     "status": "aborted",
     "timestamp": 1616692454724,
     "user": {
      "displayName": "Emma Hoggett",
      "photoUrl": "https://lh3.googleusercontent.com/a-/AOh14GgPUKVC2O_DRFGM99OSkYdh6iVTYJzQEqnz8pVc7A=s64",
      "userId": "15046273628982635449"
     },
     "user_tz": -60
    },
    "id": "j4ngxjJlpBa7"
   },
   "outputs": [
    {
     "name": "stdout",
     "output_type": "stream",
     "text": [
      "Reading Data Finished\n"
     ]
    }
   ],
   "source": [
    "metadata = pd.DataFrame()\n",
    "\n",
    "for i in np.arange(1,4):\n",
    "    str_ID = \"E\"+str(i)+\"P\"+str(int(percent*100))+\"R\"+str(int(ratio*100))\n",
    "    [img, meta] = read_hdf5(str_ID, path = \"data/dataSet/\")\n",
    "    metadata = pd.concat([metadata,meta], ignore_index=True)\n",
    "    if i == 1:\n",
    "        final_array = img\n",
    "    else:\n",
    "         final_array = np.concatenate((final_array, img))\n",
    "metadata ['ID'] = np.arange(0,final_array.shape[0])\n",
    "data_set = CombineDataset(metadata,'ID','class',final_array)\n",
    "\n",
    "print('Reading Data Finished')\n",
    "data_train, data_test = train_test_split(data_set,train_size=0.9,random_state=42)"
   ]
  },
  {
   "cell_type": "code",
   "execution_count": 4,
   "id": "metropolitan-sheet",
   "metadata": {
    "executionInfo": {
     "elapsed": 5201,
     "status": "aborted",
     "timestamp": 1616692454725,
     "user": {
      "displayName": "Emma Hoggett",
      "photoUrl": "https://lh3.googleusercontent.com/a-/AOh14GgPUKVC2O_DRFGM99OSkYdh6iVTYJzQEqnz8pVc7A=s64",
      "userId": "15046273628982635449"
     },
     "user_tz": -60
    },
    "id": "UkL0TbTeB092"
   },
   "outputs": [],
   "source": [
    "batch_size_train = 10\n",
    "batch_size_test = 10\n",
    "max_epoch = 20\n",
    "\n",
    "\n",
    "loader_train = DataLoader(data_train, batch_size = batch_size_train, shuffle = True, \n",
    "                          num_workers = 0, drop_last=True)\n",
    "\n",
    "loader_test = DataLoader(data_test, batch_size = batch_size_test, shuffle = True, \n",
    "                         num_workers = 0, drop_last=True)"
   ]
  },
  {
   "cell_type": "markdown",
   "id": "certified-amazon",
   "metadata": {
    "id": "behind-benchmark"
   },
   "source": [
    "# 2. Baseline"
   ]
  },
  {
   "cell_type": "markdown",
   "id": "addressed-vegetation",
   "metadata": {
    "id": "jRnYdliz-86r"
   },
   "source": [
    "## 2.1. Residual network\n",
    "\n",
    "**Results** : 6 epochs - 0.993 accuracy"
   ]
  },
  {
   "cell_type": "code",
   "execution_count": 5,
   "id": "fossil-twins",
   "metadata": {
    "executionInfo": {
     "elapsed": 5195,
     "status": "aborted",
     "timestamp": 1616692454725,
     "user": {
      "displayName": "Emma Hoggett",
      "photoUrl": "https://lh3.googleusercontent.com/a-/AOh14GgPUKVC2O_DRFGM99OSkYdh6iVTYJzQEqnz8pVc7A=s64",
      "userId": "15046273628982635449"
     },
     "user_tz": -60
    },
    "id": "Epv5bSQ8_2v6"
   },
   "outputs": [],
   "source": [
    "net = CNNNetBasic()\n",
    "criterion = nn.BCELoss()\n",
    "optimizer = optim.SGD(net.parameters(), lr=0.001, momentum=0.9)"
   ]
  },
  {
   "cell_type": "code",
   "execution_count": 6,
   "id": "engaged-typing",
   "metadata": {
    "executionInfo": {
     "elapsed": 5190,
     "status": "aborted",
     "timestamp": 1616692454726,
     "user": {
      "displayName": "Emma Hoggett",
      "photoUrl": "https://lh3.googleusercontent.com/a-/AOh14GgPUKVC2O_DRFGM99OSkYdh6iVTYJzQEqnz8pVc7A=s64",
      "userId": "15046273628982635449"
     },
     "user_tz": -60
    },
    "id": "6jdGxSbwAkOV"
   },
   "outputs": [
    {
     "name": "stdout",
     "output_type": "stream",
     "text": [
      "epoch: 0.000, accuracy: 0.278 \n",
      "epoch: 6.000, accuracy: 0.311 \n",
      "epoch: 8.000, accuracy: 0.522 \n",
      "epoch: 10.000, accuracy: 0.578 \n",
      "epoch: 12.000, accuracy: 0.656 \n",
      "epoch: 15.000, accuracy: 0.678 \n",
      "epoch: 19.000, accuracy: 0.689 \n",
      "Finished Training\n"
     ]
    }
   ],
   "source": [
    "test_acc = np.zeros(max_epoch)\n",
    "max_acc = 0\n",
    "# Optimal number of epochs : 6 epochs - 0.993 accuracy\n",
    "for epoch in range(max_epoch):  # loop over the dataset multiple times\n",
    "\n",
    "    net = train_net(loader_train, net, optimizer, criterion, epoch)\n",
    "    mean_accuracy = test_net(loader_test,net)\n",
    "    test_acc[epoch] = mean_accuracy\n",
    "    if mean_accuracy > max_acc:\n",
    "        max_acc = mean_accuracy\n",
    "        print(\"epoch: {:.3f}, accuracy: {:.3f} \".format(epoch, mean_accuracy))\n",
    "print('Finished Training')"
   ]
  },
  {
   "cell_type": "markdown",
   "id": "cutting-sodium",
   "metadata": {},
   "source": [
    "## 2.2. Metadata network\n",
    "**Results** : 4 epochs - 0.865 accuracy "
   ]
  },
  {
   "cell_type": "code",
   "execution_count": 7,
   "id": "stylish-aquatic",
   "metadata": {
    "tags": []
   },
   "outputs": [],
   "source": [
    "net = TabularNetBasic()\n",
    "criterion = nn.BCELoss()\n",
    "optimizer = optim.SGD(net.parameters(), lr=0.001, momentum=0.9)"
   ]
  },
  {
   "cell_type": "code",
   "execution_count": 8,
   "id": "tracked-assignment",
   "metadata": {},
   "outputs": [
    {
     "name": "stdout",
     "output_type": "stream",
     "text": [
      "epoch: 0.000, accuracy: 0.056 \n",
      "epoch: 1.000, accuracy: 0.256 \n",
      "Finished Training\n"
     ]
    }
   ],
   "source": [
    "test_acc_meta = np.zeros(max_epoch)\n",
    "max_acc = 0\n",
    "for epoch in range(max_epoch):  # loop over the dataset multiple times\n",
    "\n",
    "    net = train_net(loader_train, net, optimizer, criterion, epoch)\n",
    "    mean_accuracy = test_net(loader_test,net)\n",
    "    test_acc_meta[epoch] = mean_accuracy\n",
    "    if mean_accuracy > max_acc:\n",
    "        max_acc = mean_accuracy\n",
    "        print(\"epoch: {:.3f}, accuracy: {:.3f} \".format(epoch, mean_accuracy))\n",
    "        \n",
    "print('Finished Training')"
   ]
  },
  {
   "cell_type": "markdown",
   "id": "powerful-indonesia",
   "metadata": {},
   "source": [
    "## 2.3. Tabular & Residual network\n",
    "**Results** : 8 epochs -  0.995 accuracy"
   ]
  },
  {
   "cell_type": "code",
   "execution_count": 9,
   "id": "aggregate-portugal",
   "metadata": {},
   "outputs": [],
   "source": [
    "net = TabularCNNNetBasic()\n",
    "criterion = nn.BCELoss()\n",
    "optimizer = optim.SGD(net.parameters(), lr=0.001, momentum=0.9)"
   ]
  },
  {
   "cell_type": "code",
   "execution_count": 10,
   "id": "fewer-liberal",
   "metadata": {},
   "outputs": [
    {
     "name": "stdout",
     "output_type": "stream",
     "text": [
      "epoch: 0.000, accuracy: 0.167 \n",
      "epoch: 3.000, accuracy: 0.189 \n",
      "epoch: 6.000, accuracy: 0.211 \n",
      "epoch: 8.000, accuracy: 0.256 \n",
      "epoch: 12.000, accuracy: 0.311 \n",
      "epoch: 13.000, accuracy: 0.456 \n",
      "epoch: 15.000, accuracy: 0.511 \n",
      "Finished Training\n"
     ]
    }
   ],
   "source": [
    "test_acc_metaxres = np.zeros(max_epoch)\n",
    "max_acc = 0\n",
    "for epoch in range(max_epoch):  # loop over the dataset multiple times\n",
    "\n",
    "    net = train_net(loader_train, net, optimizer, criterion, epoch)\n",
    "    mean_accuracy = test_net(loader_test,net)\n",
    "    test_acc_metaxres[epoch] = mean_accuracy\n",
    "    if mean_accuracy > max_acc:\n",
    "        max_acc = mean_accuracy\n",
    "        print(\"epoch: {:.3f}, accuracy: {:.3f} \".format(epoch, mean_accuracy))\n",
    "        \n",
    "print('Finished Training')"
   ]
  },
  {
   "cell_type": "code",
   "execution_count": 11,
   "id": "representative-positive",
   "metadata": {},
   "outputs": [
    {
     "data": {
      "image/png": "[encoded data removed]",
      "text/plain": [
       "<Figure size 432x288 with 1 Axes>"
      ]
     },
     "metadata": {},
     "output_type": "display_data"
    }
   ],
   "source": [
    "import seaborn as sns\n",
    "sns.set_theme(style=\"whitegrid\")\n",
    "\n",
    "sns.lineplot(x=np.arange(0,max_epoch), y=test_acc, label = 'Residual')\n",
    "sns.lineplot(x=np.arange(0,max_epoch), y=test_acc_meta, label = 'Metadata')\n",
    "sns.lineplot(x=np.arange(0,max_epoch), y=test_acc_metaxres, label = 'Metadata & Residual')\n",
    "\n",
    "plt.xlabel('Epochs [-]')\n",
    "plt.ylabel('Accuracy [-]')\n",
    "plt.title('Test accuracy with basic neural network', size = 'large')\n",
    "plt.savefig('figures/basicS3000P1.jpeg')"
   ]
  },
  {
   "cell_type": "markdown",
   "id": "other-liberia",
   "metadata": {
    "id": "fFggBB71DUYd"
   },
   "source": [
    "# 3. Building different model"
   ]
  },
  {
   "cell_type": "markdown",
   "id": "senior-portland",
   "metadata": {
    "id": "oKMUD771DhqL"
   },
   "source": [
    "## 3.1. AlexNet - Residual maps\n",
    "### 3.1.2 Padding\n",
    "**Results** :  epochs -  accuracy "
   ]
  },
  {
   "cell_type": "code",
   "execution_count": 12,
   "id": "junior-danger",
   "metadata": {
    "executionInfo": {
     "elapsed": 5179,
     "status": "aborted",
     "timestamp": 1616692454727,
     "user": {
      "displayName": "Emma Hoggett",
      "photoUrl": "https://lh3.googleusercontent.com/a-/AOh14GgPUKVC2O_DRFGM99OSkYdh6iVTYJzQEqnz8pVc7A=s64",
      "userId": "15046273628982635449"
     },
     "user_tz": -60
    },
    "id": "D5s3kMmVv_1U"
   },
   "outputs": [],
   "source": [
    "net = AlexNetResidual()\n",
    "criterion = nn.BCELoss()\n",
    "optimizer = optim.SGD(net.parameters(), lr=0.001, momentum=0.9)"
   ]
  },
  {
   "cell_type": "code",
   "execution_count": 13,
   "id": "developmental-bearing",
   "metadata": {
    "executionInfo": {
     "elapsed": 5174,
     "status": "aborted",
     "timestamp": 1616692454728,
     "user": {
      "displayName": "Emma Hoggett",
      "photoUrl": "https://lh3.googleusercontent.com/a-/AOh14GgPUKVC2O_DRFGM99OSkYdh6iVTYJzQEqnz8pVc7A=s64",
      "userId": "15046273628982635449"
     },
     "user_tz": -60
    },
    "id": "f0hNnGbswQOC"
   },
   "outputs": [
    {
     "name": "stdout",
     "output_type": "stream",
     "text": [
      "epoch: 0.000, accuracy: 0.289 \n",
      "epoch: 4.000, accuracy: 0.344 \n",
      "epoch: 13.000, accuracy: 0.433 \n",
      "Finished Training\n"
     ]
    }
   ],
   "source": [
    "test_acc_pad = np.zeros(max_epoch)\n",
    "max_acc = 0\n",
    "for epoch in range(max_epoch):  # loop over the dataset multiple times\n",
    "\n",
    "    running_loss = 0.0\n",
    "    for i, data in enumerate(loader_train, 0):\n",
    "        # get the inputs; data is a list of [inputs, labels]\n",
    "        inputs, meta_inputs,labels = data\n",
    "        m = nn.ZeroPad2d(80)\n",
    "        inputs = m(inputs)\n",
    "        \n",
    "        # zero the parameter gradients\n",
    "        optimizer.zero_grad()\n",
    "\n",
    "        # forward + backward + optimize\n",
    "        outputs = net(inputs)\n",
    "        loss = criterion(outputs, labels)\n",
    "        loss.backward()\n",
    "        optimizer.step()\n",
    "\n",
    "    iteration = 0\n",
    "    with torch.no_grad():\n",
    "        predictions = []\n",
    "        targets = []\n",
    "        for data in loader_test:\n",
    "            images, meta_img, labels = data\n",
    "            m = nn.ZeroPad2d(80)\n",
    "            images = m(images)\n",
    "            outputs = net(images)\n",
    "            predictions.extend(outputs.cpu().numpy())\n",
    "            targets.extend(labels.cpu().numpy())\n",
    "        result = calculate_metrics(np.round(np.array(predictions)), np.array(targets))\n",
    "        test_acc_pad[epoch] =  result['accuracy']\n",
    "    if result['accuracy'] > max_acc:\n",
    "        max_acc = result['accuracy']\n",
    "        print(\"epoch: {:.3f}, accuracy: {:.3f} \".format(epoch, result['accuracy']))\n",
    "    \n",
    "print('Finished Training')"
   ]
  },
  {
   "cell_type": "markdown",
   "id": "sunrise-introduction",
   "metadata": {},
   "source": [
    "### 3.1.2. Interpolation\n",
    "\n",
    "**Results** :  epochs -  accuracy "
   ]
  },
  {
   "cell_type": "code",
   "execution_count": 14,
   "id": "spanish-layout",
   "metadata": {
    "executionInfo": {
     "elapsed": 5168,
     "status": "aborted",
     "timestamp": 1616692454728,
     "user": {
      "displayName": "Emma Hoggett",
      "photoUrl": "https://lh3.googleusercontent.com/a-/AOh14GgPUKVC2O_DRFGM99OSkYdh6iVTYJzQEqnz8pVc7A=s64",
      "userId": "15046273628982635449"
     },
     "user_tz": -60
    },
    "id": "uz9vNVCD9tWA"
   },
   "outputs": [],
   "source": [
    "net = AlexNetResidual()\n",
    "criterion = nn.BCELoss()\n",
    "optimizer = optim.SGD(net.parameters(), lr=0.001, momentum=0.9)"
   ]
  },
  {
   "cell_type": "code",
   "execution_count": 15,
   "id": "solid-burns",
   "metadata": {},
   "outputs": [
    {
     "name": "stdout",
     "output_type": "stream",
     "text": [
      "epoch: 0.000, accuracy: 0.178 \n",
      "epoch: 1.000, accuracy: 0.189 \n",
      "epoch: 2.000, accuracy: 0.244 \n",
      "epoch: 4.000, accuracy: 0.333 \n",
      "epoch: 5.000, accuracy: 0.533 \n",
      "epoch: 9.000, accuracy: 0.567 \n",
      "epoch: 10.000, accuracy: 0.600 \n",
      "epoch: 16.000, accuracy: 0.656 \n",
      "Finished Training\n"
     ]
    }
   ],
   "source": [
    "test_acc_int = np.zeros(max_epoch)\n",
    "max_acc = 0\n",
    "for epoch in range(max_epoch):  # loop over the dataset multiple times\n",
    "\n",
    "    running_loss = 0.0\n",
    "    for i, data in enumerate(loader_train, 0):\n",
    "        # get the inputs; data is a list of [inputs, labels]\n",
    "        inputs, meta_inputs,labels = data\n",
    "        inputs = F.interpolate(inputs, size=(224, 224), mode='bicubic', align_corners=False)\n",
    "        \n",
    "        # zero the parameter gradients\n",
    "        optimizer.zero_grad()\n",
    "\n",
    "        # forward + backward + optimize\n",
    "        outputs = net(inputs)\n",
    "        loss = criterion(outputs, labels)\n",
    "        loss.backward()\n",
    "        optimizer.step()\n",
    "\n",
    "    with torch.no_grad():\n",
    "        predictions = []\n",
    "        targets = []\n",
    "        for data in loader_test:\n",
    "            images, meta_img, labels = data\n",
    "            images = F.interpolate(images, size=(224, 224), mode='bicubic', align_corners=False)\n",
    "            outputs = net(images)\n",
    "            predictions.extend(outputs.cpu().numpy())\n",
    "            targets.extend(labels.cpu().numpy())\n",
    "        result = calculate_metrics(np.round(np.array(predictions)), np.array(targets))\n",
    "        test_acc_int[epoch] =  result['accuracy']\n",
    "    if result['accuracy'] > max_acc:\n",
    "        max_acc = result['accuracy']\n",
    "        print(\"epoch: {:.3f}, accuracy: {:.3f} \".format(epoch, result['accuracy']))\n",
    "    \n",
    "print('Finished Training')"
   ]
  },
  {
   "cell_type": "code",
   "execution_count": 16,
   "id": "latter-river",
   "metadata": {},
   "outputs": [
    {
     "data": {
      "text/plain": [
       "Text(0, 0.5, 'Accuracy [-]')"
      ]
     },
     "execution_count": 16,
     "metadata": {},
     "output_type": "execute_result"
    },
    {
     "data": {
      "image/png": "[encoded data removed]",
      "text/plain": [
       "<Figure size 432x288 with 1 Axes>"
      ]
     },
     "metadata": {},
     "output_type": "display_data"
    }
   ],
   "source": [
    "sns.set_theme(style=\"whitegrid\")\n",
    "\n",
    "sns.lineplot(x=np.arange(0,max_epoch), y=test_acc_pad, label = 'Padding')\n",
    "sns.lineplot(x=np.arange(0,max_epoch), y=test_acc_int, label = 'Interpolation')\n",
    "# change legend texts\n",
    "plt.xlabel('Epochs [-]')\n",
    "plt.ylabel('Accuracy [-]')"
   ]
  },
  {
   "cell_type": "markdown",
   "id": "insured-garden",
   "metadata": {
    "id": "r5xXe9fZUvcV"
   },
   "source": [
    "## 3.2. Resnet18 - Residual maps\n",
    "### 3.2.1. Padding\n",
    "**Results** :  epochs -  accuracy "
   ]
  },
  {
   "cell_type": "code",
   "execution_count": 17,
   "id": "departmental-security",
   "metadata": {
    "executionInfo": {
     "elapsed": 5147,
     "status": "aborted",
     "timestamp": 1616692454731,
     "user": {
      "displayName": "Emma Hoggett",
      "photoUrl": "https://lh3.googleusercontent.com/a-/AOh14GgPUKVC2O_DRFGM99OSkYdh6iVTYJzQEqnz8pVc7A=s64",
      "userId": "15046273628982635449"
     },
     "user_tz": -60
    },
    "id": "1Hr1w_7s0Now"
   },
   "outputs": [],
   "source": [
    "net = resnet18maps(1,3)\n",
    "criterion = nn.BCELoss()\n",
    "optimizer = optim.SGD(net.parameters(), lr=0.001, momentum=0.9)"
   ]
  },
  {
   "cell_type": "code",
   "execution_count": 18,
   "id": "respiratory-kingston",
   "metadata": {
    "executionInfo": {
     "elapsed": 5141,
     "status": "aborted",
     "timestamp": 1616692454731,
     "user": {
      "displayName": "Emma Hoggett",
      "photoUrl": "https://lh3.googleusercontent.com/a-/AOh14GgPUKVC2O_DRFGM99OSkYdh6iVTYJzQEqnz8pVc7A=s64",
      "userId": "15046273628982635449"
     },
     "user_tz": -60
    },
    "id": "6LMIVBqx0ROP"
   },
   "outputs": [
    {
     "name": "stdout",
     "output_type": "stream",
     "text": [
      "epoch: 0.000, accuracy: 0.222 \n"
     ]
    },
    {
     "ename": "KeyboardInterrupt",
     "evalue": "",
     "output_type": "error",
     "traceback": [
      "\u001b[0;31m---------------------------------------------------------------------------\u001b[0m",
      "\u001b[0;31mKeyboardInterrupt\u001b[0m                         Traceback (most recent call last)",
      "\u001b[0;32m<ipython-input-18-b873d77f5261>\u001b[0m in \u001b[0;36m<module>\u001b[0;34m\u001b[0m\n\u001b[1;32m     14\u001b[0m \u001b[0;34m\u001b[0m\u001b[0m\n\u001b[1;32m     15\u001b[0m         \u001b[0;31m# forward + backward + optimize\u001b[0m\u001b[0;34m\u001b[0m\u001b[0;34m\u001b[0m\u001b[0;34m\u001b[0m\u001b[0m\n\u001b[0;32m---> 16\u001b[0;31m         \u001b[0moutputs\u001b[0m \u001b[0;34m=\u001b[0m \u001b[0mnet\u001b[0m\u001b[0;34m(\u001b[0m\u001b[0minputs\u001b[0m\u001b[0;34m)\u001b[0m\u001b[0;34m\u001b[0m\u001b[0;34m\u001b[0m\u001b[0m\n\u001b[0m\u001b[1;32m     17\u001b[0m         \u001b[0mloss\u001b[0m \u001b[0;34m=\u001b[0m \u001b[0mcriterion\u001b[0m\u001b[0;34m(\u001b[0m\u001b[0moutputs\u001b[0m\u001b[0;34m,\u001b[0m \u001b[0mlabels\u001b[0m\u001b[0;34m)\u001b[0m\u001b[0;34m\u001b[0m\u001b[0;34m\u001b[0m\u001b[0m\n\u001b[1;32m     18\u001b[0m         \u001b[0mloss\u001b[0m\u001b[0;34m.\u001b[0m\u001b[0mbackward\u001b[0m\u001b[0;34m(\u001b[0m\u001b[0;34m)\u001b[0m\u001b[0;34m\u001b[0m\u001b[0;34m\u001b[0m\u001b[0m\n",
      "\u001b[0;32m~/anaconda3/envs/deeplens/lib/python3.7/site-packages/torch/nn/modules/module.py\u001b[0m in \u001b[0;36m_call_impl\u001b[0;34m(self, *input, **kwargs)\u001b[0m\n\u001b[1;32m    725\u001b[0m             \u001b[0mresult\u001b[0m \u001b[0;34m=\u001b[0m \u001b[0mself\u001b[0m\u001b[0;34m.\u001b[0m\u001b[0m_slow_forward\u001b[0m\u001b[0;34m(\u001b[0m\u001b[0;34m*\u001b[0m\u001b[0minput\u001b[0m\u001b[0;34m,\u001b[0m \u001b[0;34m**\u001b[0m\u001b[0mkwargs\u001b[0m\u001b[0;34m)\u001b[0m\u001b[0;34m\u001b[0m\u001b[0;34m\u001b[0m\u001b[0m\n\u001b[1;32m    726\u001b[0m         \u001b[0;32melse\u001b[0m\u001b[0;34m:\u001b[0m\u001b[0;34m\u001b[0m\u001b[0;34m\u001b[0m\u001b[0m\n\u001b[0;32m--> 727\u001b[0;31m             \u001b[0mresult\u001b[0m \u001b[0;34m=\u001b[0m \u001b[0mself\u001b[0m\u001b[0;34m.\u001b[0m\u001b[0mforward\u001b[0m\u001b[0;34m(\u001b[0m\u001b[0;34m*\u001b[0m\u001b[0minput\u001b[0m\u001b[0;34m,\u001b[0m \u001b[0;34m**\u001b[0m\u001b[0mkwargs\u001b[0m\u001b[0;34m)\u001b[0m\u001b[0;34m\u001b[0m\u001b[0;34m\u001b[0m\u001b[0m\n\u001b[0m\u001b[1;32m    728\u001b[0m         for hook in itertools.chain(\n\u001b[1;32m    729\u001b[0m                 \u001b[0m_global_forward_hooks\u001b[0m\u001b[0;34m.\u001b[0m\u001b[0mvalues\u001b[0m\u001b[0;34m(\u001b[0m\u001b[0;34m)\u001b[0m\u001b[0;34m,\u001b[0m\u001b[0;34m\u001b[0m\u001b[0;34m\u001b[0m\u001b[0m\n",
      "\u001b[0;32m~/Documents/Error_class_lenstronomy/Simulations/model/resnet18.py\u001b[0m in \u001b[0;36mforward\u001b[0;34m(self, x)\u001b[0m\n\u001b[1;32m    238\u001b[0m \u001b[0;34m\u001b[0m\u001b[0m\n\u001b[1;32m    239\u001b[0m     \u001b[0;32mdef\u001b[0m \u001b[0mforward\u001b[0m\u001b[0;34m(\u001b[0m\u001b[0mself\u001b[0m\u001b[0;34m,\u001b[0m \u001b[0mx\u001b[0m\u001b[0;34m)\u001b[0m\u001b[0;34m:\u001b[0m\u001b[0;34m\u001b[0m\u001b[0;34m\u001b[0m\u001b[0m\n\u001b[0;32m--> 240\u001b[0;31m         \u001b[0mx\u001b[0m \u001b[0;34m=\u001b[0m \u001b[0mself\u001b[0m\u001b[0;34m.\u001b[0m\u001b[0mencoder\u001b[0m\u001b[0;34m(\u001b[0m\u001b[0mx\u001b[0m\u001b[0;34m)\u001b[0m\u001b[0;34m\u001b[0m\u001b[0;34m\u001b[0m\u001b[0m\n\u001b[0m\u001b[1;32m    241\u001b[0m         \u001b[0mx\u001b[0m \u001b[0;34m=\u001b[0m \u001b[0mself\u001b[0m\u001b[0;34m.\u001b[0m\u001b[0mdecoder\u001b[0m\u001b[0;34m(\u001b[0m\u001b[0mx\u001b[0m\u001b[0;34m)\u001b[0m\u001b[0;34m\u001b[0m\u001b[0;34m\u001b[0m\u001b[0m\n\u001b[1;32m    242\u001b[0m         \u001b[0;32mreturn\u001b[0m \u001b[0mx\u001b[0m\u001b[0;34m\u001b[0m\u001b[0;34m\u001b[0m\u001b[0m\n",
      "\u001b[0;32m~/anaconda3/envs/deeplens/lib/python3.7/site-packages/torch/nn/modules/module.py\u001b[0m in \u001b[0;36m_call_impl\u001b[0;34m(self, *input, **kwargs)\u001b[0m\n\u001b[1;32m    725\u001b[0m             \u001b[0mresult\u001b[0m \u001b[0;34m=\u001b[0m \u001b[0mself\u001b[0m\u001b[0;34m.\u001b[0m\u001b[0m_slow_forward\u001b[0m\u001b[0;34m(\u001b[0m\u001b[0;34m*\u001b[0m\u001b[0minput\u001b[0m\u001b[0;34m,\u001b[0m \u001b[0;34m**\u001b[0m\u001b[0mkwargs\u001b[0m\u001b[0;34m)\u001b[0m\u001b[0;34m\u001b[0m\u001b[0;34m\u001b[0m\u001b[0m\n\u001b[1;32m    726\u001b[0m         \u001b[0;32melse\u001b[0m\u001b[0;34m:\u001b[0m\u001b[0;34m\u001b[0m\u001b[0;34m\u001b[0m\u001b[0m\n\u001b[0;32m--> 727\u001b[0;31m             \u001b[0mresult\u001b[0m \u001b[0;34m=\u001b[0m \u001b[0mself\u001b[0m\u001b[0;34m.\u001b[0m\u001b[0mforward\u001b[0m\u001b[0;34m(\u001b[0m\u001b[0;34m*\u001b[0m\u001b[0minput\u001b[0m\u001b[0;34m,\u001b[0m \u001b[0;34m**\u001b[0m\u001b[0mkwargs\u001b[0m\u001b[0;34m)\u001b[0m\u001b[0;34m\u001b[0m\u001b[0;34m\u001b[0m\u001b[0m\n\u001b[0m\u001b[1;32m    728\u001b[0m         for hook in itertools.chain(\n\u001b[1;32m    729\u001b[0m                 \u001b[0m_global_forward_hooks\u001b[0m\u001b[0;34m.\u001b[0m\u001b[0mvalues\u001b[0m\u001b[0;34m(\u001b[0m\u001b[0;34m)\u001b[0m\u001b[0;34m,\u001b[0m\u001b[0;34m\u001b[0m\u001b[0;34m\u001b[0m\u001b[0m\n",
      "\u001b[0;32m~/Documents/Error_class_lenstronomy/Simulations/model/resnet18.py\u001b[0m in \u001b[0;36mforward\u001b[0;34m(self, x)\u001b[0m\n\u001b[1;32m    194\u001b[0m \u001b[0;34m\u001b[0m\u001b[0m\n\u001b[1;32m    195\u001b[0m     \u001b[0;32mdef\u001b[0m \u001b[0mforward\u001b[0m\u001b[0;34m(\u001b[0m\u001b[0mself\u001b[0m\u001b[0;34m,\u001b[0m \u001b[0mx\u001b[0m\u001b[0;34m)\u001b[0m\u001b[0;34m:\u001b[0m\u001b[0;34m\u001b[0m\u001b[0;34m\u001b[0m\u001b[0m\n\u001b[0;32m--> 196\u001b[0;31m         \u001b[0mx\u001b[0m \u001b[0;34m=\u001b[0m \u001b[0mself\u001b[0m\u001b[0;34m.\u001b[0m\u001b[0mgate\u001b[0m\u001b[0;34m(\u001b[0m\u001b[0mx\u001b[0m\u001b[0;34m)\u001b[0m\u001b[0;34m\u001b[0m\u001b[0;34m\u001b[0m\u001b[0m\n\u001b[0m\u001b[1;32m    197\u001b[0m         \u001b[0;32mfor\u001b[0m \u001b[0mblock\u001b[0m \u001b[0;32min\u001b[0m \u001b[0mself\u001b[0m\u001b[0;34m.\u001b[0m\u001b[0mblocks\u001b[0m\u001b[0;34m:\u001b[0m\u001b[0;34m\u001b[0m\u001b[0;34m\u001b[0m\u001b[0m\n\u001b[1;32m    198\u001b[0m             \u001b[0mx\u001b[0m \u001b[0;34m=\u001b[0m \u001b[0mblock\u001b[0m\u001b[0;34m(\u001b[0m\u001b[0mx\u001b[0m\u001b[0;34m)\u001b[0m\u001b[0;34m\u001b[0m\u001b[0;34m\u001b[0m\u001b[0m\n",
      "\u001b[0;32m~/anaconda3/envs/deeplens/lib/python3.7/site-packages/torch/nn/modules/module.py\u001b[0m in \u001b[0;36m_call_impl\u001b[0;34m(self, *input, **kwargs)\u001b[0m\n\u001b[1;32m    725\u001b[0m             \u001b[0mresult\u001b[0m \u001b[0;34m=\u001b[0m \u001b[0mself\u001b[0m\u001b[0;34m.\u001b[0m\u001b[0m_slow_forward\u001b[0m\u001b[0;34m(\u001b[0m\u001b[0;34m*\u001b[0m\u001b[0minput\u001b[0m\u001b[0;34m,\u001b[0m \u001b[0;34m**\u001b[0m\u001b[0mkwargs\u001b[0m\u001b[0;34m)\u001b[0m\u001b[0;34m\u001b[0m\u001b[0;34m\u001b[0m\u001b[0m\n\u001b[1;32m    726\u001b[0m         \u001b[0;32melse\u001b[0m\u001b[0;34m:\u001b[0m\u001b[0;34m\u001b[0m\u001b[0;34m\u001b[0m\u001b[0m\n\u001b[0;32m--> 727\u001b[0;31m             \u001b[0mresult\u001b[0m \u001b[0;34m=\u001b[0m \u001b[0mself\u001b[0m\u001b[0;34m.\u001b[0m\u001b[0mforward\u001b[0m\u001b[0;34m(\u001b[0m\u001b[0;34m*\u001b[0m\u001b[0minput\u001b[0m\u001b[0;34m,\u001b[0m \u001b[0;34m**\u001b[0m\u001b[0mkwargs\u001b[0m\u001b[0;34m)\u001b[0m\u001b[0;34m\u001b[0m\u001b[0;34m\u001b[0m\u001b[0m\n\u001b[0m\u001b[1;32m    728\u001b[0m         for hook in itertools.chain(\n\u001b[1;32m    729\u001b[0m                 \u001b[0m_global_forward_hooks\u001b[0m\u001b[0;34m.\u001b[0m\u001b[0mvalues\u001b[0m\u001b[0;34m(\u001b[0m\u001b[0;34m)\u001b[0m\u001b[0;34m,\u001b[0m\u001b[0;34m\u001b[0m\u001b[0;34m\u001b[0m\u001b[0m\n",
      "\u001b[0;32m~/anaconda3/envs/deeplens/lib/python3.7/site-packages/torch/nn/modules/container.py\u001b[0m in \u001b[0;36mforward\u001b[0;34m(self, input)\u001b[0m\n\u001b[1;32m    115\u001b[0m     \u001b[0;32mdef\u001b[0m \u001b[0mforward\u001b[0m\u001b[0;34m(\u001b[0m\u001b[0mself\u001b[0m\u001b[0;34m,\u001b[0m \u001b[0minput\u001b[0m\u001b[0;34m)\u001b[0m\u001b[0;34m:\u001b[0m\u001b[0;34m\u001b[0m\u001b[0;34m\u001b[0m\u001b[0m\n\u001b[1;32m    116\u001b[0m         \u001b[0;32mfor\u001b[0m \u001b[0mmodule\u001b[0m \u001b[0;32min\u001b[0m \u001b[0mself\u001b[0m\u001b[0;34m:\u001b[0m\u001b[0;34m\u001b[0m\u001b[0;34m\u001b[0m\u001b[0m\n\u001b[0;32m--> 117\u001b[0;31m             \u001b[0minput\u001b[0m \u001b[0;34m=\u001b[0m \u001b[0mmodule\u001b[0m\u001b[0;34m(\u001b[0m\u001b[0minput\u001b[0m\u001b[0;34m)\u001b[0m\u001b[0;34m\u001b[0m\u001b[0;34m\u001b[0m\u001b[0m\n\u001b[0m\u001b[1;32m    118\u001b[0m         \u001b[0;32mreturn\u001b[0m \u001b[0minput\u001b[0m\u001b[0;34m\u001b[0m\u001b[0;34m\u001b[0m\u001b[0m\n\u001b[1;32m    119\u001b[0m \u001b[0;34m\u001b[0m\u001b[0m\n",
      "\u001b[0;32m~/anaconda3/envs/deeplens/lib/python3.7/site-packages/torch/nn/modules/module.py\u001b[0m in \u001b[0;36m_call_impl\u001b[0;34m(self, *input, **kwargs)\u001b[0m\n\u001b[1;32m    725\u001b[0m             \u001b[0mresult\u001b[0m \u001b[0;34m=\u001b[0m \u001b[0mself\u001b[0m\u001b[0;34m.\u001b[0m\u001b[0m_slow_forward\u001b[0m\u001b[0;34m(\u001b[0m\u001b[0;34m*\u001b[0m\u001b[0minput\u001b[0m\u001b[0;34m,\u001b[0m \u001b[0;34m**\u001b[0m\u001b[0mkwargs\u001b[0m\u001b[0;34m)\u001b[0m\u001b[0;34m\u001b[0m\u001b[0;34m\u001b[0m\u001b[0m\n\u001b[1;32m    726\u001b[0m         \u001b[0;32melse\u001b[0m\u001b[0;34m:\u001b[0m\u001b[0;34m\u001b[0m\u001b[0;34m\u001b[0m\u001b[0m\n\u001b[0;32m--> 727\u001b[0;31m             \u001b[0mresult\u001b[0m \u001b[0;34m=\u001b[0m \u001b[0mself\u001b[0m\u001b[0;34m.\u001b[0m\u001b[0mforward\u001b[0m\u001b[0;34m(\u001b[0m\u001b[0;34m*\u001b[0m\u001b[0minput\u001b[0m\u001b[0;34m,\u001b[0m \u001b[0;34m**\u001b[0m\u001b[0mkwargs\u001b[0m\u001b[0;34m)\u001b[0m\u001b[0;34m\u001b[0m\u001b[0;34m\u001b[0m\u001b[0m\n\u001b[0m\u001b[1;32m    728\u001b[0m         for hook in itertools.chain(\n\u001b[1;32m    729\u001b[0m                 \u001b[0m_global_forward_hooks\u001b[0m\u001b[0;34m.\u001b[0m\u001b[0mvalues\u001b[0m\u001b[0;34m(\u001b[0m\u001b[0;34m)\u001b[0m\u001b[0;34m,\u001b[0m\u001b[0;34m\u001b[0m\u001b[0;34m\u001b[0m\u001b[0m\n",
      "\u001b[0;32m~/anaconda3/envs/deeplens/lib/python3.7/site-packages/torch/nn/modules/pooling.py\u001b[0m in \u001b[0;36mforward\u001b[0;34m(self, input)\u001b[0m\n\u001b[1;32m    153\u001b[0m         return F.max_pool2d(input, self.kernel_size, self.stride,\n\u001b[1;32m    154\u001b[0m                             \u001b[0mself\u001b[0m\u001b[0;34m.\u001b[0m\u001b[0mpadding\u001b[0m\u001b[0;34m,\u001b[0m \u001b[0mself\u001b[0m\u001b[0;34m.\u001b[0m\u001b[0mdilation\u001b[0m\u001b[0;34m,\u001b[0m \u001b[0mself\u001b[0m\u001b[0;34m.\u001b[0m\u001b[0mceil_mode\u001b[0m\u001b[0;34m,\u001b[0m\u001b[0;34m\u001b[0m\u001b[0;34m\u001b[0m\u001b[0m\n\u001b[0;32m--> 155\u001b[0;31m                             self.return_indices)\n\u001b[0m\u001b[1;32m    156\u001b[0m \u001b[0;34m\u001b[0m\u001b[0m\n\u001b[1;32m    157\u001b[0m \u001b[0;34m\u001b[0m\u001b[0m\n",
      "\u001b[0;32m~/anaconda3/envs/deeplens/lib/python3.7/site-packages/torch/_jit_internal.py\u001b[0m in \u001b[0;36mfn\u001b[0;34m(*args, **kwargs)\u001b[0m\n\u001b[1;32m    265\u001b[0m             \u001b[0;32mreturn\u001b[0m \u001b[0mif_true\u001b[0m\u001b[0;34m(\u001b[0m\u001b[0;34m*\u001b[0m\u001b[0margs\u001b[0m\u001b[0;34m,\u001b[0m \u001b[0;34m**\u001b[0m\u001b[0mkwargs\u001b[0m\u001b[0;34m)\u001b[0m\u001b[0;34m\u001b[0m\u001b[0;34m\u001b[0m\u001b[0m\n\u001b[1;32m    266\u001b[0m         \u001b[0;32melse\u001b[0m\u001b[0;34m:\u001b[0m\u001b[0;34m\u001b[0m\u001b[0;34m\u001b[0m\u001b[0m\n\u001b[0;32m--> 267\u001b[0;31m             \u001b[0;32mreturn\u001b[0m \u001b[0mif_false\u001b[0m\u001b[0;34m(\u001b[0m\u001b[0;34m*\u001b[0m\u001b[0margs\u001b[0m\u001b[0;34m,\u001b[0m \u001b[0;34m**\u001b[0m\u001b[0mkwargs\u001b[0m\u001b[0;34m)\u001b[0m\u001b[0;34m\u001b[0m\u001b[0;34m\u001b[0m\u001b[0m\n\u001b[0m\u001b[1;32m    268\u001b[0m \u001b[0;34m\u001b[0m\u001b[0m\n\u001b[1;32m    269\u001b[0m     \u001b[0;32mif\u001b[0m \u001b[0mif_true\u001b[0m\u001b[0;34m.\u001b[0m\u001b[0m__doc__\u001b[0m \u001b[0;32mis\u001b[0m \u001b[0;32mNone\u001b[0m \u001b[0;32mand\u001b[0m \u001b[0mif_false\u001b[0m\u001b[0;34m.\u001b[0m\u001b[0m__doc__\u001b[0m \u001b[0;32mis\u001b[0m \u001b[0;32mnot\u001b[0m \u001b[0;32mNone\u001b[0m\u001b[0;34m:\u001b[0m\u001b[0;34m\u001b[0m\u001b[0;34m\u001b[0m\u001b[0m\n",
      "\u001b[0;32m~/anaconda3/envs/deeplens/lib/python3.7/site-packages/torch/nn/functional.py\u001b[0m in \u001b[0;36m_max_pool2d\u001b[0;34m(input, kernel_size, stride, padding, dilation, ceil_mode, return_indices)\u001b[0m\n\u001b[1;32m    584\u001b[0m         \u001b[0mstride\u001b[0m \u001b[0;34m=\u001b[0m \u001b[0mtorch\u001b[0m\u001b[0;34m.\u001b[0m\u001b[0mjit\u001b[0m\u001b[0;34m.\u001b[0m\u001b[0mannotate\u001b[0m\u001b[0;34m(\u001b[0m\u001b[0mList\u001b[0m\u001b[0;34m[\u001b[0m\u001b[0mint\u001b[0m\u001b[0;34m]\u001b[0m\u001b[0;34m,\u001b[0m \u001b[0;34m[\u001b[0m\u001b[0;34m]\u001b[0m\u001b[0;34m)\u001b[0m\u001b[0;34m\u001b[0m\u001b[0;34m\u001b[0m\u001b[0m\n\u001b[1;32m    585\u001b[0m     return torch.max_pool2d(\n\u001b[0;32m--> 586\u001b[0;31m         input, kernel_size, stride, padding, dilation, ceil_mode)\n\u001b[0m\u001b[1;32m    587\u001b[0m \u001b[0;34m\u001b[0m\u001b[0m\n\u001b[1;32m    588\u001b[0m max_pool2d = boolean_dispatch(\n",
      "\u001b[0;31mKeyboardInterrupt\u001b[0m: "
     ]
    }
   ],
   "source": [
    "test_acc_pad = np.zeros(max_epoch)\n",
    "max_acc = 0\n",
    "for epoch in range(max_epoch):  # loop over the dataset multiple times\n",
    "\n",
    "    running_loss = 0.0\n",
    "    for i, data in enumerate(loader_train, 0):\n",
    "        # get the inputs; data is a list of [inputs, labels]\n",
    "        inputs, meta_inputs,labels = data\n",
    "        m = nn.ZeroPad2d(80)\n",
    "        inputs = m(inputs)\n",
    "        \n",
    "        # zero the parameter gradients\n",
    "        optimizer.zero_grad()\n",
    "\n",
    "        # forward + backward + optimize\n",
    "        outputs = net(inputs)\n",
    "        loss = criterion(outputs, labels)\n",
    "        loss.backward()\n",
    "        optimizer.step()\n",
    "\n",
    "    with torch.no_grad():\n",
    "        predictions = []\n",
    "        targets = []\n",
    "        for data in loader_test:\n",
    "            images, meta_img, labels = data\n",
    "            m = nn.ZeroPad2d(80)\n",
    "            images = m(images)\n",
    "            outputs = net(images)\n",
    "            predictions.extend(outputs.cpu().numpy())\n",
    "            targets.extend(labels.cpu().numpy())\n",
    "        result = calculate_metrics(np.round(np.array(predictions)), np.array(targets))\n",
    "        test_acc_pad[epoch] =  result['accuracy']\n",
    "    if result['accuracy'] > max_acc:\n",
    "        max_acc = result['accuracy']\n",
    "        print(\"epoch: {:.3f}, accuracy: {:.3f} \".format(epoch, result['accuracy']))\n",
    "    \n",
    "print('Finished Training')"
   ]
  },
  {
   "cell_type": "markdown",
   "id": "brief-vessel",
   "metadata": {},
   "source": [
    "### 3.2.2. Interpolation\n",
    "**Results** :  epochs -  accuracy "
   ]
  },
  {
   "cell_type": "code",
   "execution_count": null,
   "id": "enabling-terrorism",
   "metadata": {
    "executionInfo": {
     "elapsed": 5136,
     "status": "aborted",
     "timestamp": 1616692454732,
     "user": {
      "displayName": "Emma Hoggett",
      "photoUrl": "https://lh3.googleusercontent.com/a-/AOh14GgPUKVC2O_DRFGM99OSkYdh6iVTYJzQEqnz8pVc7A=s64",
      "userId": "15046273628982635449"
     },
     "user_tz": -60
    },
    "id": "6axEfVW00Kj_",
    "tags": []
   },
   "outputs": [],
   "source": [
    "net = resnet18maps(1,3)\n",
    "criterion = nn.BCELoss()\n",
    "optimizer = optim.SGD(net.parameters(), lr=0.001, momentum=0.9)"
   ]
  },
  {
   "cell_type": "code",
   "execution_count": null,
   "id": "spoken-liver",
   "metadata": {},
   "outputs": [],
   "source": [
    "test_acc_int = np.zeros(max_epoch)\n",
    "max_acc = 0\n",
    "for epoch in range(max_epoch):  # loop over the dataset multiple times\n",
    "\n",
    "    running_loss = 0.0\n",
    "    for i, data in enumerate(loader_train, 0):\n",
    "        # get the inputs; data is a list of [inputs, labels]\n",
    "        inputs, meta_inputs,labels = data\n",
    "        inputs = F.interpolate(inputs, size=(224, 224), mode='bicubic', align_corners=False)\n",
    "        \n",
    "        # zero the parameter gradients\n",
    "        optimizer.zero_grad()\n",
    "\n",
    "        # forward + backward + optimize\n",
    "        outputs = net(inputs)\n",
    "        loss = criterion(outputs, labels)\n",
    "        loss.backward()\n",
    "        optimizer.step()\n",
    "\n",
    "\n",
    "    accuracy = 0\n",
    "    iteration = 0\n",
    "    with torch.no_grad():\n",
    "        predictions = []\n",
    "        targets = []\n",
    "        for data in loader_test:\n",
    "            images, meta_img, labels = data\n",
    "            images = F.interpolate(images, size=(224, 224), mode='bicubic', align_corners=False)\n",
    "            outputs = net(images)\n",
    "            predictions.extend(outputs.cpu().numpy())\n",
    "            targets.extend(labels.cpu().numpy())\n",
    "        result = calculate_metrics(np.round(np.array(predictions)), np.array(targets))\n",
    "        test_acc_int[epoch] =  result['accuracy']\n",
    "    if result['accuracy'] > max_acc:\n",
    "        max_acc = result['accuracy']\n",
    "        print(\"epoch: {:.3f}, accuracy: {:.3f} \".format(epoch, result['accuracy']))\n",
    "    \n",
    "print('Finished Training')"
   ]
  },
  {
   "cell_type": "code",
   "execution_count": null,
   "id": "experienced-purple",
   "metadata": {},
   "outputs": [],
   "source": [
    "sns.set_theme(style=\"whitegrid\")\n",
    "\n",
    "sns.lineplot(x=np.arange(0,max_epoch), y=test_acc_pad, label = 'Padding')\n",
    "sns.lineplot(x=np.arange(0,max_epoch), y=test_acc_int, label = 'Interpolation')\n",
    "# change legend texts\n",
    "plt.xlabel('Epochs [-]')\n",
    "plt.ylabel('Accuracy [-]')"
   ]
  },
  {
   "cell_type": "markdown",
   "id": "undefined-dividend",
   "metadata": {
    "id": "0PpS3OPlWL1i"
   },
   "source": [
    "## 3.3. VGG16 - Residual maps\n",
    "### 3.3.1. Padding\n",
    "**Results** :  epochs -  accuracy "
   ]
  },
  {
   "cell_type": "code",
   "execution_count": null,
   "id": "funny-castle",
   "metadata": {
    "executionInfo": {
     "elapsed": 5114,
     "status": "aborted",
     "timestamp": 1616692454734,
     "user": {
      "displayName": "Emma Hoggett",
      "photoUrl": "https://lh3.googleusercontent.com/a-/AOh14GgPUKVC2O_DRFGM99OSkYdh6iVTYJzQEqnz8pVc7A=s64",
      "userId": "15046273628982635449"
     },
     "user_tz": -60
    },
    "id": "jWiuE5X51TkG"
   },
   "outputs": [],
   "source": [
    "net = VGG16Residual()\n",
    "criterion = nn.BCELoss()\n",
    "optimizer = optim.SGD(net.parameters(), lr=0.001, momentum=0.9)"
   ]
  },
  {
   "cell_type": "code",
   "execution_count": null,
   "id": "frozen-threshold",
   "metadata": {
    "executionInfo": {
     "elapsed": 5107,
     "status": "aborted",
     "timestamp": 1616692454734,
     "user": {
      "displayName": "Emma Hoggett",
      "photoUrl": "https://lh3.googleusercontent.com/a-/AOh14GgPUKVC2O_DRFGM99OSkYdh6iVTYJzQEqnz8pVc7A=s64",
      "userId": "15046273628982635449"
     },
     "user_tz": -60
    },
    "id": "gBZBvZ6a1Wvv"
   },
   "outputs": [],
   "source": [
    "test_acc_pad = np.zeros(max_epoch)\n",
    "max_acc = 0\n",
    "for epoch in range(max_epoch):  # loop over the dataset multiple times\n",
    "\n",
    "    running_loss = 0.0\n",
    "    for i, data in enumerate(loader_train, 0):\n",
    "        # get the inputs; data is a list of [inputs, labels]\n",
    "        inputs, meta_inputs,labels = data\n",
    "        m = nn.ZeroPad2d(80)\n",
    "        inputs = m(inputs)\n",
    "        \n",
    "        # zero the parameter gradients\n",
    "        optimizer.zero_grad()\n",
    "\n",
    "        # forward + backward + optimize\n",
    "        outputs = net(inputs)\n",
    "        loss = criterion(outputs, labels)\n",
    "        loss.backward()\n",
    "        optimizer.step()\n",
    "\n",
    "    with torch.no_grad():\n",
    "        predictions = []\n",
    "        targets = []\n",
    "        for data in loader_test:\n",
    "            images, meta_img, labels = data\n",
    "            m = nn.ZeroPad2d(80)\n",
    "            images = m(images)\n",
    "            outputs = net(images)\n",
    "            predictions.extend(outputs.cpu().numpy())\n",
    "            targets.extend(labels.cpu().numpy())\n",
    "        result = calculate_metrics(np.round(np.array(predictions)), np.array(targets))\n",
    "        test_acc_pad[epoch] =  result['accuracy']\n",
    "    if result['accuracy'] > max_acc:\n",
    "        max_acc = result['accuracy']\n",
    "        print(\"epoch: {:.3f}, accuracy: {:.3f} \".format(epoch, result['accuracy']))\n",
    "    \n",
    "print('Finished Training')"
   ]
  },
  {
   "cell_type": "markdown",
   "id": "legendary-buying",
   "metadata": {},
   "source": [
    "### 3.3.2 Interpolation\n",
    "**Results** :  epochs -  accuracy "
   ]
  },
  {
   "cell_type": "code",
   "execution_count": null,
   "id": "described-reception",
   "metadata": {},
   "outputs": [],
   "source": [
    "net = VGG16Residual()\n",
    "criterion = nn.BCELoss()\n",
    "optimizer = optim.SGD(net.parameters(), lr=0.001, momentum=0.9)"
   ]
  },
  {
   "cell_type": "code",
   "execution_count": null,
   "id": "burning-tucson",
   "metadata": {},
   "outputs": [],
   "source": [
    "test_acc_int = np.zeros(max_epoch)\n",
    "max_acc = 0\n",
    "for epoch in range(max_epoch):  # loop over the dataset multiple times\n",
    "\n",
    "    running_loss = 0.0\n",
    "    for i, data in enumerate(loader_train, 0):\n",
    "        # get the inputs; data is a list of [inputs, labels]\n",
    "        inputs, meta_inputs,labels = data\n",
    "        inputs = F.interpolate(inputs, size=(224, 224), mode='bicubic', align_corners=False)\n",
    "        \n",
    "        # zero the parameter gradients\n",
    "        optimizer.zero_grad()\n",
    "\n",
    "        # forward + backward + optimize\n",
    "        outputs = net(inputs)\n",
    "        loss = criterion(outputs, labels)\n",
    "        loss.backward()\n",
    "        optimizer.step()\n",
    "\n",
    "\n",
    "    with torch.no_grad():\n",
    "        predictions = []\n",
    "        targets = []\n",
    "        for data in loader_test:\n",
    "            images, meta_img, labels = data\n",
    "            images = F.interpolate(images, size=(224, 224), mode='bicubic', align_corners=False)\n",
    "            outputs = net(images)\n",
    "            predictions.extend(outputs.cpu().numpy())\n",
    "            targets.extend(labels.cpu().numpy())\n",
    "        result = calculate_metrics(np.round(np.array(predictions)), np.array(targets))\n",
    "        test_acc_int[epoch] =  result['accuracy']\n",
    "    if result['accuracy'] > max_acc:\n",
    "        max_acc = result['accuracy']\n",
    "        print(\"epoch: {:.3f}, accuracy: {:.3f} \".format(epoch, result['accuracy']))\n",
    "    \n",
    "print('Finished Training')"
   ]
  },
  {
   "cell_type": "code",
   "execution_count": null,
   "id": "certain-banking",
   "metadata": {},
   "outputs": [],
   "source": [
    "sns.set_theme(style=\"whitegrid\")\n",
    "\n",
    "sns.lineplot(x=np.arange(0,max_epoch), y=test_acc_pad, label = 'Padding')\n",
    "sns.lineplot(x=np.arange(0,max_epoch), y=test_acc_int, label = 'Interpolation')\n",
    "# change legend texts\n",
    "plt.xlabel('Epochs [-]')\n",
    "plt.ylabel('Accuracy [-]')"
   ]
  },
  {
   "cell_type": "markdown",
   "id": "fewer-billy",
   "metadata": {
    "id": "66C5ftu6cfFP"
   },
   "source": [
    "## 3.4. Dense Net 161 - Residual maps\n",
    "### 3.4.1 Padding\n",
    "**Results** :  epochs -  accuracy "
   ]
  },
  {
   "cell_type": "code",
   "execution_count": null,
   "id": "former-qatar",
   "metadata": {
    "executionInfo": {
     "elapsed": 5079,
     "status": "aborted",
     "timestamp": 1616692454737,
     "user": {
      "displayName": "Emma Hoggett",
      "photoUrl": "https://lh3.googleusercontent.com/a-/AOh14GgPUKVC2O_DRFGM99OSkYdh6iVTYJzQEqnz8pVc7A=s64",
      "userId": "15046273628982635449"
     },
     "user_tz": -60
    },
    "id": "jTX_xhrfZ0wW"
   },
   "outputs": [],
   "source": [
    "net = densenet161()\n",
    "criterion = nn.BCELoss()\n",
    "optimizer = optim.SGD(net.parameters(), lr=0.001, momentum=0.9)"
   ]
  },
  {
   "cell_type": "code",
   "execution_count": null,
   "id": "micro-hebrew",
   "metadata": {
    "executionInfo": {
     "elapsed": 5074,
     "status": "aborted",
     "timestamp": 1616692454738,
     "user": {
      "displayName": "Emma Hoggett",
      "photoUrl": "https://lh3.googleusercontent.com/a-/AOh14GgPUKVC2O_DRFGM99OSkYdh6iVTYJzQEqnz8pVc7A=s64",
      "userId": "15046273628982635449"
     },
     "user_tz": -60
    },
    "id": "gV19-p4jau9u"
   },
   "outputs": [],
   "source": [
    "test_acc_pad = np.zeros(max_epoch)\n",
    "max_acc = 0\n",
    "for epoch in range(max_epoch):  # loop over the dataset multiple times\n",
    "\n",
    "    running_loss = 0.0\n",
    "    for i, data in enumerate(loader_train, 0):\n",
    "        # get the inputs; data is a list of [inputs, labels]\n",
    "        inputs, meta_inputs,labels = data\n",
    "        m = nn.ZeroPad2d(80)\n",
    "        inputs = m(inputs)\n",
    "        \n",
    "        # zero the parameter gradients\n",
    "        optimizer.zero_grad()\n",
    "\n",
    "        # forward + backward + optimize\n",
    "        outputs = net(inputs)\n",
    "        loss = criterion(outputs, labels)\n",
    "        loss.backward()\n",
    "        optimizer.step()\n",
    "\n",
    "\n",
    "    with torch.no_grad():\n",
    "        predictions = []\n",
    "        targets = []\n",
    "        for data in loader_test:\n",
    "            images, meta_img, labels = data\n",
    "            m = nn.ZeroPad2d(80)\n",
    "            images = m(images)\n",
    "            outputs = net(images)\n",
    "            predictions.extend(outputs.cpu().numpy())\n",
    "            targets.extend(labels.cpu().numpy())\n",
    "        result = calculate_metrics(np.round(np.array(predictions)), np.array(targets))\n",
    "        test_acc_pad[epoch] =  result['accuracy']\n",
    "    if result['accuracy'] > max_acc:\n",
    "        max_acc = result['accuracy']\n",
    "        print(\"epoch: {:.3f}, accuracy: {:.3f} \".format(epoch, result['accuracy']))\n",
    "    \n",
    "print('Finished Training')"
   ]
  },
  {
   "cell_type": "markdown",
   "id": "major-stable",
   "metadata": {},
   "source": [
    "### 3.4.2 Interpolation\n",
    "**Results** :  epochs -  accuracy "
   ]
  },
  {
   "cell_type": "code",
   "execution_count": null,
   "id": "regional-label",
   "metadata": {},
   "outputs": [],
   "source": [
    "net = densenet161()\n",
    "criterion = nn.BCELoss()\n",
    "optimizer = optim.SGD(net.parameters(), lr=0.001, momentum=0.9)"
   ]
  },
  {
   "cell_type": "code",
   "execution_count": null,
   "id": "rental-telescope",
   "metadata": {
    "executionInfo": {
     "elapsed": 5068,
     "status": "aborted",
     "timestamp": 1616692454738,
     "user": {
      "displayName": "Emma Hoggett",
      "photoUrl": "https://lh3.googleusercontent.com/a-/AOh14GgPUKVC2O_DRFGM99OSkYdh6iVTYJzQEqnz8pVc7A=s64",
      "userId": "15046273628982635449"
     },
     "user_tz": -60
    },
    "id": "qOcti75Qlfd1"
   },
   "outputs": [],
   "source": [
    "test_acc_int = np.zeros(max_epoch)\n",
    "max_acc = 0\n",
    "for epoch in range(max_epoch):  # loop over the dataset multiple times\n",
    "\n",
    "    running_loss = 0.0\n",
    "    for i, data in enumerate(loader_train, 0):\n",
    "        # get the inputs; data is a list of [inputs, labels]\n",
    "        inputs, meta_inputs,labels = data\n",
    "        inputs = F.interpolate(inputs, size=(224, 224), mode='bicubic', align_corners=False)\n",
    "        \n",
    "        # zero the parameter gradients\n",
    "        optimizer.zero_grad()\n",
    "\n",
    "        # forward + backward + optimize\n",
    "        outputs = net(inputs)\n",
    "        loss = criterion(outputs, labels)\n",
    "        loss.backward()\n",
    "        optimizer.step()\n",
    "\n",
    "\n",
    "    accuracy = 0\n",
    "    iteration = 0\n",
    "    with torch.no_grad():\n",
    "        predictions = []\n",
    "        targets = []\n",
    "        for data in loader_test:\n",
    "            images, meta_img, labels = data\n",
    "            images = F.interpolate(images, size=(224, 224), mode='bicubic', align_corners=False)\n",
    "            outputs = net(images)\n",
    "            predictions.extend(outputs.cpu().numpy())\n",
    "            targets.extend(labels.cpu().numpy())\n",
    "        result = calculate_metrics(np.round(np.array(predictions)), np.array(targets))\n",
    "        test_acc_int[epoch] =  result['accuracy']\n",
    "    if result['accuracy'] > max_acc:\n",
    "        max_acc = result['accuracy']\n",
    "        print(\"epoch: {:.3f}, accuracy: {:.3f} \".format(epoch, result['accuracy']))\n",
    "    \n",
    "print('Finished Training')"
   ]
  },
  {
   "cell_type": "code",
   "execution_count": null,
   "id": "infectious-chester",
   "metadata": {},
   "outputs": [],
   "source": [
    "sns.set_theme(style=\"whitegrid\")\n",
    "\n",
    "sns.lineplot(x=np.arange(0,max_epoch), y=test_acc_pad, label = 'Padding')\n",
    "sns.lineplot(x=np.arange(0,max_epoch), y=test_acc_int, label = 'Interpolation')\n",
    "# change legend texts\n",
    "plt.xlabel('Epochs [-]')\n",
    "plt.ylabel('Accuracy [-]')"
   ]
  },
  {
   "cell_type": "markdown",
   "id": "fallen-grocery",
   "metadata": {
    "id": "RFEJTNK8cug8"
   },
   "source": [
    "## 3.5. Google Net - Residual maps\n",
    "### 3.5.1 Padding\n",
    "**Results** :  epochs -  accuracy "
   ]
  },
  {
   "cell_type": "code",
   "execution_count": null,
   "id": "severe-wales",
   "metadata": {},
   "outputs": [],
   "source": [
    "net = GoogLeNet(googlenet(True, True, None,224, dropout_rate=0.2, num_classes=3))\n",
    "criterion = nn.BCELoss()\n",
    "optimizer = optim.SGD(net.parameters(), lr=0.001, momentum=0.9)"
   ]
  },
  {
   "cell_type": "code",
   "execution_count": null,
   "id": "framed-consortium",
   "metadata": {
    "executionInfo": {
     "elapsed": 5058,
     "status": "aborted",
     "timestamp": 1616692454740,
     "user": {
      "displayName": "Emma Hoggett",
      "photoUrl": "https://lh3.googleusercontent.com/a-/AOh14GgPUKVC2O_DRFGM99OSkYdh6iVTYJzQEqnz8pVc7A=s64",
      "userId": "15046273628982635449"
     },
     "user_tz": -60
    },
    "id": "dLURFuUAfG3a"
   },
   "outputs": [],
   "source": [
    "test_acc_pad = np.zeros(max_epoch)\n",
    "max_acc = 0\n",
    "for epoch in range(max_epoch):  # loop over the dataset multiple times\n",
    "\n",
    "    running_loss = 0.0\n",
    "    for i, data in enumerate(loader_train, 0):\n",
    "        # get the inputs; data is a list of [inputs, labels]\n",
    "        inputs, meta_inputs,labels = data\n",
    "        m = nn.ZeroPad2d(80)\n",
    "        inputs = m(inputs)\n",
    "        \n",
    "        # zero the parameter gradients\n",
    "        optimizer.zero_grad()\n",
    "\n",
    "        # forward + backward + optimize\n",
    "        outputs, aux1, aux2 = net(inputs)\n",
    "        loss = criterion((outputs+aux1+aux2)/3, labels)\n",
    "        loss.backward()\n",
    "        optimizer.step()\n",
    "\n",
    "\n",
    "    with torch.no_grad():\n",
    "        predictions = []\n",
    "        targets = []\n",
    "        for data in loader_test:\n",
    "            images, meta_img, labels = data\n",
    "            m = nn.ZeroPad2d(80)\n",
    "            images = m(images)\n",
    "            outputs,aux1,aux2 = net(images)\n",
    "            outputs = (outputs+aux1+aux2)/3\n",
    "            predictions.extend(outputs.cpu().numpy())\n",
    "            targets.extend(labels.cpu().numpy())\n",
    "        result = calculate_metrics(np.round(np.array(predictions)), np.array(targets))\n",
    "        test_acc_pad[epoch] =  result['accuracy']\n",
    "    if result['accuracy'] > max_acc:\n",
    "        max_acc = result['accuracy']\n",
    "        print(\"epoch: {:.3f}, accuracy: {:.3f} \".format(epoch, result['accuracy']))\n",
    "    \n",
    "print('Finished Training')"
   ]
  },
  {
   "cell_type": "markdown",
   "id": "rural-wildlife",
   "metadata": {},
   "source": [
    "### 3.5.2 Interpolation\n",
    "**Results** :  epochs -  accuracy "
   ]
  },
  {
   "cell_type": "code",
   "execution_count": null,
   "id": "alien-sender",
   "metadata": {},
   "outputs": [],
   "source": [
    "net = GoogLeNet(googlenet(True, True, None,224, dropout_rate=0.2, num_classes=3))\n",
    "criterion = nn.BCELoss()\n",
    "optimizer = optim.SGD(net.parameters(), lr=0.001, momentum=0.9)"
   ]
  },
  {
   "cell_type": "code",
   "execution_count": null,
   "id": "changed-value",
   "metadata": {},
   "outputs": [],
   "source": [
    "test_acc_int = np.zeros(max_epoch)\n",
    "max_acc = 0\n",
    "for epoch in range(max_epoch):  # loop over the dataset multiple times\n",
    "\n",
    "    running_loss = 0.0\n",
    "    for i, data in enumerate(loader_train, 0):\n",
    "        # get the inputs; data is a list of [inputs, labels]\n",
    "        inputs, meta_inputs,labels = data\n",
    "        inputs = F.interpolate(inputs, size=(224, 224), mode='bicubic', align_corners=False)\n",
    "        \n",
    "        # zero the parameter gradients\n",
    "        optimizer.zero_grad()\n",
    "\n",
    "        # forward + backward + optimize\n",
    "        outputs, aux1, aux2 = net(inputs)\n",
    "        loss = criterion((outputs+aux1+aux2)/3, labels)\n",
    "        loss = criterion(outputs, labels)\n",
    "        loss.backward()\n",
    "        optimizer.step()\n",
    "\n",
    "\n",
    "    with torch.no_grad():\n",
    "        predictions = []\n",
    "        targets = []\n",
    "        for data in loader_test:\n",
    "            images, meta_img, labels = data\n",
    "            images = F.interpolate(images, size=(224, 224), mode='bicubic', align_corners=False)\n",
    "            outputs,aux1,aux2 = net(images)\n",
    "            outputs = (outputs+aux1+aux2)/3\n",
    "            predictions.extend(outputs.cpu().numpy())\n",
    "            targets.extend(labels.cpu().numpy())\n",
    "        result = calculate_metrics(np.round(np.array(predictions)), np.array(targets))\n",
    "        test_acc_int[epoch] =  result['accuracy']\n",
    "    if result['accuracy'] > max_acc:\n",
    "        max_acc = result['accuracy']\n",
    "        print(\"epoch: {:.3f}, accuracy: {:.3f} \".format(epoch, result['accuracy']))\n",
    "    \n",
    "print('Finished Training')"
   ]
  },
  {
   "cell_type": "code",
   "execution_count": null,
   "id": "color-monitor",
   "metadata": {},
   "outputs": [],
   "source": [
    "sns.set_theme(style=\"whitegrid\")\n",
    "\n",
    "sns.lineplot(x=np.arange(0,max_epoch), y=test_acc_pad, label = 'Padding')\n",
    "sns.lineplot(x=np.arange(0,max_epoch), y=test_acc_int, label = 'Interpolation')\n",
    "# change legend texts\n",
    "plt.xlabel('Epochs [-]')\n",
    "plt.ylabel('Accuracy [-]')"
   ]
  },
  {
   "cell_type": "markdown",
   "id": "adapted-condition",
   "metadata": {
    "id": "FL0p7kKwc0CU"
   },
   "source": [
    "## 3.6. Squeeze Net 1_1  - Residual maps\n",
    "### 3.6.1 Padding\n",
    "**Results** :  epochs -  accuracy "
   ]
  },
  {
   "cell_type": "code",
   "execution_count": null,
   "id": "chicken-oriental",
   "metadata": {
    "executionInfo": {
     "elapsed": 5047,
     "status": "aborted",
     "timestamp": 1616692454741,
     "user": {
      "displayName": "Emma Hoggett",
      "photoUrl": "https://lh3.googleusercontent.com/a-/AOh14GgPUKVC2O_DRFGM99OSkYdh6iVTYJzQEqnz8pVc7A=s64",
      "userId": "15046273628982635449"
     },
     "user_tz": -60
    },
    "id": "o3gMHYPdfH7C"
   },
   "outputs": [],
   "source": [
    "net = squeezenet1_1()\n",
    "criterion = nn.BCELoss()\n",
    "optimizer = optim.SGD(net.parameters(), lr=0.001, momentum=0.9)"
   ]
  },
  {
   "cell_type": "code",
   "execution_count": null,
   "id": "blind-genius",
   "metadata": {},
   "outputs": [],
   "source": [
    "test_acc_pad = np.zeros(max_epoch)\n",
    "max_acc = 0\n",
    "for epoch in range(max_epoch):  # loop over the dataset multiple times\n",
    "\n",
    "    running_loss = 0.0\n",
    "    for i, data in enumerate(loader_train, 0):\n",
    "        # get the inputs; data is a list of [inputs, labels]\n",
    "        inputs, meta_inputs,labels = data\n",
    "        m = nn.ZeroPad2d(80)\n",
    "        inputs = m(inputs)\n",
    "        \n",
    "        # zero the parameter gradients\n",
    "        optimizer.zero_grad()\n",
    "\n",
    "        # forward + backward + optimize\n",
    "        outputs = net(inputs)\n",
    "        loss = criterion(outputs, labels)\n",
    "        loss.backward()\n",
    "        optimizer.step()\n",
    "\n",
    "    with torch.no_grad():\n",
    "        predictions = []\n",
    "        targets = []\n",
    "        for data in loader_test:\n",
    "            images, meta_img, labels = data\n",
    "            m = nn.ZeroPad2d(80)\n",
    "            images = m(images)\n",
    "            outputs = net(images)\n",
    "            predictions.extend(outputs.cpu().numpy())\n",
    "            targets.extend(labels.cpu().numpy())\n",
    "        result = calculate_metrics(np.round(np.array(predictions)), np.array(targets))\n",
    "        test_acc_pad[epoch] =  result['accuracy']\n",
    "    if result['accuracy'] > max_acc:\n",
    "        max_acc = result['accuracy']\n",
    "        print(\"epoch: {:.3f}, accuracy: {:.3f} \".format(epoch, result['accuracy']))\n",
    "    \n",
    "print('Finished Training')"
   ]
  },
  {
   "cell_type": "markdown",
   "id": "abstract-fourth",
   "metadata": {},
   "source": [
    "### 3.6.2 Interpolation\n",
    "**Results** :  epochs -  accuracy "
   ]
  },
  {
   "cell_type": "code",
   "execution_count": null,
   "id": "tracked-collins",
   "metadata": {},
   "outputs": [],
   "source": [
    "net = squeezenet1_1()\n",
    "criterion = nn.BCELoss()\n",
    "optimizer = optim.SGD(net.parameters(), lr=0.001, momentum=0.9)"
   ]
  },
  {
   "cell_type": "code",
   "execution_count": null,
   "id": "corporate-biodiversity",
   "metadata": {},
   "outputs": [],
   "source": [
    "test_acc_int = np.zeros(max_epoch)\n",
    "max_acc = 0\n",
    "for epoch in range(max_epoch):  # loop over the dataset multiple times\n",
    "\n",
    "    running_loss = 0.0\n",
    "    for i, data in enumerate(loader_train, 0):\n",
    "        # get the inputs; data is a list of [inputs, labels]\n",
    "        inputs, meta_inputs,labels = data\n",
    "        inputs = F.interpolate(inputs, size=(224, 224), mode='bicubic', align_corners=False)\n",
    "        \n",
    "        # zero the parameter gradients\n",
    "        optimizer.zero_grad()\n",
    "\n",
    "        # forward + backward + optimize\n",
    "        outputs = net(inputs)\n",
    "        loss = criterion(outputs, labels)\n",
    "        loss.backward()\n",
    "        optimizer.step()\n",
    "\n",
    "\n",
    "    with torch.no_grad():\n",
    "        predictions = []\n",
    "        targets = []\n",
    "        for data in loader_test:\n",
    "            images, meta_img, labels = data\n",
    "            images = F.interpolate(images, size=(224, 224), mode='bicubic', align_corners=False)\n",
    "            outputs = net(images)\n",
    "            predictions.extend(outputs.cpu().numpy())\n",
    "            targets.extend(labels.cpu().numpy())\n",
    "        result = calculate_metrics(np.round(np.array(predictions)), np.array(targets))\n",
    "        test_acc_int[epoch] =  result['accuracy']\n",
    "    if result['accuracy'] > max_acc:\n",
    "        max_acc = result['accuracy']\n",
    "        print(\"epoch: {:.3f}, accuracy: {:.3f} \".format(epoch, result['accuracy']))\n",
    "    \n",
    "print('Finished Training')"
   ]
  },
  {
   "cell_type": "code",
   "execution_count": null,
   "id": "controlling-shift",
   "metadata": {},
   "outputs": [],
   "source": [
    "sns.set_theme(style=\"whitegrid\")\n",
    "\n",
    "sns.lineplot(x=np.arange(0,max_epoch), y=test_acc_pad, label = 'Padding')\n",
    "sns.lineplot(x=np.arange(0,max_epoch), y=test_acc_int, label = 'Interpolation')\n",
    "# change legend texts\n",
    "plt.xlabel('Epochs [-]')\n",
    "plt.ylabel('Accuracy [-]')"
   ]
  }
 ],
 "metadata": {
  "colab": {
   "collapsed_sections": [],
   "name": "NeuralNet.ipynb",
   "provenance": [],
   "toc_visible": true
  },
  "kernelspec": {
   "display_name": "Python 3",
   "language": "python",
   "name": "python3"
  },
  "language_info": {
   "codemirror_mode": {
    "name": "ipython",
    "version": 3
   },
   "file_extension": ".py",
   "mimetype": "text/x-python",
   "name": "python",
   "nbconvert_exporter": "python",
   "pygments_lexer": "ipython3",
   "version": "3.7.9"
  }
 },
 "nbformat": 4,
 "nbformat_minor": 5
}
