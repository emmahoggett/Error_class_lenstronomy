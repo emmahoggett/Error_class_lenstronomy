{
 "cells": [
  {
   "cell_type": "code",
   "execution_count": 1,
   "metadata": {
    "colab": {
     "base_uri": "https://localhost:8080/"
    },
    "executionInfo": {
     "elapsed": 35714,
     "status": "ok",
     "timestamp": 1616661774745,
     "user": {
      "displayName": "Emma Hoggett",
      "photoUrl": "https://lh3.googleusercontent.com/a-/AOh14GgPUKVC2O_DRFGM99OSkYdh6iVTYJzQEqnz8pVc7A=s64",
      "userId": "15046273628982635449"
     },
     "user_tz": -60
    },
    "id": "JF51--T47Mok",
    "outputId": "1e2f0472-e0df-4aea-9a32-95113d6c0c7b"
   },
   "outputs": [
    {
     "name": "stdout",
     "output_type": "stream",
     "text": [
      "Mounted at /content/drive\n"
     ]
    }
   ],
   "source": [
    "from google.colab import drive\n",
    "drive.mount(\"/content/drive\")\n",
    "\n",
    "import sys\n",
    "sys.path.insert(0,'/content/drive/My Drive/Colab Notebooks/deeplens/')"
   ]
  },
  {
   "cell_type": "code",
   "execution_count": 2,
   "metadata": {
    "colab": {
     "base_uri": "https://localhost:8080/",
     "height": 1000
    },
    "executionInfo": {
     "elapsed": 81644,
     "status": "ok",
     "timestamp": 1616661820687,
     "user": {
      "displayName": "Emma Hoggett",
      "photoUrl": "https://lh3.googleusercontent.com/a-/AOh14GgPUKVC2O_DRFGM99OSkYdh6iVTYJzQEqnz8pVc7A=s64",
      "userId": "15046273628982635449"
     },
     "user_tz": -60
    },
    "id": "wOJkK-0r8am9",
    "outputId": "ae69419c-be2f-476a-fb5c-15c90bdd7ced"
   },
   "outputs": [
    {
     "name": "stdout",
     "output_type": "stream",
     "text": [
      "Collecting lenstronomy\n",
      "\u001b[?25l  Downloading https://files.pythonhosted.org/packages/ca/56/7bd3c40755352085872559f770d7cdfc62fff4ce7b4e93a04ac17f7eadbc/lenstronomy-1.8.0.tar.gz (3.0MB)\n",
      "\u001b[K     |████████████████████████████████| 3.0MB 5.5MB/s \n",
      "\u001b[?25hRequirement already satisfied: numpy>=1.13 in /usr/local/lib/python3.7/dist-packages (from lenstronomy) (1.19.5)\n",
      "Requirement already satisfied: scipy>=0.14.0 in /usr/local/lib/python3.7/dist-packages (from lenstronomy) (1.4.1)\n",
      "Collecting configparser\n",
      "  Downloading https://files.pythonhosted.org/packages/fd/01/ff260a18caaf4457eb028c96eeb405c4a230ca06c8ec9c1379f813caa52e/configparser-5.0.2-py3-none-any.whl\n",
      "Building wheels for collected packages: lenstronomy\n",
      "  Building wheel for lenstronomy (setup.py) ... \u001b[?25l\u001b[?25hdone\n",
      "  Created wheel for lenstronomy: filename=lenstronomy-1.8.0-cp37-none-any.whl size=706874 sha256=f463a7a36686bf0b0807e775123196c7697c74391be2bd7cd014b297ba3de831\n",
      "  Stored in directory: /root/.cache/pip/wheels/46/ee/45/371a648f18f6fdd440b3dc7468e2563d884a868f67856d603e\n",
      "Successfully built lenstronomy\n",
      "Installing collected packages: configparser, lenstronomy\n",
      "Successfully installed configparser-5.0.2 lenstronomy-1.8.0\n",
      "Collecting deeplenstronomy\n",
      "\u001b[?25l  Downloading https://files.pythonhosted.org/packages/97/08/34ab30f7cf91ec693839c8acfd8627368d21591c7af7b2b7809092b0650e/deeplenstronomy-0.0.1.6-py2.py3-none-any.whl (53kB)\n",
      "\u001b[K     |████████████████████████████████| 61kB 3.2MB/s \n",
      "\u001b[?25hCollecting future>=0.18.2\n",
      "\u001b[?25l  Downloading https://files.pythonhosted.org/packages/45/0b/38b06fd9b92dc2b68d58b75f900e97884c45bedd2ff83203d933cf5851c9/future-0.18.2.tar.gz (829kB)\n",
      "\u001b[K     |████████████████████████████████| 829kB 7.7MB/s \n",
      "\u001b[?25hRequirement already satisfied: mpmath>=1.1.0 in /usr/local/lib/python3.7/dist-packages (from deeplenstronomy) (1.2.1)\n",
      "Requirement already satisfied: wheel>=0.22 in /usr/local/lib/python3.7/dist-packages (from deeplenstronomy) (0.36.2)\n",
      "Requirement already satisfied: lenstronomy>=1.6.0 in /usr/local/lib/python3.7/dist-packages (from deeplenstronomy) (1.8.0)\n",
      "Requirement already satisfied: pandas>=1.1.2 in /usr/local/lib/python3.7/dist-packages (from deeplenstronomy) (1.1.5)\n",
      "Requirement already satisfied: numpy>=1.19.1 in /usr/local/lib/python3.7/dist-packages (from deeplenstronomy) (1.19.5)\n",
      "Collecting scipy>=1.5.2\n",
      "\u001b[?25l  Downloading https://files.pythonhosted.org/packages/75/91/ee427c42957f8c4cbe477bf4f8b7f608e003a17941e509d1777e58648cb3/scipy-1.6.2-cp37-cp37m-manylinux1_x86_64.whl (27.4MB)\n",
      "\u001b[K     |████████████████████████████████| 27.4MB 141kB/s \n",
      "\u001b[?25hCollecting pyyaml>=5.3.1\n",
      "\u001b[?25l  Downloading https://files.pythonhosted.org/packages/7a/a5/393c087efdc78091afa2af9f1378762f9821c9c1d7a22c5753fb5ac5f97a/PyYAML-5.4.1-cp37-cp37m-manylinux1_x86_64.whl (636kB)\n",
      "\u001b[K     |████████████████████████████████| 645kB 36.0MB/s \n",
      "\u001b[?25hRequirement already satisfied: astropy>=4.0.1.post1 in /usr/local/lib/python3.7/dist-packages (from deeplenstronomy) (4.2)\n",
      "Collecting matplotlib>=3.3.2\n",
      "\u001b[?25l  Downloading https://files.pythonhosted.org/packages/23/3d/db9a6b3c83c9511301152dbb64a029c3a4313c86eaef12c237b13ecf91d6/matplotlib-3.3.4-cp37-cp37m-manylinux1_x86_64.whl (11.5MB)\n",
      "\u001b[K     |████████████████████████████████| 11.6MB 31.5MB/s \n",
      "\u001b[?25hRequirement already satisfied: h5py>=2.10.0 in /usr/local/lib/python3.7/dist-packages (from deeplenstronomy) (2.10.0)\n",
      "Requirement already satisfied: configparser in /usr/local/lib/python3.7/dist-packages (from lenstronomy>=1.6.0->deeplenstronomy) (5.0.2)\n",
      "Requirement already satisfied: pytz>=2017.2 in /usr/local/lib/python3.7/dist-packages (from pandas>=1.1.2->deeplenstronomy) (2018.9)\n",
      "Requirement already satisfied: python-dateutil>=2.7.3 in /usr/local/lib/python3.7/dist-packages (from pandas>=1.1.2->deeplenstronomy) (2.8.1)\n",
      "Requirement already satisfied: pyerfa in /usr/local/lib/python3.7/dist-packages (from astropy>=4.0.1.post1->deeplenstronomy) (1.7.2)\n",
      "Requirement already satisfied: pyparsing!=2.0.4,!=2.1.2,!=2.1.6,>=2.0.3 in /usr/local/lib/python3.7/dist-packages (from matplotlib>=3.3.2->deeplenstronomy) (2.4.7)\n",
      "Requirement already satisfied: cycler>=0.10 in /usr/local/lib/python3.7/dist-packages (from matplotlib>=3.3.2->deeplenstronomy) (0.10.0)\n",
      "Requirement already satisfied: pillow>=6.2.0 in /usr/local/lib/python3.7/dist-packages (from matplotlib>=3.3.2->deeplenstronomy) (7.0.0)\n",
      "Requirement already satisfied: kiwisolver>=1.0.1 in /usr/local/lib/python3.7/dist-packages (from matplotlib>=3.3.2->deeplenstronomy) (1.3.1)\n",
      "Requirement already satisfied: six in /usr/local/lib/python3.7/dist-packages (from h5py>=2.10.0->deeplenstronomy) (1.15.0)\n",
      "Building wheels for collected packages: future\n",
      "  Building wheel for future (setup.py) ... \u001b[?25l\u001b[?25hdone\n",
      "  Created wheel for future: filename=future-0.18.2-cp37-none-any.whl size=491058 sha256=6c3508235b6e59b0013e8f882525b78e80e6f980f225382310fc29ffb474ce01\n",
      "  Stored in directory: /root/.cache/pip/wheels/8b/99/a0/81daf51dcd359a9377b110a8a886b3895921802d2fc1b2397e\n",
      "Successfully built future\n",
      "\u001b[31mERROR: albumentations 0.1.12 has requirement imgaug<0.2.7,>=0.2.5, but you'll have imgaug 0.2.9 which is incompatible.\u001b[0m\n",
      "Installing collected packages: future, scipy, pyyaml, matplotlib, deeplenstronomy\n",
      "  Found existing installation: future 0.16.0\n",
      "    Uninstalling future-0.16.0:\n",
      "      Successfully uninstalled future-0.16.0\n",
      "  Found existing installation: scipy 1.4.1\n",
      "    Uninstalling scipy-1.4.1:\n",
      "      Successfully uninstalled scipy-1.4.1\n",
      "  Found existing installation: PyYAML 3.13\n",
      "    Uninstalling PyYAML-3.13:\n",
      "      Successfully uninstalled PyYAML-3.13\n",
      "  Found existing installation: matplotlib 3.2.2\n",
      "    Uninstalling matplotlib-3.2.2:\n",
      "      Successfully uninstalled matplotlib-3.2.2\n",
      "Successfully installed deeplenstronomy-0.0.1.6 future-0.18.2 matplotlib-3.3.4 pyyaml-5.4.1 scipy-1.6.2\n"
     ]
    },
    {
     "data": {
      "application/vnd.colab-display-data+json": {
       "pip_warning": {
        "packages": [
         "matplotlib",
         "mpl_toolkits"
        ]
       }
      }
     },
     "metadata": {
      "tags": []
     },
     "output_type": "display_data"
    },
    {
     "name": "stdout",
     "output_type": "stream",
     "text": [
      "Requirement already satisfied: h5py in /usr/local/lib/python3.7/dist-packages (2.10.0)\n",
      "Requirement already satisfied: numpy>=1.7 in /usr/local/lib/python3.7/dist-packages (from h5py) (1.19.5)\n",
      "Requirement already satisfied: six in /usr/local/lib/python3.7/dist-packages (from h5py) (1.15.0)\n",
      "Collecting matplotlib==3.1.3\n",
      "\u001b[?25l  Downloading https://files.pythonhosted.org/packages/4c/9b/35ab3469fd1509f7636a344940569ebfd33239673fd2318e80b4700a257c/matplotlib-3.1.3-cp37-cp37m-manylinux1_x86_64.whl (13.1MB)\n",
      "\u001b[K     |████████████████████████████████| 13.1MB 338kB/s \n",
      "\u001b[?25hRequirement already satisfied: pyparsing!=2.0.4,!=2.1.2,!=2.1.6,>=2.0.1 in /usr/local/lib/python3.7/dist-packages (from matplotlib==3.1.3) (2.4.7)\n",
      "Requirement already satisfied: python-dateutil>=2.1 in /usr/local/lib/python3.7/dist-packages (from matplotlib==3.1.3) (2.8.1)\n",
      "Requirement already satisfied: kiwisolver>=1.0.1 in /usr/local/lib/python3.7/dist-packages (from matplotlib==3.1.3) (1.3.1)\n",
      "Requirement already satisfied: cycler>=0.10 in /usr/local/lib/python3.7/dist-packages (from matplotlib==3.1.3) (0.10.0)\n",
      "Requirement already satisfied: numpy>=1.11 in /usr/local/lib/python3.7/dist-packages (from matplotlib==3.1.3) (1.19.5)\n",
      "Requirement already satisfied: six>=1.5 in /usr/local/lib/python3.7/dist-packages (from python-dateutil>=2.1->matplotlib==3.1.3) (1.15.0)\n",
      "\u001b[31mERROR: deeplenstronomy 0.0.1.6 has requirement matplotlib>=3.3.2, but you'll have matplotlib 3.1.3 which is incompatible.\u001b[0m\n",
      "\u001b[31mERROR: albumentations 0.1.12 has requirement imgaug<0.2.7,>=0.2.5, but you'll have imgaug 0.2.9 which is incompatible.\u001b[0m\n",
      "Installing collected packages: matplotlib\n",
      "  Found existing installation: matplotlib 3.3.4\n",
      "    Uninstalling matplotlib-3.3.4:\n",
      "      Successfully uninstalled matplotlib-3.3.4\n",
      "Successfully installed matplotlib-3.1.3\n"
     ]
    },
    {
     "data": {
      "application/vnd.colab-display-data+json": {
       "pip_warning": {
        "packages": [
         "matplotlib",
         "mpl_toolkits"
        ]
       }
      }
     },
     "metadata": {
      "tags": []
     },
     "output_type": "display_data"
    },
    {
     "name": "stdout",
     "output_type": "stream",
     "text": [
      "Collecting tables\n",
      "\u001b[?25l  Downloading https://files.pythonhosted.org/packages/0f/cb/4097be890a773af95343389faa8c283b0d9ff606f144227a548461dcbdd5/tables-3.6.1-cp37-cp37m-manylinux1_x86_64.whl (4.3MB)\n",
      "\u001b[K     |████████████████████████████████| 4.3MB 4.4MB/s \n",
      "\u001b[?25hRequirement already satisfied, skipping upgrade: numexpr>=2.6.2 in /usr/local/lib/python3.7/dist-packages (from tables) (2.7.3)\n",
      "Requirement already satisfied, skipping upgrade: numpy>=1.9.3 in /usr/local/lib/python3.7/dist-packages (from tables) (1.19.5)\n",
      "Installing collected packages: tables\n",
      "  Found existing installation: tables 3.4.4\n",
      "    Uninstalling tables-3.4.4:\n",
      "      Successfully uninstalled tables-3.4.4\n",
      "Successfully installed tables-3.6.1\n"
     ]
    }
   ],
   "source": [
    "!pip3 install lenstronomy\n",
    "!pip3 install deeplenstronomy\n",
    "!pip install h5py\n",
    "!pip install matplotlib==3.1.3\n",
    "!pip install --upgrade tables"
   ]
  },
  {
   "cell_type": "code",
   "execution_count": 3,
   "metadata": {
    "colab": {
     "base_uri": "https://localhost:8080/"
    },
    "executionInfo": {
     "elapsed": 96034,
     "status": "ok",
     "timestamp": 1616661835081,
     "user": {
      "displayName": "Emma Hoggett",
      "photoUrl": "https://lh3.googleusercontent.com/a-/AOh14GgPUKVC2O_DRFGM99OSkYdh6iVTYJzQEqnz8pVc7A=s64",
      "userId": "15046273628982635449"
     },
     "user_tz": -60
    },
    "id": "4yOrZKW08z4P",
    "outputId": "41005b3e-ef93-4cae-eaba-f28e986ec381"
   },
   "outputs": [
    {
     "name": "stdout",
     "output_type": "stream",
     "text": [
      "Reading package lists... Done\n",
      "Building dependency tree       \n",
      "Reading state information... Done\n",
      "gfortran is already the newest version (4:7.4.0-1ubuntu2.3).\n",
      "0 upgraded, 0 newly installed, 0 to remove and 30 not upgraded.\n",
      "/content/drive/MyDrive/Colab Notebooks/deeplens/fastell4py\n",
      "\u001b[39mrunning install\u001b[0m\n",
      "\u001b[39mrunning bdist_egg\u001b[0m\n",
      "\u001b[39mrunning egg_info\u001b[0m\n",
      "\u001b[39mrunning build_src\u001b[0m\n",
      "\u001b[39mbuild_src\u001b[0m\n",
      "\u001b[39mbuilding extension \"fastell4py._fastell\" sources\u001b[0m\n",
      "\u001b[39mf2py options: []\u001b[0m\n",
      "\u001b[39m  adding 'build/src.linux-x86_64-3.7/build/src.linux-x86_64-3.7/fortranobject.c' to sources.\u001b[0m\n",
      "\u001b[39m  adding 'build/src.linux-x86_64-3.7/build/src.linux-x86_64-3.7' to include_dirs.\u001b[0m\n",
      "\u001b[39m  adding 'build/src.linux-x86_64-3.7/_fastell-f2pywrappers.f' to sources.\u001b[0m\n",
      "\u001b[39mbuild_src: building npy-pkg config files\u001b[0m\n",
      "\u001b[39mwriting fastell4py.egg-info/PKG-INFO\u001b[0m\n",
      "\u001b[39mwriting dependency_links to fastell4py.egg-info/dependency_links.txt\u001b[0m\n",
      "\u001b[39mwriting namespace_packages to fastell4py.egg-info/namespace_packages.txt\u001b[0m\n",
      "\u001b[39mwriting requirements to fastell4py.egg-info/requires.txt\u001b[0m\n",
      "\u001b[39mwriting top-level names to fastell4py.egg-info/top_level.txt\u001b[0m\n",
      "\u001b[39mreading manifest template 'MANIFEST.in'\u001b[0m\n",
      "\u001b[39mwriting manifest file 'fastell4py.egg-info/SOURCES.txt'\u001b[0m\n",
      "\u001b[39minstalling library code to build/bdist.linux-x86_64/egg\u001b[0m\n",
      "\u001b[39mrunning install_lib\u001b[0m\n",
      "\u001b[39mrunning build_py\u001b[0m\n",
      "\u001b[39mrunning build_ext\u001b[0m\n",
      "\u001b[39mcustomize UnixCCompiler\u001b[0m\n",
      "\u001b[39mcustomize UnixCCompiler using build_ext\u001b[0m\n",
      "\u001b[39mget_default_fcompiler: matching types: '['gnu95', 'intel', 'lahey', 'pg', 'nv', 'absoft', 'nag', 'vast', 'compaq', 'intele', 'intelem', 'gnu', 'g95', 'pathf95', 'nagfor']'\u001b[0m\n",
      "\u001b[39mcustomize Gnu95FCompiler\u001b[0m\n",
      "\u001b[39mFound executable /usr/bin/gfortran\u001b[0m\n",
      "\u001b[39mcustomize Gnu95FCompiler\u001b[0m\n",
      "\u001b[39mcustomize Gnu95FCompiler using build_ext\u001b[0m\n",
      "\u001b[39mcreating build/bdist.linux-x86_64/egg\u001b[0m\n",
      "\u001b[39mcreating build/bdist.linux-x86_64/egg/fastell4py\u001b[0m\n",
      "\u001b[39mcopying build/lib.linux-x86_64-3.7/fastell4py/fastell4py.py -> build/bdist.linux-x86_64/egg/fastell4py\u001b[0m\n",
      "\u001b[39mcopying build/lib.linux-x86_64-3.7/fastell4py/__init__.py -> build/bdist.linux-x86_64/egg/fastell4py\u001b[0m\n",
      "\u001b[39mcopying build/lib.linux-x86_64-3.7/fastell4py/_fastell.cpython-37m-x86_64-linux-gnu.so -> build/bdist.linux-x86_64/egg/fastell4py\u001b[0m\n",
      "\u001b[39mcreating build/bdist.linux-x86_64/egg/test\u001b[0m\n",
      "\u001b[39mcopying build/lib.linux-x86_64-3.7/test/test_fastell4py.py -> build/bdist.linux-x86_64/egg/test\u001b[0m\n",
      "\u001b[39mcopying build/lib.linux-x86_64-3.7/test/__init__.py -> build/bdist.linux-x86_64/egg/test\u001b[0m\n",
      "\u001b[39mbyte-compiling build/bdist.linux-x86_64/egg/fastell4py/fastell4py.py to fastell4py.cpython-37.pyc\u001b[0m\n",
      "\u001b[39mbyte-compiling build/bdist.linux-x86_64/egg/fastell4py/__init__.py to __init__.cpython-37.pyc\u001b[0m\n",
      "\u001b[39mbyte-compiling build/bdist.linux-x86_64/egg/test/test_fastell4py.py to test_fastell4py.cpython-37.pyc\u001b[0m\n",
      "\u001b[39mbyte-compiling build/bdist.linux-x86_64/egg/test/__init__.py to __init__.cpython-37.pyc\u001b[0m\n",
      "\u001b[39mcreating stub loader for fastell4py/_fastell.cpython-37m-x86_64-linux-gnu.so\u001b[0m\n",
      "\u001b[39mbyte-compiling build/bdist.linux-x86_64/egg/fastell4py/_fastell.py to _fastell.cpython-37.pyc\u001b[0m\n",
      "\u001b[39mcreating build/bdist.linux-x86_64/egg/EGG-INFO\u001b[0m\n",
      "\u001b[39mcopying fastell4py.egg-info/PKG-INFO -> build/bdist.linux-x86_64/egg/EGG-INFO\u001b[0m\n",
      "\u001b[39mcopying fastell4py.egg-info/SOURCES.txt -> build/bdist.linux-x86_64/egg/EGG-INFO\u001b[0m\n",
      "\u001b[39mcopying fastell4py.egg-info/dependency_links.txt -> build/bdist.linux-x86_64/egg/EGG-INFO\u001b[0m\n",
      "\u001b[39mcopying fastell4py.egg-info/namespace_packages.txt -> build/bdist.linux-x86_64/egg/EGG-INFO\u001b[0m\n",
      "\u001b[39mcopying fastell4py.egg-info/not-zip-safe -> build/bdist.linux-x86_64/egg/EGG-INFO\u001b[0m\n",
      "\u001b[39mcopying fastell4py.egg-info/requires.txt -> build/bdist.linux-x86_64/egg/EGG-INFO\u001b[0m\n",
      "\u001b[39mcopying fastell4py.egg-info/top_level.txt -> build/bdist.linux-x86_64/egg/EGG-INFO\u001b[0m\n",
      "\u001b[39mwriting build/bdist.linux-x86_64/egg/EGG-INFO/native_libs.txt\u001b[0m\n",
      "\u001b[39mcreating 'dist/fastell4py-0.1.0-py3.7-linux-x86_64.egg' and adding 'build/bdist.linux-x86_64/egg' to it\u001b[0m\n",
      "\u001b[39mremoving 'build/bdist.linux-x86_64/egg' (and everything under it)\u001b[0m\n",
      "\u001b[39mProcessing fastell4py-0.1.0-py3.7-linux-x86_64.egg\u001b[0m\n",
      "\u001b[39mcreating /usr/local/lib/python3.7/dist-packages/fastell4py-0.1.0-py3.7-linux-x86_64.egg\u001b[0m\n",
      "\u001b[39mExtracting fastell4py-0.1.0-py3.7-linux-x86_64.egg to /usr/local/lib/python3.7/dist-packages\u001b[0m\n",
      "\u001b[39mAdding fastell4py 0.1.0 to easy-install.pth file\u001b[0m\n",
      "\u001b[39m\n",
      "Installed /usr/local/lib/python3.7/dist-packages/fastell4py-0.1.0-py3.7-linux-x86_64.egg\u001b[0m\n",
      "\u001b[39mProcessing dependencies for fastell4py==0.1.0\u001b[0m\n",
      "\u001b[39mSearching for numpy==1.19.5\u001b[0m\n",
      "\u001b[39mBest match: numpy 1.19.5\u001b[0m\n",
      "\u001b[39mAdding numpy 1.19.5 to easy-install.pth file\u001b[0m\n",
      "\u001b[39mInstalling f2py script to /usr/local/bin\u001b[0m\n",
      "\u001b[39mInstalling f2py3 script to /usr/local/bin\u001b[0m\n",
      "\u001b[39mInstalling f2py3.7 script to /usr/local/bin\u001b[0m\n",
      "\u001b[39m\n",
      "Using /usr/local/lib/python3.7/dist-packages\u001b[0m\n",
      "\u001b[39mFinished processing dependencies for fastell4py==0.1.0\u001b[0m\n",
      "/root\n"
     ]
    }
   ],
   "source": [
    "!sudo apt-get install gfortran\n",
    "%cd  drive/MyDrive/'Colab Notebooks'/deeplens/fastell4py/\n",
    "! python setup.py install\n",
    "%cd"
   ]
  },
  {
   "cell_type": "code",
   "execution_count": 28,
   "metadata": {
    "executionInfo": {
     "elapsed": 97477,
     "status": "ok",
     "timestamp": 1616661837806,
     "user": {
      "displayName": "Emma Hoggett",
      "photoUrl": "https://lh3.googleusercontent.com/a-/AOh14GgPUKVC2O_DRFGM99OSkYdh6iVTYJzQEqnz8pVc7A=s64",
      "userId": "15046273628982635449"
     },
     "user_tz": -60
    },
    "id": "2q0S_Eru6_Vm"
   },
   "outputs": [],
   "source": [
    "import numpy as np\n",
    "import pandas as pd\n",
    "\n",
    "import deeplenstronomy.deeplenstronomy as dl\n",
    "from deeplenstronomy.visualize import view_image\n",
    "from helpers import*\n",
    "from deeplenshelpers import*"
   ]
  },
  {
   "cell_type": "code",
   "execution_count": 31,
   "metadata": {
    "id": "NlSbVFPi6_Vr"
   },
   "outputs": [],
   "source": [
    "config_file_name = 'data/configFile/config_model1.yaml' # name of your file\n",
    "dataset = dl.make_dataset(config_file_name)"
   ]
  },
  {
   "cell_type": "code",
   "execution_count": 30,
   "metadata": {},
   "outputs": [
    {
     "data": {
      "text/plain": [
       "Index(['OBJID-WFC3_F160W', 'H0-WFC3_F160W', 'Om0-WFC3_F160W',\n",
       "       'exposure_time-WFC3_F160W', 'numPix-WFC3_F160W',\n",
       "       'pixel_scale-WFC3_F160W', 'psf_type-WFC3_F160W',\n",
       "       'read_noise-WFC3_F160W', 'ccd_gain-WFC3_F160W', 'seeing-WFC3_F160W',\n",
       "       'magnitude_zero_point-WFC3_F160W', 'sky_brightness-WFC3_F160W',\n",
       "       'num_exposures-WFC3_F160W', 'NUMBER_OF_NOISE_SOURCES-WFC3_F160W',\n",
       "       'CONFIGURATION_LABEL-WFC3_F160W', 'CONFIGURATION_NAME-WFC3_F160W',\n",
       "       'NUMBER_OF_PLANES-WFC3_F160W', 'PLANE_1-NUMBER_OF_OBJECTS-WFC3_F160W',\n",
       "       'PLANE_1-OBJECT_1-NAME-WFC3_F160W',\n",
       "       'PLANE_2-NUMBER_OF_OBJECTS-WFC3_F160W',\n",
       "       'PLANE_2-OBJECT_1-NAME-WFC3_F160W',\n",
       "       'PLANE_1-OBJECT_1-REDSHIFT-WFC3_F160W',\n",
       "       'PLANE_1-OBJECT_1-NUMBER_OF_LIGHT_PROFILES-WFC3_F160W',\n",
       "       'PLANE_1-OBJECT_1-NUMBER_OF_SHEAR_PROFILES-WFC3_F160W',\n",
       "       'PLANE_1-OBJECT_1-NUMBER_OF_MASS_PROFILES-WFC3_F160W',\n",
       "       'PLANE_1-OBJECT_1-HOST-WFC3_F160W',\n",
       "       'PLANE_1-OBJECT_1-LIGHT_PROFILE_1-NAME-WFC3_F160W',\n",
       "       'PLANE_1-OBJECT_1-LIGHT_PROFILE_1-magnitude-WFC3_F160W',\n",
       "       'PLANE_1-OBJECT_1-LIGHT_PROFILE_1-center_x-WFC3_F160W',\n",
       "       'PLANE_1-OBJECT_1-LIGHT_PROFILE_1-center_y-WFC3_F160W',\n",
       "       'PLANE_1-OBJECT_1-LIGHT_PROFILE_1-R_sersic-WFC3_F160W',\n",
       "       'PLANE_1-OBJECT_1-LIGHT_PROFILE_1-n_sersic-WFC3_F160W',\n",
       "       'PLANE_1-OBJECT_1-LIGHT_PROFILE_1-e1-WFC3_F160W',\n",
       "       'PLANE_1-OBJECT_1-LIGHT_PROFILE_1-e2-WFC3_F160W',\n",
       "       'PLANE_1-OBJECT_1-MASS_PROFILE_1-NAME-WFC3_F160W',\n",
       "       'PLANE_1-OBJECT_1-MASS_PROFILE_1-theta_E-WFC3_F160W',\n",
       "       'PLANE_1-OBJECT_1-MASS_PROFILE_1-e1-WFC3_F160W',\n",
       "       'PLANE_1-OBJECT_1-MASS_PROFILE_1-e2-WFC3_F160W',\n",
       "       'PLANE_1-OBJECT_1-MASS_PROFILE_1-center_x-WFC3_F160W',\n",
       "       'PLANE_1-OBJECT_1-MASS_PROFILE_1-center_y-WFC3_F160W',\n",
       "       'PLANE_2-OBJECT_1-REDSHIFT-WFC3_F160W',\n",
       "       'PLANE_2-OBJECT_1-NUMBER_OF_LIGHT_PROFILES-WFC3_F160W',\n",
       "       'PLANE_2-OBJECT_1-NUMBER_OF_SHEAR_PROFILES-WFC3_F160W',\n",
       "       'PLANE_2-OBJECT_1-NUMBER_OF_MASS_PROFILES-WFC3_F160W',\n",
       "       'PLANE_2-OBJECT_1-HOST-WFC3_F160W',\n",
       "       'PLANE_2-OBJECT_1-LIGHT_PROFILE_1-NAME-WFC3_F160W',\n",
       "       'PLANE_2-OBJECT_1-LIGHT_PROFILE_1-magnitude-WFC3_F160W',\n",
       "       'PLANE_2-OBJECT_1-LIGHT_PROFILE_1-center_x-WFC3_F160W',\n",
       "       'PLANE_2-OBJECT_1-LIGHT_PROFILE_1-center_y-WFC3_F160W',\n",
       "       'PLANE_2-OBJECT_1-LIGHT_PROFILE_1-R_sersic-WFC3_F160W',\n",
       "       'PLANE_2-OBJECT_1-LIGHT_PROFILE_1-n_sersic-WFC3_F160W',\n",
       "       'PLANE_2-OBJECT_1-LIGHT_PROFILE_1-e1-WFC3_F160W',\n",
       "       'PLANE_2-OBJECT_1-LIGHT_PROFILE_1-e2-WFC3_F160W',\n",
       "       'BACKGROUND_IDX-WFC3_F160W', 'PLANE_1-REDSHIFT-WFC3_F160W',\n",
       "       'PLANE_2-REDSHIFT-WFC3_F160W'],\n",
       "      dtype='object')"
      ]
     },
     "execution_count": 30,
     "metadata": {},
     "output_type": "execute_result"
    }
   ],
   "source": [
    "dataset.CONFIGURATION_1_metadata.columns\n"
   ]
  },
  {
   "cell_type": "code",
   "execution_count": 27,
   "metadata": {
    "colab": {
     "base_uri": "https://localhost:8080/",
     "height": 335
    },
    "executionInfo": {
     "elapsed": 1622,
     "status": "ok",
     "timestamp": 1615889206850,
     "user": {
      "displayName": "Emma Hoggett",
      "photoUrl": "https://lh3.googleusercontent.com/a-/AOh14GgPUKVC2O_DRFGM99OSkYdh6iVTYJzQEqnz8pVc7A=s64",
      "userId": "15046273628982635449"
     },
     "user_tz": -60
    },
    "id": "3kjlNqCkjGGs",
    "outputId": "7abadf7f-b130-44f2-aa84-885ace452fde"
   },
   "outputs": [
    {
     "ename": "KeyError",
     "evalue": "\"['OBJID-g' 'H0-g' 'Om0-g' 'exposure_time-g' 'numPix-g' 'pixel_scale-g'\\n 'psf_type-g' 'read_noise-g' 'ccd_gain-g' 'seeing-g'\\n 'magnitude_zero_point-g' 'sky_brightness-g' 'num_exposures-g'\\n 'NUMBER_OF_NOISE_SOURCES-g' 'CONFIGURATION_LABEL-g'\\n 'CONFIGURATION_NAME-g' 'NUMBER_OF_PLANES-g' 'PLANE_1-NUMBER_OF_OBJECTS-g'\\n 'PLANE_1-OBJECT_1-NAME-g' 'PLANE_2-NUMBER_OF_OBJECTS-g'\\n 'PLANE_2-OBJECT_1-NAME-g' 'PLANE_1-OBJECT_1-REDSHIFT-g'\\n 'PLANE_1-OBJECT_1-NUMBER_OF_LIGHT_PROFILES-g'\\n 'PLANE_1-OBJECT_1-NUMBER_OF_SHEAR_PROFILES-g'\\n 'PLANE_1-OBJECT_1-NUMBER_OF_MASS_PROFILES-g' 'PLANE_1-OBJECT_1-HOST-g'\\n 'PLANE_1-OBJECT_1-LIGHT_PROFILE_1-NAME-g'\\n 'PLANE_1-OBJECT_1-LIGHT_PROFILE_1-magnitude-g'\\n 'PLANE_1-OBJECT_1-LIGHT_PROFILE_1-center_x-g'\\n 'PLANE_1-OBJECT_1-LIGHT_PROFILE_1-center_y-g'\\n 'PLANE_2-OBJECT_1-REDSHIFT-g'\\n 'PLANE_2-OBJECT_1-NUMBER_OF_LIGHT_PROFILES-g'\\n 'PLANE_2-OBJECT_1-NUMBER_OF_SHEAR_PROFILES-g'\\n 'PLANE_2-OBJECT_1-NUMBER_OF_MASS_PROFILES-g' 'PLANE_2-OBJECT_1-HOST-g'\\n 'PLANE_1-OBJECT_1-MASS_PROFILE_1-center_x-g'\\n 'PLANE_1-OBJECT_1-MASS_PROFILE_1-center_y-g'\\n 'PLANE_2-OBJECT_1-LIGHT_PROFILE_1-NAME-g'\\n 'PLANE_2-OBJECT_1-LIGHT_PROFILE_1-magnitude-g'\\n 'PLANE_2-OBJECT_1-LIGHT_PROFILE_1-center_x-g'\\n 'PLANE_2-OBJECT_1-LIGHT_PROFILE_1-center_y-g' 'BACKGROUND_IDX-g'\\n 'PLANE_1-REDSHIFT-g' 'PLANE_2-REDSHIFT-g'\\n 'PLANE_1-OBJECT_1-LIGHT_PROFILE_1-R_sersic-g'\\n 'PLANE_1-OBJECT_1-LIGHT_PROFILE_1-n_sersic-g'\\n 'PLANE_1-OBJECT_1-LIGHT_PROFILE_1-e1-g'\\n 'PLANE_1-OBJECT_1-LIGHT_PROFILE_1-e2-g'\\n 'PLANE_1-OBJECT_1-MASS_PROFILE_1-NAME-g'] not found in axis\"",
     "output_type": "error",
     "traceback": [
      "\u001b[0;31m---------------------------------------------------------------------------\u001b[0m",
      "\u001b[0;31mKeyError\u001b[0m                                  Traceback (most recent call last)",
      "\u001b[0;32m<ipython-input-27-24adbad6f497>\u001b[0m in \u001b[0;36m<module>\u001b[0;34m\u001b[0m\n\u001b[0;32m----> 1\u001b[0;31m \u001b[0mdataset\u001b[0m\u001b[0;34m.\u001b[0m\u001b[0mCONFIGURATION_1_metadata\u001b[0m\u001b[0;34m.\u001b[0m\u001b[0mdrop\u001b[0m\u001b[0;34m(\u001b[0m\u001b[0mcol_drop\u001b[0m\u001b[0;34m,\u001b[0m\u001b[0maxis\u001b[0m\u001b[0;34m=\u001b[0m\u001b[0;36m1\u001b[0m\u001b[0;34m)\u001b[0m\u001b[0;34m\u001b[0m\u001b[0;34m\u001b[0m\u001b[0m\n\u001b[0m",
      "\u001b[0;32m~/anaconda3/envs/deeplens/lib/python3.7/site-packages/pandas/core/frame.py\u001b[0m in \u001b[0;36mdrop\u001b[0;34m(self, labels, axis, index, columns, level, inplace, errors)\u001b[0m\n\u001b[1;32m   4310\u001b[0m             \u001b[0mlevel\u001b[0m\u001b[0;34m=\u001b[0m\u001b[0mlevel\u001b[0m\u001b[0;34m,\u001b[0m\u001b[0;34m\u001b[0m\u001b[0;34m\u001b[0m\u001b[0m\n\u001b[1;32m   4311\u001b[0m             \u001b[0minplace\u001b[0m\u001b[0;34m=\u001b[0m\u001b[0minplace\u001b[0m\u001b[0;34m,\u001b[0m\u001b[0;34m\u001b[0m\u001b[0;34m\u001b[0m\u001b[0m\n\u001b[0;32m-> 4312\u001b[0;31m             \u001b[0merrors\u001b[0m\u001b[0;34m=\u001b[0m\u001b[0merrors\u001b[0m\u001b[0;34m,\u001b[0m\u001b[0;34m\u001b[0m\u001b[0;34m\u001b[0m\u001b[0m\n\u001b[0m\u001b[1;32m   4313\u001b[0m         )\n\u001b[1;32m   4314\u001b[0m \u001b[0;34m\u001b[0m\u001b[0m\n",
      "\u001b[0;32m~/anaconda3/envs/deeplens/lib/python3.7/site-packages/pandas/core/generic.py\u001b[0m in \u001b[0;36mdrop\u001b[0;34m(self, labels, axis, index, columns, level, inplace, errors)\u001b[0m\n\u001b[1;32m   4150\u001b[0m         \u001b[0;32mfor\u001b[0m \u001b[0maxis\u001b[0m\u001b[0;34m,\u001b[0m \u001b[0mlabels\u001b[0m \u001b[0;32min\u001b[0m \u001b[0maxes\u001b[0m\u001b[0;34m.\u001b[0m\u001b[0mitems\u001b[0m\u001b[0;34m(\u001b[0m\u001b[0;34m)\u001b[0m\u001b[0;34m:\u001b[0m\u001b[0;34m\u001b[0m\u001b[0;34m\u001b[0m\u001b[0m\n\u001b[1;32m   4151\u001b[0m             \u001b[0;32mif\u001b[0m \u001b[0mlabels\u001b[0m \u001b[0;32mis\u001b[0m \u001b[0;32mnot\u001b[0m \u001b[0;32mNone\u001b[0m\u001b[0;34m:\u001b[0m\u001b[0;34m\u001b[0m\u001b[0;34m\u001b[0m\u001b[0m\n\u001b[0;32m-> 4152\u001b[0;31m                 \u001b[0mobj\u001b[0m \u001b[0;34m=\u001b[0m \u001b[0mobj\u001b[0m\u001b[0;34m.\u001b[0m\u001b[0m_drop_axis\u001b[0m\u001b[0;34m(\u001b[0m\u001b[0mlabels\u001b[0m\u001b[0;34m,\u001b[0m \u001b[0maxis\u001b[0m\u001b[0;34m,\u001b[0m \u001b[0mlevel\u001b[0m\u001b[0;34m=\u001b[0m\u001b[0mlevel\u001b[0m\u001b[0;34m,\u001b[0m \u001b[0merrors\u001b[0m\u001b[0;34m=\u001b[0m\u001b[0merrors\u001b[0m\u001b[0;34m)\u001b[0m\u001b[0;34m\u001b[0m\u001b[0;34m\u001b[0m\u001b[0m\n\u001b[0m\u001b[1;32m   4153\u001b[0m \u001b[0;34m\u001b[0m\u001b[0m\n\u001b[1;32m   4154\u001b[0m         \u001b[0;32mif\u001b[0m \u001b[0minplace\u001b[0m\u001b[0;34m:\u001b[0m\u001b[0;34m\u001b[0m\u001b[0;34m\u001b[0m\u001b[0m\n",
      "\u001b[0;32m~/anaconda3/envs/deeplens/lib/python3.7/site-packages/pandas/core/generic.py\u001b[0m in \u001b[0;36m_drop_axis\u001b[0;34m(self, labels, axis, level, errors)\u001b[0m\n\u001b[1;32m   4185\u001b[0m                 \u001b[0mnew_axis\u001b[0m \u001b[0;34m=\u001b[0m \u001b[0maxis\u001b[0m\u001b[0;34m.\u001b[0m\u001b[0mdrop\u001b[0m\u001b[0;34m(\u001b[0m\u001b[0mlabels\u001b[0m\u001b[0;34m,\u001b[0m \u001b[0mlevel\u001b[0m\u001b[0;34m=\u001b[0m\u001b[0mlevel\u001b[0m\u001b[0;34m,\u001b[0m \u001b[0merrors\u001b[0m\u001b[0;34m=\u001b[0m\u001b[0merrors\u001b[0m\u001b[0;34m)\u001b[0m\u001b[0;34m\u001b[0m\u001b[0;34m\u001b[0m\u001b[0m\n\u001b[1;32m   4186\u001b[0m             \u001b[0;32melse\u001b[0m\u001b[0;34m:\u001b[0m\u001b[0;34m\u001b[0m\u001b[0;34m\u001b[0m\u001b[0m\n\u001b[0;32m-> 4187\u001b[0;31m                 \u001b[0mnew_axis\u001b[0m \u001b[0;34m=\u001b[0m \u001b[0maxis\u001b[0m\u001b[0;34m.\u001b[0m\u001b[0mdrop\u001b[0m\u001b[0;34m(\u001b[0m\u001b[0mlabels\u001b[0m\u001b[0;34m,\u001b[0m \u001b[0merrors\u001b[0m\u001b[0;34m=\u001b[0m\u001b[0merrors\u001b[0m\u001b[0;34m)\u001b[0m\u001b[0;34m\u001b[0m\u001b[0;34m\u001b[0m\u001b[0m\n\u001b[0m\u001b[1;32m   4188\u001b[0m             \u001b[0mresult\u001b[0m \u001b[0;34m=\u001b[0m \u001b[0mself\u001b[0m\u001b[0;34m.\u001b[0m\u001b[0mreindex\u001b[0m\u001b[0;34m(\u001b[0m\u001b[0;34m**\u001b[0m\u001b[0;34m{\u001b[0m\u001b[0maxis_name\u001b[0m\u001b[0;34m:\u001b[0m \u001b[0mnew_axis\u001b[0m\u001b[0;34m}\u001b[0m\u001b[0;34m)\u001b[0m\u001b[0;34m\u001b[0m\u001b[0;34m\u001b[0m\u001b[0m\n\u001b[1;32m   4189\u001b[0m \u001b[0;34m\u001b[0m\u001b[0m\n",
      "\u001b[0;32m~/anaconda3/envs/deeplens/lib/python3.7/site-packages/pandas/core/indexes/base.py\u001b[0m in \u001b[0;36mdrop\u001b[0;34m(self, labels, errors)\u001b[0m\n\u001b[1;32m   5589\u001b[0m         \u001b[0;32mif\u001b[0m \u001b[0mmask\u001b[0m\u001b[0;34m.\u001b[0m\u001b[0many\u001b[0m\u001b[0;34m(\u001b[0m\u001b[0;34m)\u001b[0m\u001b[0;34m:\u001b[0m\u001b[0;34m\u001b[0m\u001b[0;34m\u001b[0m\u001b[0m\n\u001b[1;32m   5590\u001b[0m             \u001b[0;32mif\u001b[0m \u001b[0merrors\u001b[0m \u001b[0;34m!=\u001b[0m \u001b[0;34m\"ignore\"\u001b[0m\u001b[0;34m:\u001b[0m\u001b[0;34m\u001b[0m\u001b[0;34m\u001b[0m\u001b[0m\n\u001b[0;32m-> 5591\u001b[0;31m                 \u001b[0;32mraise\u001b[0m \u001b[0mKeyError\u001b[0m\u001b[0;34m(\u001b[0m\u001b[0;34mf\"{labels[mask]} not found in axis\"\u001b[0m\u001b[0;34m)\u001b[0m\u001b[0;34m\u001b[0m\u001b[0;34m\u001b[0m\u001b[0m\n\u001b[0m\u001b[1;32m   5592\u001b[0m             \u001b[0mindexer\u001b[0m \u001b[0;34m=\u001b[0m \u001b[0mindexer\u001b[0m\u001b[0;34m[\u001b[0m\u001b[0;34m~\u001b[0m\u001b[0mmask\u001b[0m\u001b[0;34m]\u001b[0m\u001b[0;34m\u001b[0m\u001b[0;34m\u001b[0m\u001b[0m\n\u001b[1;32m   5593\u001b[0m         \u001b[0;32mreturn\u001b[0m \u001b[0mself\u001b[0m\u001b[0;34m.\u001b[0m\u001b[0mdelete\u001b[0m\u001b[0;34m(\u001b[0m\u001b[0mindexer\u001b[0m\u001b[0;34m)\u001b[0m\u001b[0;34m\u001b[0m\u001b[0;34m\u001b[0m\u001b[0m\n",
      "\u001b[0;31mKeyError\u001b[0m: \"['OBJID-g' 'H0-g' 'Om0-g' 'exposure_time-g' 'numPix-g' 'pixel_scale-g'\\n 'psf_type-g' 'read_noise-g' 'ccd_gain-g' 'seeing-g'\\n 'magnitude_zero_point-g' 'sky_brightness-g' 'num_exposures-g'\\n 'NUMBER_OF_NOISE_SOURCES-g' 'CONFIGURATION_LABEL-g'\\n 'CONFIGURATION_NAME-g' 'NUMBER_OF_PLANES-g' 'PLANE_1-NUMBER_OF_OBJECTS-g'\\n 'PLANE_1-OBJECT_1-NAME-g' 'PLANE_2-NUMBER_OF_OBJECTS-g'\\n 'PLANE_2-OBJECT_1-NAME-g' 'PLANE_1-OBJECT_1-REDSHIFT-g'\\n 'PLANE_1-OBJECT_1-NUMBER_OF_LIGHT_PROFILES-g'\\n 'PLANE_1-OBJECT_1-NUMBER_OF_SHEAR_PROFILES-g'\\n 'PLANE_1-OBJECT_1-NUMBER_OF_MASS_PROFILES-g' 'PLANE_1-OBJECT_1-HOST-g'\\n 'PLANE_1-OBJECT_1-LIGHT_PROFILE_1-NAME-g'\\n 'PLANE_1-OBJECT_1-LIGHT_PROFILE_1-magnitude-g'\\n 'PLANE_1-OBJECT_1-LIGHT_PROFILE_1-center_x-g'\\n 'PLANE_1-OBJECT_1-LIGHT_PROFILE_1-center_y-g'\\n 'PLANE_2-OBJECT_1-REDSHIFT-g'\\n 'PLANE_2-OBJECT_1-NUMBER_OF_LIGHT_PROFILES-g'\\n 'PLANE_2-OBJECT_1-NUMBER_OF_SHEAR_PROFILES-g'\\n 'PLANE_2-OBJECT_1-NUMBER_OF_MASS_PROFILES-g' 'PLANE_2-OBJECT_1-HOST-g'\\n 'PLANE_1-OBJECT_1-MASS_PROFILE_1-center_x-g'\\n 'PLANE_1-OBJECT_1-MASS_PROFILE_1-center_y-g'\\n 'PLANE_2-OBJECT_1-LIGHT_PROFILE_1-NAME-g'\\n 'PLANE_2-OBJECT_1-LIGHT_PROFILE_1-magnitude-g'\\n 'PLANE_2-OBJECT_1-LIGHT_PROFILE_1-center_x-g'\\n 'PLANE_2-OBJECT_1-LIGHT_PROFILE_1-center_y-g' 'BACKGROUND_IDX-g'\\n 'PLANE_1-REDSHIFT-g' 'PLANE_2-REDSHIFT-g'\\n 'PLANE_1-OBJECT_1-LIGHT_PROFILE_1-R_sersic-g'\\n 'PLANE_1-OBJECT_1-LIGHT_PROFILE_1-n_sersic-g'\\n 'PLANE_1-OBJECT_1-LIGHT_PROFILE_1-e1-g'\\n 'PLANE_1-OBJECT_1-LIGHT_PROFILE_1-e2-g'\\n 'PLANE_1-OBJECT_1-MASS_PROFILE_1-NAME-g'] not found in axis\""
     ]
    }
   ],
   "source": [
    "dataset.CONFIGURATION_1_metadata.drop(col_drop,axis=1)"
   ]
  },
  {
   "cell_type": "code",
   "execution_count": 9,
   "metadata": {
    "colab": {
     "base_uri": "https://localhost:8080/",
     "height": 252
    },
    "executionInfo": {
     "elapsed": 533,
     "status": "ok",
     "timestamp": 1615885694434,
     "user": {
      "displayName": "Emma Hoggett",
      "photoUrl": "https://lh3.googleusercontent.com/a-/AOh14GgPUKVC2O_DRFGM99OSkYdh6iVTYJzQEqnz8pVc7A=s64",
      "userId": "15046273628982635449"
     },
     "user_tz": -60
    },
    "id": "wlFlxpZJuhMg",
    "outputId": "ef94d9ce-108e-46ff-ad3c-3aebc0779752"
   },
   "outputs": [
    {
     "ename": "NameError",
     "evalue": "name 'image_real' is not defined",
     "output_type": "error",
     "traceback": [
      "\u001b[0;31m---------------------------------------------------------------------------\u001b[0m",
      "\u001b[0;31mNameError\u001b[0m                                 Traceback (most recent call last)",
      "\u001b[0;32m<ipython-input-9-33849894a9e2>\u001b[0m in \u001b[0;36m<module>\u001b[0;34m\u001b[0m\n\u001b[0;32m----> 1\u001b[0;31m \u001b[0mview_image\u001b[0m\u001b[0;34m(\u001b[0m\u001b[0mimage_real\u001b[0m\u001b[0;34m)\u001b[0m\u001b[0;34m\u001b[0m\u001b[0;34m\u001b[0m\u001b[0m\n\u001b[0m",
      "\u001b[0;31mNameError\u001b[0m: name 'image_real' is not defined"
     ]
    }
   ],
   "source": [
    "view_image(image_real)"
   ]
  },
  {
   "cell_type": "code",
   "execution_count": null,
   "metadata": {
    "colab": {
     "base_uri": "https://localhost:8080/"
    },
    "executionInfo": {
     "elapsed": 701,
     "status": "ok",
     "timestamp": 1615885697346,
     "user": {
      "displayName": "Emma Hoggett",
      "photoUrl": "https://lh3.googleusercontent.com/a-/AOh14GgPUKVC2O_DRFGM99OSkYdh6iVTYJzQEqnz8pVc7A=s64",
      "userId": "15046273628982635449"
     },
     "user_tz": -60
    },
    "id": "9cwIwYDh0AU2",
    "outputId": "f6c7b003-32ae-4fea-b81a-add355ab5316"
   },
   "outputs": [],
   "source": [
    "dataset.CONFIGURATION_1_images.shape[1]"
   ]
  },
  {
   "cell_type": "code",
   "execution_count": null,
   "metadata": {
    "id": "t4Xe21q35RNj"
   },
   "outputs": [],
   "source": [
    "from helpers import*"
   ]
  },
  {
   "cell_type": "code",
   "execution_count": null,
   "metadata": {
    "colab": {
     "base_uri": "https://localhost:8080/"
    },
    "executionInfo": {
     "elapsed": 15205,
     "status": "ok",
     "timestamp": 1615891476906,
     "user": {
      "displayName": "Emma Hoggett",
      "photoUrl": "https://lh3.googleusercontent.com/a-/AOh14GgPUKVC2O_DRFGM99OSkYdh6iVTYJzQEqnz8pVc7A=s64",
      "userId": "15046273628982635449"
     },
     "user_tz": -60
    },
    "id": "p4owKcjElE5C",
    "outputId": "3d758d11-726f-49a6-b4bc-15b1ca72dca6"
   },
   "outputs": [
    {
     "name": "stdout",
     "output_type": "stream",
     "text": [
      "drive/My Drive/Colab Notebooks/deeplens/data/configFile/config_model1.yaml\n",
      "drive/My Drive/Colab Notebooks/deeplens/data/configFile/config_model2.yaml\n",
      "drive/My Drive/Colab Notebooks/deeplens/data/configFile/config_model3.yaml\n"
     ]
    }
   ],
   "source": [
    "# Build the four classes \n",
    "config_repo_model = 'drive/My Drive/Colab Notebooks/deeplens/data/configFile/config_model'\n",
    "\n",
    "\n",
    "for i in np.arange(1,4):\n",
    "    model_name = config_repo_model + str(i) + '.yaml'\n",
    "    print(model_name)\n",
    "    res = Residual(model_name)\n",
    "    res.build(i)"
   ]
  },
  {
   "cell_type": "code",
   "execution_count": null,
   "metadata": {
    "colab": {
     "base_uri": "https://localhost:8080/"
    },
    "executionInfo": {
     "elapsed": 772,
     "status": "ok",
     "timestamp": 1615891379568,
     "user": {
      "displayName": "Emma Hoggett",
      "photoUrl": "https://lh3.googleusercontent.com/a-/AOh14GgPUKVC2O_DRFGM99OSkYdh6iVTYJzQEqnz8pVc7A=s64",
      "userId": "15046273628982635449"
     },
     "user_tz": -60
    },
    "id": "Yz2AusPjoUU7",
    "outputId": "e5196c36-f316-4274-b2b7-ffcdfbd48928"
   },
   "outputs": [
    {
     "data": {
      "text/plain": [
       "(array([[[[-1.62085979e-03],\n",
       "          [ 3.69901968e-03],\n",
       "          [-1.97638073e-04],\n",
       "          ...,\n",
       "          [-2.10783619e-03],\n",
       "          [ 4.22798730e-03],\n",
       "          [ 5.96528335e-03]],\n",
       " \n",
       "         [[ 1.13965332e-03],\n",
       "          [-3.82297457e-04],\n",
       "          [ 6.73672446e-03],\n",
       "          ...,\n",
       "          [ 2.35869938e-03],\n",
       "          [-4.29329734e-03],\n",
       "          [ 2.69321480e-03]],\n",
       " \n",
       "         [[-6.03198967e-03],\n",
       "          [-5.39336842e-03],\n",
       "          [-1.71191022e-03],\n",
       "          ...,\n",
       "          [-1.71671604e-03],\n",
       "          [-2.25336588e-03],\n",
       "          [ 1.14071146e-02]],\n",
       " \n",
       "         ...,\n",
       " \n",
       "         [[ 1.52535281e-04],\n",
       "          [ 1.14257469e-02],\n",
       "          [-3.09854413e-03],\n",
       "          ...,\n",
       "          [-8.68194260e-04],\n",
       "          [-9.75763169e-04],\n",
       "          [-2.47636129e-03]],\n",
       " \n",
       "         [[ 2.29622340e-03],\n",
       "          [-5.41482793e-04],\n",
       "          [-7.07218301e-03],\n",
       "          ...,\n",
       "          [ 1.09069079e-02],\n",
       "          [ 9.15397450e-03],\n",
       "          [-5.69016611e-04]],\n",
       " \n",
       "         [[-3.10746170e-03],\n",
       "          [-1.57650049e-03],\n",
       "          [ 4.34870746e-04],\n",
       "          ...,\n",
       "          [-6.58192134e-04],\n",
       "          [ 3.39405084e-03],\n",
       "          [-6.72449526e-04]]],\n",
       " \n",
       " \n",
       "        [[[ 8.06785144e-03],\n",
       "          [ 5.77285968e-03],\n",
       "          [-3.27426648e-03],\n",
       "          ...,\n",
       "          [ 2.77376848e-03],\n",
       "          [ 2.28086825e-03],\n",
       "          [-8.36627904e-03]],\n",
       " \n",
       "         [[ 7.47462261e-03],\n",
       "          [-8.91460262e-03],\n",
       "          [ 4.48811070e-03],\n",
       "          ...,\n",
       "          [-6.33612207e-03],\n",
       "          [-1.23666600e-02],\n",
       "          [-6.26080480e-03]],\n",
       " \n",
       "         [[-1.66766588e-03],\n",
       "          [ 2.14772318e-03],\n",
       "          [ 9.44677451e-03],\n",
       "          ...,\n",
       "          [-2.11769777e-03],\n",
       "          [ 1.72235499e-03],\n",
       "          [ 9.07403567e-03]],\n",
       " \n",
       "         ...,\n",
       " \n",
       "         [[-2.04332832e-03],\n",
       "          [-2.31704599e-03],\n",
       "          [ 2.88519579e-03],\n",
       "          ...,\n",
       "          [ 3.62503299e-03],\n",
       "          [-2.70784279e-03],\n",
       "          [-9.15854379e-04]],\n",
       " \n",
       "         [[ 3.68435192e-03],\n",
       "          [ 1.11015905e-03],\n",
       "          [-7.98244138e-03],\n",
       "          ...,\n",
       "          [ 2.55112170e-03],\n",
       "          [ 4.62519200e-03],\n",
       "          [-1.12758970e-02]],\n",
       " \n",
       "         [[ 4.67600881e-04],\n",
       "          [ 2.99223730e-03],\n",
       "          [ 1.05678180e-03],\n",
       "          ...,\n",
       "          [-5.37352962e-03],\n",
       "          [ 3.92185191e-03],\n",
       "          [ 7.32211597e-03]]],\n",
       " \n",
       " \n",
       "        [[[ 2.36863109e-03],\n",
       "          [-3.28587883e-03],\n",
       "          [-4.63246090e-03],\n",
       "          ...,\n",
       "          [-6.76591287e-03],\n",
       "          [ 4.57336895e-03],\n",
       "          [ 1.04808784e-03]],\n",
       " \n",
       "         [[ 2.39775570e-03],\n",
       "          [-2.96541889e-03],\n",
       "          [ 1.72434949e-03],\n",
       "          ...,\n",
       "          [-1.16193831e-03],\n",
       "          [-4.13542554e-03],\n",
       "          [-7.46948518e-03]],\n",
       " \n",
       "         [[ 1.45088204e-03],\n",
       "          [-2.98409753e-03],\n",
       "          [-7.84058402e-03],\n",
       "          ...,\n",
       "          [ 1.67132250e-04],\n",
       "          [ 3.95199949e-03],\n",
       "          [-4.28052551e-03]],\n",
       " \n",
       "         ...,\n",
       " \n",
       "         [[-2.73304083e-03],\n",
       "          [-4.65035311e-04],\n",
       "          [-3.35558382e-03],\n",
       "          ...,\n",
       "          [ 2.71613276e-03],\n",
       "          [ 1.37601773e-02],\n",
       "          [ 1.01683466e-03]],\n",
       " \n",
       "         [[ 6.76489166e-03],\n",
       "          [-7.53341268e-03],\n",
       "          [ 3.50797208e-03],\n",
       "          ...,\n",
       "          [-1.72077527e-03],\n",
       "          [-5.42568160e-04],\n",
       "          [-1.09306267e-02]],\n",
       " \n",
       "         [[-5.35792535e-03],\n",
       "          [ 3.77160558e-03],\n",
       "          [ 3.04530257e-03],\n",
       "          ...,\n",
       "          [-1.14095964e-02],\n",
       "          [-3.07250512e-03],\n",
       "          [ 1.24545732e-02]]],\n",
       " \n",
       " \n",
       "        ...,\n",
       " \n",
       " \n",
       "        [[[-7.41428239e-03],\n",
       "          [ 3.49395139e-03],\n",
       "          [ 5.08714431e-03],\n",
       "          ...,\n",
       "          [ 2.28627866e-03],\n",
       "          [ 4.44263643e-03],\n",
       "          [-4.33056843e-03]],\n",
       " \n",
       "         [[-7.15368839e-03],\n",
       "          [-2.08404109e-03],\n",
       "          [-8.29482926e-03],\n",
       "          ...,\n",
       "          [-5.17788914e-03],\n",
       "          [-1.41004029e-03],\n",
       "          [-3.17509141e-03]],\n",
       " \n",
       "         [[ 8.72529709e-03],\n",
       "          [ 1.02409087e-02],\n",
       "          [-2.65743213e-03],\n",
       "          ...,\n",
       "          [ 8.66599893e-03],\n",
       "          [-1.83290969e-03],\n",
       "          [-3.88171617e-03]],\n",
       " \n",
       "         ...,\n",
       " \n",
       "         [[-3.50213273e-03],\n",
       "          [-5.64779600e-03],\n",
       "          [-9.52504098e-04],\n",
       "          ...,\n",
       "          [ 1.30634935e-03],\n",
       "          [-2.33561278e-03],\n",
       "          [-1.63250484e-03]],\n",
       " \n",
       "         [[-1.46140310e-02],\n",
       "          [ 4.46785276e-04],\n",
       "          [ 8.44670116e-03],\n",
       "          ...,\n",
       "          [ 3.69336324e-06],\n",
       "          [ 1.06466554e-03],\n",
       "          [-1.77885995e-03]],\n",
       " \n",
       "         [[ 5.70703934e-03],\n",
       "          [ 1.00971538e-02],\n",
       "          [-4.59795569e-03],\n",
       "          ...,\n",
       "          [-5.96185325e-03],\n",
       "          [-5.05952152e-03],\n",
       "          [ 3.11598681e-03]]],\n",
       " \n",
       " \n",
       "        [[[-7.22152190e-05],\n",
       "          [-4.03825595e-03],\n",
       "          [ 1.16866699e-03],\n",
       "          ...,\n",
       "          [ 8.68187468e-04],\n",
       "          [ 3.33619238e-03],\n",
       "          [ 3.43402570e-03]],\n",
       " \n",
       "         [[ 5.21914633e-04],\n",
       "          [-6.26297944e-04],\n",
       "          [-2.71823426e-03],\n",
       "          ...,\n",
       "          [ 1.72956719e-03],\n",
       "          [-6.33550358e-03],\n",
       "          [-4.24993225e-03]],\n",
       " \n",
       "         [[-1.41557829e-03],\n",
       "          [ 1.26345228e-03],\n",
       "          [ 8.54323855e-04],\n",
       "          ...,\n",
       "          [-9.12797297e-03],\n",
       "          [ 1.56902139e-03],\n",
       "          [ 2.45570851e-03]],\n",
       " \n",
       "         ...,\n",
       " \n",
       "         [[ 2.47251621e-03],\n",
       "          [ 5.18394948e-03],\n",
       "          [ 1.05219878e-02],\n",
       "          ...,\n",
       "          [-3.44151122e-03],\n",
       "          [ 7.80566901e-04],\n",
       "          [-6.02991032e-03]],\n",
       " \n",
       "         [[ 4.14054563e-03],\n",
       "          [ 5.50864678e-03],\n",
       "          [ 1.08768881e-03],\n",
       "          ...,\n",
       "          [-3.18002373e-03],\n",
       "          [ 1.49608410e-03],\n",
       "          [-8.42077273e-03]],\n",
       " \n",
       "         [[ 4.50656549e-03],\n",
       "          [ 4.97982461e-03],\n",
       "          [-5.85448808e-04],\n",
       "          ...,\n",
       "          [ 5.12967408e-03],\n",
       "          [-3.43610491e-03],\n",
       "          [-9.42648376e-05]]],\n",
       " \n",
       " \n",
       "        [[[ 5.86295565e-03],\n",
       "          [ 2.42914245e-03],\n",
       "          [-4.73942157e-03],\n",
       "          ...,\n",
       "          [ 7.84912390e-03],\n",
       "          [-6.42705933e-04],\n",
       "          [-5.78240413e-04]],\n",
       " \n",
       "         [[ 6.18620632e-03],\n",
       "          [-7.18368356e-03],\n",
       "          [ 5.63771259e-03],\n",
       "          ...,\n",
       "          [-1.26438980e-03],\n",
       "          [-1.31164024e-02],\n",
       "          [ 9.46733663e-03]],\n",
       " \n",
       "         [[ 8.40200655e-04],\n",
       "          [-3.44075074e-03],\n",
       "          [-1.02654386e-03],\n",
       "          ...,\n",
       "          [ 6.31148119e-03],\n",
       "          [-3.67889672e-03],\n",
       "          [-5.03093641e-03]],\n",
       " \n",
       "         ...,\n",
       " \n",
       "         [[-5.18218124e-05],\n",
       "          [-2.52967312e-04],\n",
       "          [-1.15541184e-03],\n",
       "          ...,\n",
       "          [-4.11223647e-03],\n",
       "          [ 8.47541708e-03],\n",
       "          [ 4.19009971e-03]],\n",
       " \n",
       "         [[ 7.29120929e-03],\n",
       "          [-1.07951718e-02],\n",
       "          [ 2.25064996e-03],\n",
       "          ...,\n",
       "          [-4.06534376e-03],\n",
       "          [ 2.82501081e-03],\n",
       "          [-1.74001900e-03]],\n",
       " \n",
       "         [[-2.19978602e-03],\n",
       "          [-6.63771339e-03],\n",
       "          [ 1.59059528e-03],\n",
       "          ...,\n",
       "          [ 2.66621774e-03],\n",
       "          [-1.87095709e-03],\n",
       "          [-4.44916128e-03]]]]),\n",
       "    PLANE_1-OBJECT_1-MASS_PROFILE_1-theta_E-g  ...      class\n",
       " 0                                  39.667004  ...  [0, 0, 0]\n",
       " 1                                  39.667004  ...  [0, 1, 1]\n",
       " 2                                  39.667004  ...  [0, 1, 1]\n",
       " 3                                  39.667004  ...  [0, 1, 1]\n",
       " 0                                  37.986532  ...  [0, 0, 0]\n",
       " 1                                  37.986532  ...  [0, 1, 1]\n",
       " 2                                  37.986532  ...  [0, 1, 1]\n",
       " 3                                  37.986532  ...  [0, 1, 1]\n",
       " 0                                  26.915261  ...  [0, 0, 0]\n",
       " 1                                  26.915261  ...  [0, 1, 1]\n",
       " 2                                  26.915261  ...  [0, 1, 1]\n",
       " 3                                  26.915261  ...  [0, 1, 1]\n",
       " 0                                  34.284494  ...  [0, 0, 0]\n",
       " 1                                  34.284494  ...  [0, 1, 1]\n",
       " 2                                  34.284494  ...  [0, 1, 1]\n",
       " 3                                  34.284494  ...  [0, 1, 1]\n",
       " 0                                   4.689019  ...  [0, 0, 0]\n",
       " 1                                   4.689019  ...  [0, 1, 1]\n",
       " 2                                   4.689019  ...  [0, 1, 1]\n",
       " 3                                   4.689019  ...  [0, 1, 1]\n",
       " 0                                  32.770200  ...  [0, 0, 0]\n",
       " 1                                  32.770200  ...  [0, 1, 1]\n",
       " 2                                  32.770200  ...  [0, 1, 1]\n",
       " 3                                  32.770200  ...  [0, 1, 1]\n",
       " 0                                  40.275246  ...  [0, 0, 0]\n",
       " 1                                  40.275246  ...  [0, 1, 1]\n",
       " 2                                  40.275246  ...  [0, 1, 1]\n",
       " 3                                  40.275246  ...  [0, 1, 1]\n",
       " 0                                   4.484373  ...  [0, 0, 0]\n",
       " 1                                   4.484373  ...  [0, 1, 1]\n",
       " 2                                   4.484373  ...  [0, 1, 1]\n",
       " 3                                   4.484373  ...  [0, 1, 1]\n",
       " 0                                  24.187214  ...  [0, 0, 0]\n",
       " 1                                  24.187214  ...  [0, 1, 1]\n",
       " 2                                  24.187214  ...  [0, 1, 1]\n",
       " 3                                  24.187214  ...  [0, 1, 1]\n",
       " 0                                   0.852937  ...  [0, 0, 0]\n",
       " 1                                   0.852937  ...  [0, 1, 1]\n",
       " 2                                   0.852937  ...  [0, 1, 1]\n",
       " 3                                   0.852937  ...  [0, 1, 1]\n",
       " \n",
       " [40 rows x 8 columns])"
      ]
     },
     "execution_count": 9,
     "metadata": {
      "tags": []
     },
     "output_type": "execute_result"
    }
   ],
   "source": [
    "read_hdf5(3)"
   ]
  }
 ],
 "metadata": {
  "colab": {
   "collapsed_sections": [],
   "name": "deeplens.ipynb",
   "provenance": []
  },
  "kernelspec": {
   "display_name": "Python 3",
   "language": "python",
   "name": "python3"
  },
  "language_info": {
   "codemirror_mode": {
    "name": "ipython",
    "version": 3
   },
   "file_extension": ".py",
   "mimetype": "text/x-python",
   "name": "python",
   "nbconvert_exporter": "python",
   "pygments_lexer": "ipython3",
   "version": "3.7.9"
  }
 },
 "nbformat": 4,
 "nbformat_minor": 4
}
