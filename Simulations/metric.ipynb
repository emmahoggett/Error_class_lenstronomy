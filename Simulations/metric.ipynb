{
 "cells": [
  {
   "cell_type": "code",
   "execution_count": 2,
   "id": "circular-harbor",
   "metadata": {},
   "outputs": [],
   "source": [
    "import matplotlib.pyplot as plt\n",
    "import numpy as np\n",
    "import pandas as pd\n",
    "from sklearn.model_selection import train_test_split\n",
    "\n",
    "import torch\n",
    "from torch.utils.data import DataLoader\n",
    "\n",
    "from helpers.data_generation.file_management import read_hdf5\n",
    "from helpers.data_generation.error_generation_chi2 import Residual, CombineDataset\n",
    "from helpers.model.helpers_model import NeuralNet\n",
    "\n",
    "import warnings\n",
    "warnings.filterwarnings('ignore') \n",
    "from sklearn.metrics import precision_recall_curve, f1_score, auc, accuracy_score, roc_curve, roc_auc_score"
   ]
  },
  {
   "cell_type": "code",
   "execution_count": 3,
   "id": "understood-toddler",
   "metadata": {
    "tags": []
   },
   "outputs": [
    {
     "name": "stdout",
     "output_type": "stream",
     "text": [
      "Data Generation Finished\n"
     ]
    }
   ],
   "source": [
    "# Build the four classes \n",
    "ratio = 0.75\n",
    "percent = np.array([0.005, 0.015, 0.005])\n",
    "size = 600\n",
    "\n",
    "res = Residual()\n",
    "res.build(size, ratio = ratio, per_error = percent)\n",
    "\n",
    "print('Data Generation Finished')"
   ]
  },
  {
   "cell_type": "code",
   "execution_count": 4,
   "id": "living-mongolia",
   "metadata": {},
   "outputs": [
    {
     "name": "stdout",
     "output_type": "stream",
     "text": [
      "Reading Data Finished\n"
     ]
    }
   ],
   "source": [
    "ratio = 0.75\n",
    "percent = np.array([0.005, 0.015, 0.005])\n",
    "size = 6000\n",
    "str_ID =  \"S\"+str(size)+\"R\"+str(int(ratio*100))\n",
    "[final_array, metadata] = read_hdf5(str_ID)\n",
    "metadata ['ID'] = np.arange(0,final_array.shape[0])\n",
    "\n",
    "data_set = CombineDataset(metadata,'ID','class',final_array)\n",
    "\n",
    "print('Reading Data Finished')\n",
    "data_train, data_test = train_test_split(data_set,train_size=0.9,random_state=42)\n",
    "\n",
    "batch_size = 50\n",
    "max_epoch = 50\n",
    "\n",
    "\n",
    "loader_train = DataLoader(data_train, batch_size = batch_size, shuffle = True, \n",
    "                          num_workers = 0, drop_last=True)\n",
    "\n",
    "loader_test = DataLoader(data_test, batch_size = batch_size, shuffle = True, \n",
    "                         num_workers = 0, drop_last=True)"
   ]
  },
  {
   "cell_type": "code",
   "execution_count": 5,
   "id": "known-cliff",
   "metadata": {},
   "outputs": [
    {
     "name": "stdout",
     "output_type": "stream",
     "text": [
      "epoch: 1.000, exactmatch: 0.337\n",
      "epoch: 2.000, exactmatch: 0.598\n",
      "epoch: 3.000, exactmatch: 0.762\n",
      "epoch: 5.000, exactmatch: 0.788\n",
      "epoch: 6.000, exactmatch: 0.817\n",
      "epoch: 10.000, exactmatch: 0.833\n",
      "epoch: 11.000, exactmatch: 0.838\n",
      "epoch: 13.000, exactmatch: 0.860\n",
      "epoch: 16.000, exactmatch: 0.875\n",
      "epoch: 24.000, exactmatch: 0.902\n",
      "Finished Training\n"
     ]
    }
   ],
   "source": [
    "metric = 'exactmatch'\n",
    "netacc = NeuralNet('BasicCNN', 'SGD/momentum')\n",
    "for epoch in range(max_epoch):\n",
    "    netacc.train(loader_train)\n",
    "    res = netacc.test(loader_test, metric = metric)\n",
    "    \n",
    "print('Finished Training')\n",
    "epoch = netacc.load_checkpoint('_optimal')\n",
    "\n",
    "with torch.no_grad():\n",
    "    predictions = []\n",
    "    targets = []\n",
    "    for data in loader_test:\n",
    "        images, meta, labels = data\n",
    "        outputs = netacc.net(images)\n",
    "\n",
    "        predictions.extend(outputs.cpu().numpy())\n",
    "        targets.extend(labels.cpu().numpy())\n",
    "        result = netacc.calculate_metrics(np.round(np.array(predictions)), np.array(targets))\n",
    "    predictions =np.array(predictions); targets = np.array(targets)"
   ]
  },
  {
   "cell_type": "code",
   "execution_count": 6,
   "id": "roman-provider",
   "metadata": {},
   "outputs": [
    {
     "data": {
      "image/png": "[encoded data removed]",
      "text/plain": [
       "<Figure size 432x288 with 1 Axes>"
      ]
     },
     "metadata": {
      "needs_background": "light"
     },
     "output_type": "display_data"
    }
   ],
   "source": [
    "# calculate precision-recall curve\n",
    "precision0, recall0, thresholds0 = precision_recall_curve(targets[:,0], predictions[:,0])\n",
    "precision1, recall1, thresholds1 = precision_recall_curve(targets[:,1], predictions[:,1])\n",
    "\n",
    "plt.plot(recall0, precision0, label='Mass error')\n",
    "plt.plot(recall1, precision1, label='Source error')\n",
    "# axis labels\n",
    "plt.xlabel('Recall[-]')\n",
    "plt.ylabel('Precision[-]')\n",
    "# show the legend\n",
    "plt.legend()\n",
    "# show the plot\n",
    "\n",
    "plt.savefig('figures/metric/'+metric+'RecallPrecisionfinal.jpeg')\n",
    "plt.grid()\n",
    "plt.show()"
   ]
  },
  {
   "cell_type": "code",
   "execution_count": 7,
   "id": "described-deputy",
   "metadata": {},
   "outputs": [
    {
     "data": {
      "image/png": "[encoded data removed]",
      "text/plain": [
       "<Figure size 432x288 with 1 Axes>"
      ]
     },
     "metadata": {
      "needs_background": "light"
     },
     "output_type": "display_data"
    },
    {
     "name": "stdout",
     "output_type": "stream",
     "text": [
      "AUC score: 0.950, with exactmatch metric\n"
     ]
    }
   ],
   "source": [
    "# calculate roc curves\n",
    "ns_fpr, ns_tpr, _ = roc_curve(targets[:,0], predictions[:,0])\n",
    "lr_fpr, lr_tpr, _ = roc_curve(targets[:,1], predictions[:,1])\n",
    "# plot the roc curve for the model\n",
    "plt.plot(ns_fpr, ns_tpr, label='Mass error')\n",
    "plt.plot(lr_fpr, lr_tpr, label='Source error')\n",
    "# axis labels\n",
    "plt.xlabel('False Positive Rate[-]')\n",
    "plt.ylabel('True Positive Rate[-]')\n",
    "# show the legend\n",
    "plt.legend()\n",
    "plt.grid()\n",
    "# show the plot\n",
    "plt.savefig('figures/metric/'+metric+'ROCfinal.jpeg')\n",
    "plt.show()\n",
    "\n",
    "txt = \"AUC score: {:.3f}, with \"+metric+\" metric\" \n",
    "print(txt.format(result['auc']))"
   ]
  },
  {
   "cell_type": "code",
   "execution_count": 8,
   "id": "standing-midwest",
   "metadata": {},
   "outputs": [
    {
     "name": "stdout",
     "output_type": "stream",
     "text": [
      "Reading data Finished\n",
      "epoch: 1.000, auc: 0.525\n",
      "epoch: 2.000, auc: 0.658\n",
      "epoch: 3.000, auc: 0.723\n",
      "epoch: 4.000, auc: 0.764\n",
      "epoch: 5.000, auc: 0.916\n",
      "epoch: 7.000, auc: 0.939\n",
      "epoch: 8.000, auc: 0.948\n",
      "epoch: 9.000, auc: 0.953\n",
      "epoch: 11.000, auc: 0.957\n",
      "epoch: 13.000, auc: 0.965\n",
      "epoch: 15.000, auc: 0.968\n",
      "epoch: 18.000, auc: 0.973\n",
      "epoch: 20.000, auc: 0.974\n",
      "epoch: 21.000, auc: 0.977\n",
      "epoch: 22.000, auc: 0.979\n",
      "epoch: 24.000, auc: 0.980\n",
      "epoch: 25.000, auc: 0.980\n",
      "epoch: 30.000, auc: 0.981\n",
      "epoch: 35.000, auc: 0.982\n",
      "epoch: 37.000, auc: 0.984\n",
      "epoch: 53.000, auc: 0.986\n",
      "epoch: 66.000, auc: 0.987\n",
      "Finished Training\n",
      "Reading data Finished\n",
      "epoch: 1.000, auc: 0.708\n",
      "epoch: 2.000, auc: 0.763\n",
      "epoch: 3.000, auc: 0.871\n",
      "epoch: 4.000, auc: 0.892\n",
      "epoch: 5.000, auc: 0.907\n",
      "epoch: 6.000, auc: 0.912\n",
      "epoch: 8.000, auc: 0.919\n",
      "epoch: 9.000, auc: 0.921\n",
      "epoch: 12.000, auc: 0.933\n",
      "epoch: 14.000, auc: 0.936\n",
      "epoch: 19.000, auc: 0.939\n",
      "epoch: 21.000, auc: 0.941\n",
      "epoch: 31.000, auc: 0.949\n",
      "Finished Training\n",
      "Reading data Finished\n",
      "epoch: 1.000, auc: 0.623\n",
      "epoch: 2.000, auc: 0.770\n",
      "epoch: 3.000, auc: 0.844\n",
      "epoch: 4.000, auc: 0.893\n",
      "epoch: 5.000, auc: 0.911\n",
      "epoch: 6.000, auc: 0.915\n",
      "epoch: 7.000, auc: 0.926\n",
      "epoch: 8.000, auc: 0.936\n",
      "epoch: 10.000, auc: 0.937\n",
      "epoch: 13.000, auc: 0.947\n",
      "epoch: 14.000, auc: 0.947\n",
      "epoch: 15.000, auc: 0.952\n",
      "epoch: 21.000, auc: 0.955\n",
      "epoch: 23.000, auc: 0.955\n",
      "epoch: 34.000, auc: 0.956\n",
      "epoch: 42.000, auc: 0.956\n",
      "Finished Training\n"
     ]
    },
    {
     "data": {
      "image/png": "[encoded data removed]",
      "text/plain": [
       "<Figure size 720x720 with 3 Axes>"
      ]
     },
     "metadata": {
      "needs_background": "light"
     },
     "output_type": "display_data"
    }
   ],
   "source": [
    "f, axes = plt.subplots(3, figsize=(10, 10), sharex='all', sharey='all',\n",
    "                       gridspec_kw=dict(left=0.1, right=0.9,bottom=0.1, top=0.9))\n",
    "\n",
    "percent = np.array([[0.0074, 0.015, 0.0025], [0.005, 0.0142, 0.005], [0.005, 0.0142, 0.0049]])\n",
    "size = 6000; ratio = 0.75;\n",
    "\n",
    "for ii in range(3):\n",
    "\n",
    "    res = Residual()\n",
    "    res.build(size, ratio = ratio, per_error = percent[ii,:])\n",
    "\n",
    "    str_ID =  \"S\"+str(size)+\"R\"+str(int(ratio*100))\n",
    "    [final_array, metadata] = read_hdf5(str_ID)\n",
    "\n",
    "    print('Reading data Finished')\n",
    "    \n",
    "    str_ID =  \"S\"+str(size)+\"R\"+str(int(ratio*100))\n",
    "    [final_array, metadata] = read_hdf5(str_ID)\n",
    "    metadata ['ID'] = np.arange(0,final_array.shape[0])\n",
    "\n",
    "    data_set = CombineDataset(metadata,'ID','class',final_array)\n",
    "    \n",
    "    data_train, data_test = train_test_split(data_set,train_size=0.9,random_state=42)\n",
    "\n",
    "    batch_size = 50\n",
    "    max_epoch = 70\n",
    "\n",
    "\n",
    "    loader_train = DataLoader(data_train, batch_size = batch_size, shuffle = True, \n",
    "                              num_workers = 0, drop_last=True)\n",
    "\n",
    "    loader_test = DataLoader(data_test, batch_size = batch_size, shuffle = True, \n",
    "                             num_workers = 0, drop_last=True)\n",
    "    \n",
    "    metric = 'auc'\n",
    "    netacc = NeuralNet('BasicCNN', 'SGD/momentum')\n",
    "    for epoch in range(max_epoch):\n",
    "        netacc.train(loader_train)\n",
    "        res = netacc.test(loader_test, metric = metric)\n",
    "\n",
    "    print('Finished Training')\n",
    "    epoch = netacc.load_checkpoint('_optimal')\n",
    "\n",
    "    with torch.no_grad():\n",
    "        predictions = []\n",
    "        targets = []\n",
    "        for data in loader_test:\n",
    "            images, meta, labels = data\n",
    "            outputs = netacc.net(images)\n",
    "\n",
    "            predictions.extend(outputs.cpu().numpy())\n",
    "            targets.extend(labels.cpu().numpy())\n",
    "            result = netacc.calculate_metrics(np.round(np.array(predictions)), np.array(targets))\n",
    "        predictions =np.array(predictions); targets = np.array(targets)\n",
    "\n",
    "    ns_fpr, ns_tpr, _ = roc_curve(targets[:,0], predictions[:,0])\n",
    "    lr_fpr, lr_tpr, _ = roc_curve(targets[:,1], predictions[:,1])\n",
    "    axes[ii].plot(ns_fpr, ns_tpr, label='Mass error')\n",
    "    axes[ii].plot(lr_fpr, lr_tpr, label='Source error')\n",
    "    axes[ii].set_ylabel('True Positive Rate[-]')\n",
    "    axes[ii].set_xlabel('False Positive Rate[-]')\n",
    "    axes[ii].grid()\n",
    "    \n",
    "axes[0].title.set_text('Chi2 with noise consideration')\n",
    "axes[1].title.set_text('Chi2')\n",
    "axes[2].title.set_text('Distance')\n",
    "plt.legend()\n",
    "plt.savefig('figures/metric/'+metric+'ROC.jpeg')\n",
    "plt.show()"
   ]
  }
 ],
 "metadata": {
  "kernelspec": {
   "display_name": "Python 3",
   "language": "python",
   "name": "python3"
  },
  "language_info": {
   "codemirror_mode": {
    "name": "ipython",
    "version": 3
   },
   "file_extension": ".py",
   "mimetype": "text/x-python",
   "name": "python",
   "nbconvert_exporter": "python",
   "pygments_lexer": "ipython3",
   "version": "3.7.9"
  }
 },
 "nbformat": 4,
 "nbformat_minor": 5
}
