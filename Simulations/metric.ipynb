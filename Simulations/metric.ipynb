{
 "cells": [
  {
   "cell_type": "code",
   "execution_count": 1,
   "id": "suspended-quick",
   "metadata": {},
   "outputs": [],
   "source": [
    "import matplotlib.pyplot as plt\n",
    "import numpy as np\n",
    "import pandas as pd\n",
    "from sklearn.model_selection import train_test_split\n",
    "\n",
    "import torch\n",
    "from torch.utils.data import DataLoader\n",
    "\n",
    "from helpers.data_generation.file_management import read_hdf5\n",
    "from helpers.data_generation.error_generation import Residual, CombineDataset\n",
    "from helpers.model.helpers_model import NeuralNet\n",
    "\n",
    "import warnings\n",
    "warnings.filterwarnings('ignore') \n",
    "\n",
    "from sklearn.metrics import precision_recall_curve, f1_score, auc, accuracy_score, roc_curve, roc_auc_score"
   ]
  },
  {
   "cell_type": "code",
   "execution_count": 2,
   "id": "permanent-elder",
   "metadata": {
    "tags": []
   },
   "outputs": [
    {
     "name": "stdout",
     "output_type": "stream",
     "text": [
      "Data Generation Finished\n"
     ]
    }
   ],
   "source": [
    "# Build the four classes \n",
    "ratio = 0.75\n",
    "percent = np.array([0.005, 0.015, 0.005])\n",
    "size = 6000\n",
    "\n",
    "res = Residual()\n",
    "res.build(size, ratio = ratio, per_error = percent)\n",
    "\n",
    "print('Data Generation Finished')"
   ]
  },
  {
   "cell_type": "code",
   "execution_count": 3,
   "id": "received-exclusion",
   "metadata": {},
   "outputs": [
    {
     "name": "stdout",
     "output_type": "stream",
     "text": [
      "Reading Data Finished\n"
     ]
    }
   ],
   "source": [
    "str_ID =  \"S\"+str(size)+\"R\"+str(int(ratio*100))\n",
    "[final_array, metadata] = read_hdf5(str_ID)\n",
    "metadata ['ID'] = np.arange(0,final_array.shape[0])\n",
    "\n",
    "data_set = CombineDataset(metadata,'ID','class',final_array)\n",
    "\n",
    "print('Reading Data Finished')\n",
    "data_train, data_test = train_test_split(data_set,train_size=0.9,random_state=42)\n",
    "\n",
    "batch_size = 50\n",
    "max_epoch = 70\n",
    "\n",
    "\n",
    "loader_train = DataLoader(data_train, batch_size = batch_size, shuffle = True, \n",
    "                          num_workers = 0, drop_last=True)\n",
    "\n",
    "loader_test = DataLoader(data_test, batch_size = batch_size, shuffle = True, \n",
    "                         num_workers = 0, drop_last=True)"
   ]
  },
  {
   "cell_type": "code",
   "execution_count": 4,
   "id": "bizarre-posting",
   "metadata": {},
   "outputs": [
    {
     "name": "stdout",
     "output_type": "stream",
     "text": [
      "epoch: 1.000, accuracy: 0.545\n",
      "epoch: 2.000, accuracy: 0.621\n",
      "epoch: 3.000, accuracy: 0.686\n",
      "epoch: 4.000, accuracy: 0.756\n",
      "epoch: 5.000, accuracy: 0.798\n",
      "epoch: 6.000, accuracy: 0.836\n",
      "epoch: 7.000, accuracy: 0.847\n",
      "epoch: 8.000, accuracy: 0.856\n",
      "epoch: 9.000, accuracy: 0.866\n",
      "epoch: 10.000, accuracy: 0.871\n",
      "epoch: 11.000, accuracy: 0.877\n",
      "epoch: 12.000, accuracy: 0.878\n",
      "epoch: 13.000, accuracy: 0.889\n",
      "epoch: 15.000, accuracy: 0.890\n",
      "epoch: 17.000, accuracy: 0.890\n",
      "epoch: 18.000, accuracy: 0.893\n",
      "epoch: 20.000, accuracy: 0.897\n",
      "epoch: 23.000, accuracy: 0.900\n",
      "epoch: 25.000, accuracy: 0.902\n",
      "epoch: 26.000, accuracy: 0.906\n",
      "epoch: 28.000, accuracy: 0.907\n",
      "epoch: 35.000, accuracy: 0.913\n",
      "epoch: 37.000, accuracy: 0.914\n",
      "Finished Training\n"
     ]
    }
   ],
   "source": [
    "metric = 'accuracy'\n",
    "netacc = NeuralNet('BasicCNN', 'Adam')\n",
    "for epoch in range(max_epoch):\n",
    "    netacc.train(loader_train)\n",
    "    res = netacc.test(loader_test, metric = metric)\n",
    "    \n",
    "print('Finished Training')\n",
    "epoch = netacc.load_checkpoint()\n",
    "\n",
    "with torch.no_grad():\n",
    "    predictions = []\n",
    "    targets = []\n",
    "    for data in loader_test:\n",
    "        images, meta, labels = data\n",
    "        outputs = netacc.net(images)\n",
    "\n",
    "        predictions.extend(outputs.cpu().numpy())\n",
    "        targets.extend(labels.cpu().numpy())\n",
    "        result = netacc.calculate_metrics(np.round(np.array(predictions)), np.array(targets))\n",
    "    predictions =np.array(predictions); targets = np.array(targets)"
   ]
  },
  {
   "cell_type": "code",
   "execution_count": 5,
   "id": "parallel-choir",
   "metadata": {},
   "outputs": [
    {
     "data": {
      "image/png": "[encoded data removed]",
      "text/plain": [
       "<Figure size 432x288 with 1 Axes>"
      ]
     },
     "metadata": {
      "needs_background": "light"
     },
     "output_type": "display_data"
    }
   ],
   "source": [
    "# calculate precision-recall curve\n",
    "precision0, recall0, thresholds0 = precision_recall_curve(targets[:,0], predictions[:,0])\n",
    "precision1, recall1, thresholds1 = precision_recall_curve(targets[:,1], predictions[:,1])\n",
    "\n",
    "plt.plot(recall0, precision0, label='Mass error')\n",
    "plt.plot(recall1, precision1, label='Source error')\n",
    "# axis labels\n",
    "plt.xlabel('Recall[-]')\n",
    "plt.ylabel('Precision[-]')\n",
    "# show the legend\n",
    "plt.legend()\n",
    "# show the plot\n",
    "\n",
    "plt.savefig('figures/metric/'+metric+'RecallPrecision.jpeg')\n",
    "plt.grid()\n",
    "plt.show()"
   ]
  },
  {
   "cell_type": "code",
   "execution_count": 6,
   "id": "identified-export",
   "metadata": {},
   "outputs": [
    {
     "data": {
      "image/png": "[encoded data removed]",
      "text/plain": [
       "<Figure size 432x288 with 1 Axes>"
      ]
     },
     "metadata": {
      "needs_background": "light"
     },
     "output_type": "display_data"
    },
    {
     "name": "stdout",
     "output_type": "stream",
     "text": [
      "AUC score: 0.913, with accuracy metric\n"
     ]
    }
   ],
   "source": [
    "# calculate roc curves\n",
    "ns_fpr, ns_tpr, _ = roc_curve(targets[:,0], predictions[:,0])\n",
    "lr_fpr, lr_tpr, _ = roc_curve(targets[:,1], predictions[:,1])\n",
    "# plot the roc curve for the model\n",
    "plt.plot(ns_fpr, ns_tpr, label='Mass error')\n",
    "plt.plot(lr_fpr, lr_tpr, label='Source error')\n",
    "# axis labels\n",
    "plt.xlabel('False Positive Rate[-]')\n",
    "plt.ylabel('True Positive Rate[-]')\n",
    "# show the legend\n",
    "plt.legend()\n",
    "plt.grid()\n",
    "# show the plot\n",
    "plt.savefig('figures/metric/'+metric+'ROC.jpeg')\n",
    "plt.show()\n",
    "\n",
    "txt = \"AUC score: {:.3f}, with \"+metric+\" metric\" \n",
    "print(txt.format(result['auc']))"
   ]
  }
 ],
 "metadata": {
  "kernelspec": {
   "display_name": "Python 3",
   "language": "python",
   "name": "python3"
  },
  "language_info": {
   "codemirror_mode": {
    "name": "ipython",
    "version": 3
   },
   "file_extension": ".py",
   "mimetype": "text/x-python",
   "name": "python",
   "nbconvert_exporter": "python",
   "pygments_lexer": "ipython3",
   "version": "3.7.9"
  }
 },
 "nbformat": 4,
 "nbformat_minor": 5
}
