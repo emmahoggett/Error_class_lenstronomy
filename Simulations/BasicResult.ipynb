{
 "cells": [
  {
   "cell_type": "code",
   "execution_count": 1,
   "id": "breathing-point",
   "metadata": {},
   "outputs": [],
   "source": [
    "import matplotlib.pyplot as plt\n",
    "import numpy as np\n",
    "import pandas as pd\n",
    "from sklearn.model_selection import train_test_split\n",
    "\n",
    "from torch.utils.data import DataLoader\n",
    "from helpers import read_hdf5, CombineDataset\n",
    "from lenshelpers import Residual\n",
    "\n",
    "from model.helpers_model import NeuralNet\n",
    "\n",
    "import warnings\n",
    "warnings.filterwarnings('ignore') "
   ]
  },
  {
   "cell_type": "code",
   "execution_count": null,
   "id": "irish-stereo",
   "metadata": {},
   "outputs": [],
   "source": [
    "# Build the four classes \n",
    "config_repo_model = 'data/configFile/config_model'\n",
    "ratio = 0.5\n",
    "percent = 0.02\n",
    "\n",
    "size = 3000\n",
    "for i in np.arange(1,4):\n",
    "    #model_name = config_repo_model + str(i) + '.yaml'\n",
    "    res = Residual()\n",
    "    res.build(size, i, ratio = ratio, per_error = percent)\n",
    "\n",
    "print('Data Generation Finished')"
   ]
  },
  {
   "cell_type": "code",
   "execution_count": null,
   "id": "south-double",
   "metadata": {},
   "outputs": [],
   "source": [
    "metadata = pd.DataFrame()\n",
    "\n",
    "for i in np.arange(1,4):\n",
    "    str_ID = \"E\"+str(i)+\"P\"+str(int(percent*100))+\"R\"+str(int(ratio*100))\n",
    "    [img, meta] = read_hdf5(str_ID, path = \"data/dataSet/\")\n",
    "    metadata = pd.concat([metadata,meta], ignore_index=True)\n",
    "    if i == 1:\n",
    "        final_array = img\n",
    "    else:\n",
    "         final_array = np.concatenate((final_array, img))\n",
    "metadata ['ID'] = np.arange(0,final_array.shape[0])\n",
    "data_set = CombineDataset(metadata,'ID','class',final_array)\n",
    "\n",
    "print('Reading Data Finished')\n",
    "data_train, data_test = train_test_split(data_set,train_size=0.9,random_state=42)\n",
    "\n",
    "batch_size = 50\n",
    "max_epoch = 70\n",
    "\n",
    "\n",
    "loader_train = DataLoader(data_train, batch_size = batch_size, shuffle = True, \n",
    "                          num_workers = 0, drop_last=True)\n",
    "\n",
    "loader_test = DataLoader(data_test, batch_size = batch_size, shuffle = True, \n",
    "                         num_workers = 0, drop_last=True)"
   ]
  },
  {
   "cell_type": "code",
   "execution_count": null,
   "id": "worst-labor",
   "metadata": {},
   "outputs": [],
   "source": [
    "test_accSGD = np.zeros(max_epoch)\n",
    "netbasic = NeuralNet('BasicCNN', 'Adam')\n",
    "for epoch in range(max_epoch):\n",
    "    netbasic.train(loader_train)\n",
    "    res = netbasic.test(loader_test,epoch)\n",
    "    test_accSGD[epoch] = res\n",
    "    \n",
    "print('Finished Training')"
   ]
  },
  {
   "cell_type": "code",
   "execution_count": null,
   "id": "whole-spectacular",
   "metadata": {},
   "outputs": [],
   "source": [
    "test_accADA = np.zeros(max_epoch)\n",
    "netbasic = NeuralNet('BasicTabular', 'Adam')\n",
    "for epoch in range(max_epoch):\n",
    "    netbasic.train(loader_train)\n",
    "    res = netbasic.test(loader_test,epoch)\n",
    "    test_accADA[epoch] = res\n",
    "    \n",
    "print('Finished Training')"
   ]
  },
  {
   "cell_type": "code",
   "execution_count": null,
   "id": "narrow-henry",
   "metadata": {},
   "outputs": [],
   "source": [
    "test_accSGDMOM = np.zeros(max_epoch)\n",
    "netbasic = NeuralNet('BasicCNNTabular', 'Adam')\n",
    "for epoch in range(max_epoch):\n",
    "    netbasic.train(loader_train)\n",
    "    res = netbasic.test(loader_test,epoch)\n",
    "    test_accSGDMOM[epoch] = res\n",
    "    \n",
    "print('Finished Training')"
   ]
  }
 ],
 "metadata": {
  "kernelspec": {
   "display_name": "Python 3",
   "language": "python",
   "name": "python3"
  },
  "language_info": {
   "codemirror_mode": {
    "name": "ipython",
    "version": 3
   },
   "file_extension": ".py",
   "mimetype": "text/x-python",
   "name": "python",
   "nbconvert_exporter": "python",
   "pygments_lexer": "ipython3",
   "version": "3.7.9"
  }
 },
 "nbformat": 4,
 "nbformat_minor": 5
}
