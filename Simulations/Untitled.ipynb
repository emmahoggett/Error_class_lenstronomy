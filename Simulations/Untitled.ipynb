{
 "cells": [
  {
   "cell_type": "code",
   "execution_count": 15,
   "id": "visible-given",
   "metadata": {},
   "outputs": [],
   "source": [
    "import deeplenstronomy.deeplenstronomy as dl\n",
    "import yaml"
   ]
  },
  {
   "cell_type": "code",
   "execution_count": 19,
   "id": "molecular-subcommittee",
   "metadata": {},
   "outputs": [
    {
     "name": "stdout",
     "output_type": "stream",
     "text": [
      "{'DATASET': {'NAME': 'DeeplenstronomyDataset', 'PARAMETERS': {'SIZE': 100, 'OUTDIR': 'SimulationResults', 'SEED': 6}}, 'COSMOLOGY': {'PARAMETERS': {'H0': 73.8, 'Om0': 0.3}}, 'IMAGE': {'PARAMETERS': {'exposure_time': 5400.0, 'numPix': 64, 'pixel_scale': 0.08, 'psf_type': 'GAUSSIAN', 'read_noise': 4, 'ccd_gain': 2.5}}, 'SURVEY': {'PARAMETERS': {'BANDS': 'g', 'seeing': 0.08, 'magnitude_zero_point': 25.96, 'sky_brightness': 22.3, 'num_exposures': 1}}, 'SPECIES': {'GALAXY_1': {'NAME': 'LENS', 'LIGHT_PROFILE_1': {'NAME': 'SERSIC_ELLIPSE', 'PARAMETERS': {'magnitude': 19.5, 'center_x': 0.0, 'center_y': 0.0, 'R_sersic': 10, 'n_sersic': 4, 'e1': 0.2, 'e2': -0.1}}, 'MASS_PROFILE_1': {'NAME': 'SIE', 'PARAMETERS': {'theta_E': 1.0, 'e1': 0.1, 'e2': -0.1, 'center_x': 0.0, 'center_y': 0.0}}}, 'GALAXY_2': {'NAME': 'SOURCE', 'LIGHT_PROFILE_1': {'NAME': 'SERSIC_ELLIPSE', 'PARAMETERS': {'magnitude': 21.5, 'center_x': 0.0, 'center_y': 0.0, 'R_sersic': 6, 'n_sersic': 5, 'e1': 0.2, 'e2': -0.1}}}}, 'GEOMETRY': {'CONFIGURATION_1': {'NAME': 'GALAXY_AGN', 'FRACTION': 1, 'PLANE_1': {'OBJECT_1': 'LENS', 'PARAMETERS': {'REDSHIFT': 0.2}}, 'PLANE_2': {'OBJECT_1': 'SOURCE', 'PARAMETERS': {'REDSHIFT': 0.7}}}}}\n"
     ]
    }
   ],
   "source": [
    "with open('config_init.yaml') as file:\n",
    "    # The FullLoader parameter handles the conversion from YAML\n",
    "    # scalar values to Python the dictionary format\n",
    "    dict_init = yaml.load(file, Loader=yaml.FullLoader)\n",
    "\n",
    "    print(dict_init)"
   ]
  },
  {
   "cell_type": "code",
   "execution_count": 20,
   "id": "saved-chaos",
   "metadata": {},
   "outputs": [],
   "source": [
    "for "
   ]
  },
  {
   "cell_type": "code",
   "execution_count": 25,
   "id": "smaller-healing",
   "metadata": {},
   "outputs": [
    {
     "data": {
      "text/plain": [
       "{'theta_E': 1.0, 'e1': 0.1, 'e2': -0.1, 'center_x': 0.0, 'center_y': 0.0}"
      ]
     },
     "execution_count": 25,
     "metadata": {},
     "output_type": "execute_result"
    }
   ],
   "source": [
    "dict_file ['SPECIES']['GALAXY_1']['MASS_PROFILE_1']['PARAMETERS']"
   ]
  },
  {
   "cell_type": "code",
   "execution_count": 26,
   "id": "finnish-russia",
   "metadata": {},
   "outputs": [
    {
     "data": {
      "text/plain": [
       "{'magnitude': 21.5,\n",
       " 'center_x': 0.0,\n",
       " 'center_y': 0.0,\n",
       " 'R_sersic': 6,\n",
       " 'n_sersic': 5,\n",
       " 'e1': 0.2,\n",
       " 'e2': -0.1}"
      ]
     },
     "execution_count": 26,
     "metadata": {},
     "output_type": "execute_result"
    }
   ],
   "source": [
    "dict_file ['SPECIES']['GALAXY_2']['LIGHT_PROFILE_1']['PARAMETERS']"
   ]
  },
  {
   "cell_type": "code",
   "execution_count": null,
   "id": "extended-iraqi",
   "metadata": {},
   "outputs": [],
   "source": [
    "with open('store_file.yaml', 'w') as file:\n",
    "    documents = yaml.dump(dict_file, file)"
   ]
  },
  {
   "cell_type": "code",
   "execution_count": 21,
   "id": "welcome-missile",
   "metadata": {},
   "outputs": [],
   "source": [
    "dataset = dl.make_dataset('store_file.yaml')"
   ]
  }
 ],
 "metadata": {
  "kernelspec": {
   "display_name": "Python 3",
   "language": "python",
   "name": "python3"
  },
  "language_info": {
   "codemirror_mode": {
    "name": "ipython",
    "version": 3
   },
   "file_extension": ".py",
   "mimetype": "text/x-python",
   "name": "python",
   "nbconvert_exporter": "python",
   "pygments_lexer": "ipython3",
   "version": "3.7.9"
  }
 },
 "nbformat": 4,
 "nbformat_minor": 5
}
